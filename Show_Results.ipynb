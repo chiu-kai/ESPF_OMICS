{
 "cells": [
  {
   "cell_type": "code",
   "execution_count": 1,
   "id": "79661360",
   "metadata": {},
   "outputs": [
    {
     "name": "stdout",
     "output_type": "stream",
     "text": [
      "/data3.5T/S312112030/DeepTTA\n"
     ]
    }
   ],
   "source": [
    "import os\n",
    "os.chdir('/data3.5T/S312112030/DeepTTA')\n",
    "\n",
    "print(os.getcwd())"
   ]
  },
  {
   "cell_type": "code",
   "execution_count": 2,
   "id": "ad89e90b",
   "metadata": {},
   "outputs": [],
   "source": [
    "import argparse\n",
    "# import shutil\n",
    "import pandas as pd\n",
    "import numpy as np\n",
    "import torch\n",
    "import torch.nn as nn\n",
    "import torch.optim as optim\n",
    "from torch.utils.data import  DataLoader, Subset\n",
    "import torch.nn.init as init\n",
    "from sklearn.model_selection import KFold\n",
    "import copy\n",
    "import seaborn as sns\n",
    "import matplotlib.pyplot as plt\n",
    "from scipy import stats\n",
    "import random\n",
    "import gc\n",
    "import os\n",
    "import importlib.util\n",
    "\n",
    "from utils.ESPF_drug2emb import drug2emb_encoder\n",
    "from utils.Model import Omics_DrugESPF_Model\n",
    "from utils.split_data_id import split_id,repeat_func\n",
    "from utils.create_dataloader import OmicsDrugDataset\n",
    "from utils.train import train, evaluation\n",
    "from utils.correlation import correlation_func\n",
    "from utils.plot import loss_curve, correlation_density,Density_Plot_of_AUC_Values\n",
    "from utils.tools import get_data_value_range,set_seed,get_vram_usage\n",
    "from utils.Metrics import MetricsCalculator"
   ]
  },
  {
   "cell_type": "code",
   "execution_count": null,
   "id": "c4fb85c9",
   "metadata": {},
   "outputs": [],
   "source": [
    "\n",
    "# average the 8head attention score matrix\n",
    "best_fold_best_epoch_attention_score_matrix = best_fold_best_epoch_attention_score_matrix.mean(dim=1)# torch.Size([bsz, 8, 50, 50])\n",
    "# ==>[bsz, 50, 50]"
   ]
  },
  {
   "cell_type": "code",
   "execution_count": 3,
   "id": "1ceb8f6e",
   "metadata": {},
   "outputs": [
    {
     "name": "stdout",
     "output_type": "stream",
     "text": [
      "Training on device cuda.\n"
     ]
    }
   ],
   "source": [
    "device = (torch.device('cuda') if torch.cuda.is_available() else torch.device('cpu'))\n",
    "print(f\"Training on device {device}.\")"
   ]
  },
  {
   "cell_type": "code",
   "execution_count": 4,
   "id": "f01395d4",
   "metadata": {},
   "outputs": [],
   "source": [
    "import torch.nn as nn\n",
    "from utils.Loss import Custom_LossFunction\n",
    "from utils.Custom_Activation_Function import ScaledSigmoid\n",
    "\n",
    "test_dataset = False # True:small dataset, False: full dataset\n",
    "test = False # batch_size = 3, num_epoch = 2\n",
    "\n",
    "omics_files = {\n",
    "    'Mut': \"../data/CCLE/CCLE_match_TCGAgene_PRISMandEXPsample_binary_mutation_476_6009.txt\",\n",
    "    'Exp': \"../data/CCLE/CCLE_exp_476samples_4692genes.txt\",\n",
    "    # Add more omics types and paths as needed\n",
    "    }\n",
    "omics_dict = {'Mut':0,'Exp':1,'CN':2, 'Eff':3, 'Dep':4, 'Met':5}\n",
    "omics_data_dict = {}\n",
    "omics_data_tensor_dict = {}\n",
    "omics_numfeatures_dict = {}\n",
    "omics_encode_dim_dict ={'Mut':[1000,100,50],'Exp':[1000,100,50], # Dr.Chiu:exp[500,200,50]\n",
    "                        'CN':[100,50,30], 'Eff':[100,50,30], 'Dep':[100,50,30], 'Met':[100,50,30]}\n",
    "\n",
    "TCGA_pretrain_weight_path_dict = {'Mut': \"./results/Encoder_tcga_mut_1000_100_50_best_loss_0.0066.pt\",\n",
    "                                  'Exp': \"./results/Encoder_tcga_exp_1000_100_50_best_loss_0.7.pt\",\n",
    "                                  # Add more omics types and paths as needed\n",
    "                                }\n",
    "seed = 42\n",
    "#hyperparameter\n",
    "model_name = \"Omics_DrugESPF_Model\"\n",
    "AUCtransform = None #\"-log2\", None\n",
    "splitType= 'byCCL' # byCCL byDrug\n",
    "kfoldCV = 5\n",
    "include_omics = ['Mut']\n",
    "max_drug_len=50 # 不夠補零補到50 / 超過取前50個subwords(index) !!!!須改方法!!!!\n",
    "drug_embedding_feature_size = 128\n",
    "ESPF = False # False True\n",
    "Transformer = False \n",
    "#需再修改-----------\n",
    "\n",
    "intermediate_size =512\n",
    "num_attention_heads = 8\n",
    "attention_probs_dropout_prob = 0.1\n",
    "hidden_dropout_prob = 0.1\n",
    "\n",
    "if ESPF is True:\n",
    "    \n",
    "    drug_encode_dims =[1600,400,100] # 50*128\n",
    "    dense_layer_dim = sum(omics_encode_dim_dict[omic_type][2] for omic_type in include_omics) + drug_encode_dims[2] # MLPDim\n",
    "elif ESPF is False:\n",
    "    \n",
    "    drug_encode_dims =[110,55,22]\n",
    "    dense_layer_dim = sum(omics_encode_dim_dict[omic_type][2] for omic_type in include_omics) + drug_encode_dims[2] # MLPDim\n",
    "#需再修改-------------\n",
    "    \n",
    "activation_func = nn.ReLU()  # ReLU activation function # Leaky ReLu\n",
    "activation_func_final = nn.Sigmoid() # ScaledSigmoid(scale=8) # GroundT range ( 0 ~ scale )\n",
    "#nn.Sigmoid()or ReLU() or Linear/identity(when -log2AUC)\n",
    "batch_size = 64\n",
    "num_epoch = 200 # for k fold CV \n",
    "patience = 15\n",
    "warmup_iters = 150\n",
    "Decrease_percent = 0.99\n",
    "continuous = True\n",
    "learning_rate=1e-05\n",
    "criterion = Custom_LossFunction(loss_type=\"MSE\", loss_lambda=1.0, regular_type=None, regular_lambda=0.001) #nn.MSELoss()#\n",
    "\"\"\" A customizable loss function class.\n",
    "    Args:\n",
    "        loss_type (str): The type of loss to use (\"RMSE\", \"MSE\", \"MAE\", \"MAE+MSE\", \"MAE+RMSE\").\n",
    "        loss_lambda (float): The lambda weight for the additional loss (MSE or RMSE) if applicable. Default is MAE+ 1.0*(MSE or RMSE).\n",
    "        regular_type (str): The type of regularization to use (\"L1\", \"L2\", \"L1+L2\"), or None for no regularization.\n",
    "        regular_lambda (float): The lambda weight for regularization. Default is 0.001.\"\"\"\n",
    "\n",
    "hyperparameter_print = f' omics_dict ={omics_dict}\\n omics_files ={omics_files}\\n TCGA_pretrain_weight_path_dict ={TCGA_pretrain_weight_path_dict}\\n seed ={seed}\\n  model_name ={model_name}\\n AUCtransform ={AUCtransform}\\n splitType ={splitType}\\n kfoldCV ={kfoldCV}\\n omics_encode_dim ={[(omic_type,omics_encode_dim_dict[omic_type]) for omic_type in include_omics]}\\n max_drug_len ={max_drug_len}\\n drug_embedding_feature_size ={drug_embedding_feature_size}\\n ESPF ={ESPF}\\n Transformer ={Transformer}\\n intermediate_size ={intermediate_size}\\n num_attention_heads ={num_attention_heads}\\n attention_probs_dropout_prob ={attention_probs_dropout_prob}\\n hidden_dropout_prob ={hidden_dropout_prob}\\n drug_encode_dims ={drug_encode_dims}\\n dense_layer_dim = {dense_layer_dim}\\n activation_func = {activation_func}\\n activation_func_final = {activation_func_final}\\n batch_size = {batch_size}\\n num_epoch = {num_epoch}\\n patience = {patience}\\n warmup_iters = {warmup_iters}\\n Decrease_percent = {Decrease_percent}\\n continuous ={continuous}\\n learning_rate = {learning_rate}\\n criterion ={criterion}\\n'\n",
    "\n",
    "__translation_table__ = str.maketrans({\n",
    "    \"*\": \"\",    \"/\": \"\",    \":\": \"-\",    \"%\": \"\",\n",
    "    \"'\": \"\",    \"\\\"\": \"\",    \"[\": \"\",    \"]\": \"\",\n",
    "    \",\": \"\" })\n",
    "\n",
    "hyperparameter_folder_part = (f'Model{model_name}_{splitType}_Omics{[omic_type for omic_type in include_omics]}_ESPF{ESPF}_Tranformer{Transformer}').translate(__translation_table__)\n"
   ]
  },
  {
   "cell_type": "code",
   "execution_count": 5,
   "id": "d24d8a5f",
   "metadata": {},
   "outputs": [
    {
     "name": "stdout",
     "output_type": "stream",
     "text": [
      "['ACH-000007', 'ACH-000252', 'ACH-000296', 'ACH-000403', 'ACH-000467', 'ACH-000552', 'ACH-000651', 'ACH-000680', 'ACH-000842', 'ACH-000895', 'ACH-000926', 'ACH-000943', 'ACH-000950', 'ACH-000955', 'ACH-000957', 'ACH-000958', 'ACH-000959', 'ACH-000967', 'ACH-000970', 'ACH-000971', 'ACH-000982', 'ACH-000985', 'ACH-000991', 'ACH-000997']\n",
      "(24, 6009)\n",
      "[0, 1, 1, 1, 1, 1, 1, 1, 1, 1, 1, 0, 0, 1, 0, 0, 1, 1, 1, 0, 0, 1, 1, 1]\n",
      "Mut tensor shape: torch.Size([24, 6009])\n",
      "Mut num_features 6009\n"
     ]
    }
   ],
   "source": [
    "# get specific cancer type sample omics data\n",
    "set_seed(seed)\n",
    "COAD_list = pd.read_csv(\"../data/CCLE/COAD,READ sample list.txt\", sep='\\t', index_col=0).index.tolist()\n",
    "print(COAD_list)\n",
    "for omic_type in include_omics:\n",
    "    # Read the file\n",
    "    omics_data_dict[omic_type] = pd.read_csv(omics_files[omic_type], sep='\\t', index_col=0)\n",
    "    omics_data_dict[omic_type] = omics_data_dict[omic_type].loc[COAD_list]\n",
    "    print((omics_data_dict[omic_type]).shape ) \n",
    "    sample_mut_label = ((omics_data_dict[omic_type])['TP53'] == 1).astype(int).tolist()\n",
    "    print(sample_mut_label)\n",
    "    if test_dataset is True:\n",
    "        # Specify the index as needed\n",
    "        omics_data_dict[omic_type] = omics_data_dict[omic_type][:76]  # Adjust the row selection as needed\n",
    "    if omic_type == \"Exp\":# apply Column-wise Min-Max Normalization \n",
    "        scaler = MinMaxScaler() \n",
    "        omics_data_dict[omic_type] = pd.DataFrame(scaler.fit_transform(omics_data_dict[omic_type]),index=omics_data_dict[omic_type].index,columns=omics_data_dict[omic_type].columns)\n",
    "    \n",
    "    omics_data_tensor_dict[omic_type]  = torch.tensor(omics_data_dict[omic_type].values, dtype=torch.float32).to(device)\n",
    "    omics_numfeatures_dict[omic_type] = omics_data_tensor_dict[omic_type].shape[1]\n",
    "    print(f\"{omic_type} tensor shape:\", omics_data_tensor_dict[omic_type].shape)\n",
    "    print(f\"{omic_type} num_features\",omics_numfeatures_dict[omic_type])\n"
   ]
  },
  {
   "cell_type": "code",
   "execution_count": 6,
   "id": "122ca4a7",
   "metadata": {},
   "outputs": [
    {
     "name": "stdout",
     "output_type": "stream",
     "text": [
      "drug_df (1440, 9)\n",
      "                              BRD_ID            name  \\\n",
      "Name                                                   \n",
      "FLUOROURACIL  BRD-K24844714-001-24-5  5-fluorouracil   \n",
      "\n",
      "                                         moa      target disease.area  \\\n",
      "Name                                                                    \n",
      "FLUOROURACIL  thymidylate synthase inhibitor  DPYD, TYMS     oncology   \n",
      "\n",
      "                                                     indication     phase  \\\n",
      "Name                                                                        \n",
      "FLUOROURACIL  colorectal cancer, breast cancer, pancreatic c...  Launched   \n",
      "\n",
      "                             smiles  \\\n",
      "Name                                  \n",
      "FLUOROURACIL  Fc1c[nH]c(=O)[nH]c1=O   \n",
      "\n",
      "                                                   MACCS166bits  \n",
      "Name                                                             \n",
      "FLUOROURACIL  0, 0, 0, 0, 0, 0, 0, 0, 0, 0, 0, 0, 0, 0, 0, 0...  \n",
      "AUC_df             FLUOROURACIL (BRD:BRD-K24844714-001-24-5)\n",
      "CCL                                                  \n",
      "ACH-000007                                   0.650901\n",
      "ACH-000252                                        NaN\n",
      "ACH-000296                                   0.873327\n",
      "ACH-000403                                        NaN\n",
      "ACH-000467                                   0.834067\n",
      "ACH-000552                                   0.873021\n",
      "ACH-000651                                        NaN\n",
      "ACH-000680                                        NaN\n",
      "ACH-000842                                        NaN\n",
      "ACH-000895                                        NaN\n",
      "ACH-000926                                        NaN\n",
      "ACH-000943                                   0.864467\n",
      "ACH-000950                                        NaN\n",
      "ACH-000955                                        NaN\n",
      "ACH-000957                                   0.834016\n",
      "ACH-000958                                   0.871653\n",
      "ACH-000959                                   0.846091\n",
      "ACH-000967                                   0.825733\n",
      "ACH-000970                                        NaN\n",
      "ACH-000971                                   0.887555\n",
      "ACH-000982                                   0.757573\n",
      "ACH-000985                                        NaN\n",
      "ACH-000991                                   0.797700\n",
      "ACH-000997                                   0.857639\n"
     ]
    }
   ],
   "source": [
    "drug_df= pd.read_csv(\"../data/no_Imputation_PRISM_Repurposing_Secondary_Screen_data/MACCS(Secondary_Screen_treatment_info)_union_NOrepeat.csv\", sep=',', index_col=0)\n",
    "print(\"drug_df\",drug_df.shape)\n",
    "\n",
    "# get \"5-fluorouracil\" data\n",
    "drug_df= drug_df[drug_df['name'] == \"5-fluorouracil\"]\n",
    "print(drug_df)\n",
    "\n",
    "AUC_df = pd.read_csv(\"../data/no_Imputation_PRISM_Repurposing_Secondary_Screen_data/Drug_sensitivity_AUC_(PRISM_Repurposing_Secondary_Screen)_subsetted_NOrepeat.csv\", sep=',', index_col=0)\n",
    "AUC_df = (AUC_df.loc[COAD_list])[['FLUOROURACIL (BRD:BRD-K24844714-001-24-5)']]\n",
    "\n",
    "if AUCtransform == \"-log2\":\n",
    "    AUC_df = -np.log2(AUC_df)\n",
    "if AUCtransform == \"-log10\":\n",
    "    AUC_df = -np.log10(AUC_df)\n",
    "print(\"AUC_df\",AUC_df)"
   ]
  },
  {
   "cell_type": "code",
   "execution_count": 7,
   "id": "a7336266",
   "metadata": {},
   "outputs": [
    {
     "name": "stdout",
     "output_type": "stream",
     "text": [
      "MACCS166bits_drug_encode_list type:  <class 'list'>\n",
      "num_ccl,num_drug:  24 1\n"
     ]
    }
   ],
   "source": [
    "if ESPF is True:\n",
    "    drug_smiles =drug_df[\"smiles\"] # \n",
    "    drug_names =drug_df.index\n",
    "    # 挑出重複的SMILES\n",
    "    duplicate =  drug_smiles[drug_smiles.duplicated(keep=False)]\n",
    "    #--------------------------------------------------------------------------------------------------------------------------\n",
    "    #ESPF\n",
    "    vocab_path = \"./dataset/ESPF/drug_codes_chembl_freq_1500.txt\" # token\n",
    "    sub_csv = pd.read_csv(\"./dataset/ESPF/subword_units_map_chembl_freq_1500.csv\")# token with frequency\n",
    "\n",
    "    drug_encode = pd.Series(drug_smiles).apply(drug2emb_encoder, args=(vocab_path, sub_csv, max_drug_len))\n",
    "    drug_features_tensor = torch.tensor(np.array(drug_encode.values.tolist()), dtype=torch.long)\n",
    "else:\n",
    "    drug_encode = drug_df[\"MACCS166bits\"]\n",
    "    drug_encode_list = [list(map(int, item.split(','))) for item in drug_encode.values]\n",
    "    print(\"MACCS166bits_drug_encode_list type: \",type(drug_encode_list))\n",
    "    # Convert your data to tensors if they're in numpy\n",
    "    drug_features_tensor = torch.tensor(np.array(drug_encode_list), dtype=torch.long)\n",
    "#--------------------------------------------------------------------------------------------------------------------------\n",
    "num_ccl = list(omics_data_dict.values())[0].shape[0]\n",
    "num_drug = drug_encode.shape[0]\n",
    "print(\"num_ccl,num_drug: \",num_ccl,num_drug)\n"
   ]
  },
  {
   "cell_type": "code",
   "execution_count": null,
   "id": "ba25b2e7",
   "metadata": {},
   "outputs": [],
   "source": []
  },
  {
   "cell_type": "markdown",
   "id": "17d02a6b",
   "metadata": {},
   "source": [
    "我應該先預測出全部的組合數值，輸出成一個matrix.csv。之後就可以依照特定藥或特定ccl(ACH-)去取出預測數值再做分析驗證"
   ]
  },
  {
   "cell_type": "code",
   "execution_count": null,
   "id": "cc77f6cf",
   "metadata": {},
   "outputs": [],
   "source": [
    "# Convert your data to tensors if they're in numpy\n",
    "response_matrix_tensor = torch.tensor(AUC_df.values, dtype=torch.float32)\n",
    "id_test = list(range(24))\n",
    "set_seed(seed)\n",
    "dataset = OmicsDrugDataset(omics_data_tensor_dict, drug_features_tensor, response_matrix_tensor, splitType, include_omics)\n",
    "\n",
    "test_dataset = Subset(dataset, id_test)\n",
    "test_loader = DataLoader(test_dataset, batch_size=batch_size, shuffle=False)\n",
    "\n",
    "whole_loader = DataLoader(dataset, batch_size=batch_size, shuffle=False)"
   ]
  },
  {
   "cell_type": "code",
   "execution_count": null,
   "id": "d6b7008d",
   "metadata": {},
   "outputs": [],
   "source": [
    "if 'weighted' in criterion.loss_type :    \n",
    "    # Set threshold based on the 90th percentile # 將高於threshold的AUC權重增加\n",
    "    weighted_threshold = np.nanpercentile(AUC_df.values, 90)    \n",
    "    total_samples = (~np.isnan(AUC_df.values)).sum().item()\n",
    "    few_samples = (AUC_df.values > weighted_threshold).sum().item()\n",
    "    more_samples = total_samples - few_samples\n",
    "    few_weight = total_samples / (2 * few_samples)  \n",
    "    more_weight = total_samples / (2 * more_samples)   \n",
    "    # print(\"weighted_threshold\",weighted_threshold)\n",
    "    # print(\"total_samples\",total_samples)\n",
    "    # print(\"few_samples\",few_samples)\n",
    "    # print(\"more_samples\",more_samples)\n",
    "    # print(\"few_weight\",few_weight)\n",
    "    # print(\"more_weight\",more_weight)\n",
    "else:\n",
    "    weighted_threshold = None\n",
    "    few_weight = None\n",
    "    more_weight = None\n",
    "\n"
   ]
  },
  {
   "cell_type": "code",
   "execution_count": null,
   "id": "28b69c18",
   "metadata": {},
   "outputs": [
    {
     "name": "stdout",
     "output_type": "stream",
     "text": [
      "State_dict for Sequential(\n",
      "  (0): Linear(in_features=6009, out_features=1000, bias=True)\n",
      "  (1): ReLU()\n",
      "  (2): Linear(in_features=1000, out_features=100, bias=True)\n",
      "  (3): Sigmoid()\n",
      "  (4): Linear(in_features=100, out_features=50, bias=True)\n",
      ") loaded successfully.\n",
      "\n",
      " MACCS166 is applied \n",
      "\n",
      "CPU times: user 248 ms, sys: 240 ms, total: 488 ms\n",
      "Wall time: 508 ms\n"
     ]
    }
   ],
   "source": [
    "%%time\n",
    "# Evaluation\n",
    "val_epoch_loss_list=[]\n",
    "model = Omics_DrugESPF_Model(omics_encode_dim_dict, drug_encode_dims, activation_func, activation_func_final, dense_layer_dim, device,\n",
    "                            drug_embedding_feature_size, intermediate_size, num_attention_heads , attention_probs_dropout_prob, hidden_dropout_prob, omics_numfeatures_dict, max_drug_len,\n",
    "                            TCGA_pretrain_weight_path_dict= TCGA_pretrain_weight_path_dict).to(device=device)\n",
    "best_weight = \"./results/BestFold4_test_loss0.0071419_BestValEpo42_ModelOmics_DrugESPF_Model_byCCL_OmicsMut_ESPFFalse_TranformerFalse/BestValWeight.pt\"\n",
    "model.load_state_dict(torch.load(best_weight))\n",
    "\n",
    "test_loss, test_targets, test_outputs, predAUCwithUnknownGT = evaluation(model, val_epoch_loss_list, criterion, test_loader, device,ESPF, Transformer, threshold, few_weight, more_weight, correlation='test')"
   ]
  },
  {
   "cell_type": "code",
   "execution_count": 11,
   "id": "5443ac16",
   "metadata": {},
   "outputs": [
    {
     "data": {
      "text/plain": [
       "[array([0.81918496, 0.884012  , 0.8633232 , 0.864572  , 0.8617739 ,\n",
       "        0.85899556, 0.8385467 , 0.8663893 , 0.8757676 , 0.8678688 ,\n",
       "        0.853759  , 0.8604323 , 0.87391394], dtype=float32)]"
      ]
     },
     "execution_count": 11,
     "metadata": {},
     "output_type": "execute_result"
    }
   ],
   "source": [
    "test_outputs"
   ]
  },
  {
   "cell_type": "code",
   "execution_count": 13,
   "id": "033721e3",
   "metadata": {},
   "outputs": [],
   "source": [
    "sample_mut_label = ['TP53_Mut' if label == 1 else 'w/0 TP53_Mut' for label in sample_mut_label]"
   ]
  },
  {
   "cell_type": "code",
   "execution_count": 4,
   "id": "8cc87258",
   "metadata": {},
   "outputs": [
    {
     "name": "stdout",
     "output_type": "stream",
     "text": [
      "Training on device cuda.\n",
      "cuda:0\n"
     ]
    }
   ],
   "source": [
    "import torch\n",
    "device = (torch.device('cuda') if torch.cuda.is_available() else torch.device('cpu'))\n",
    "print(f\"Training on device {device}.\")\n",
    "# Create a dictionary with tensors on GPU\n",
    "gpu_dict = {\n",
    "    \"tensor1\": torch.tensor([1, 2, 3]).to(device),\n",
    "    \"tensor2\": torch.ones((2, 2)).to(device)\n",
    "}\n",
    "\n",
    "# Check where the tensors are stored\n",
    "# print(gpu_dict.device)  # cuda:0\n",
    "print(gpu_dict[\"tensor2\"].device)  # cuda:0"
   ]
  },
  {
   "cell_type": "code",
   "execution_count": null,
   "id": "68d9c8ea",
   "metadata": {},
   "outputs": [
    {
     "data": {
      "text/plain": [
       "0"
      ]
     },
     "execution_count": 17,
     "metadata": {},
     "output_type": "execute_result"
    }
   ],
   "source": [
    "import numpy as np\n",
    "target = torch.tensor(np.array([0]))\n",
    "target.numel()"
   ]
  },
  {
   "cell_type": "code",
   "execution_count": 7,
   "id": "d0139fd0",
   "metadata": {},
   "outputs": [
    {
     "data": {
      "text/plain": [
       "5.5"
      ]
     },
     "execution_count": 7,
     "metadata": {},
     "output_type": "execute_result"
    }
   ],
   "source": [
    "((1+3+5)/3+(7+9)/2)/2\n"
   ]
  },
  {
   "cell_type": "code",
   "execution_count": 18,
   "id": "a4d95b72",
   "metadata": {},
   "outputs": [
    {
     "data": {
      "text/plain": [
       "5.0"
      ]
     },
     "execution_count": 18,
     "metadata": {},
     "output_type": "execute_result"
    }
   ],
   "source": [
    "((1+3)/2+5+(7+9)/2)/3"
   ]
  },
  {
   "cell_type": "code",
   "execution_count": 19,
   "id": "5e328d1e",
   "metadata": {},
   "outputs": [
    {
     "data": {
      "text/plain": [
       "5.166666666666666"
      ]
     },
     "execution_count": 19,
     "metadata": {},
     "output_type": "execute_result"
    }
   ],
   "source": [
    "((1+3+9)/3+(7+5)/2)/2"
   ]
  },
  {
   "cell_type": "code",
   "execution_count": null,
   "id": "08472d14",
   "metadata": {},
   "outputs": [
    {
     "data": {
      "image/png": "[encoded data removed]",
      "text/plain": [
       "<Figure size 800x600 with 1 Axes>"
      ]
     },
     "metadata": {},
     "output_type": "display_data"
    }
   ],
   "source": [
    "import matplotlib.pyplot as plt\n",
    "import seaborn as sns\n",
    "import pandas as pd\n",
    "\n",
    "# Sample data (replace these with your actual lists)\n",
    "\n",
    "# Create a DataFrame\n",
    "df = pd.DataFrame({'predicted AUC': predAUCwithUnknownGT.cpu().reshape(-1) , 'mutation status': sample_mut_label})\n",
    "\n",
    "# Create the boxplot\n",
    "plt.figure(figsize=(8, 6))\n",
    "sns.boxplot(x='mutation status', y='predicted AUC', data=df)\n",
    "plt.title('Comparison of predicted AUC by TP53_Mut in COAD/READ samples')\n",
    "plt.show()"
   ]
  },
  {
   "cell_type": "code",
   "execution_count": 60,
   "id": "9f989a44",
   "metadata": {},
   "outputs": [
    {
     "name": "stdout",
     "output_type": "stream",
     "text": [
      "Evaluation test_set\n",
      "{'Evaluation': 'test_set', 'RMSE': 0.060665064, 'MAE': 0.04174355, 'R^2': 0.031167805194854736}\n"
     ]
    }
   ],
   "source": [
    "metrics_calculator = MetricsCalculator()\n",
    "test_metrics= metrics_calculator.compute_all_metrics(np.concatenate(test_targets), np.concatenate(test_outputs),set_name='test_set')\n",
    "metrics_calculator.print_results(set_name='test_set')"
   ]
  },
  {
   "cell_type": "code",
   "execution_count": 64,
   "id": "bbc0acdc",
   "metadata": {},
   "outputs": [
    {
     "name": "stdout",
     "output_type": "stream",
     "text": [
      "transpose data_AUC_matrix to match split byDrug ((1, 24))\n"
     ]
    }
   ],
   "source": [
    "# Correlation\n",
    "id_unrepeat_test=[0]\n",
    "test_pearson, test_spearman,test_AllSameValuesList_count  = correlation_func(\"byDrug\", AUC_df.values,AUC_df.index,AUC_df.columns,id_unrepeat_test,test_targets,test_outputs)"
   ]
  },
  {
   "cell_type": "code",
   "execution_count": 68,
   "id": "b5e7028d",
   "metadata": {},
   "outputs": [
    {
     "data": {
      "text/plain": [
       "[0.7067521103747131]"
      ]
     },
     "execution_count": 68,
     "metadata": {},
     "output_type": "execute_result"
    }
   ],
   "source": [
    "test_pearson"
   ]
  }
 ],
 "metadata": {
  "kernelspec": {
   "display_name": "Python 3 (ipykernel)",
   "language": "python",
   "name": "python3"
  },
  "language_info": {
   "codemirror_mode": {
    "name": "ipython",
    "version": 3
   },
   "file_extension": ".py",
   "mimetype": "text/x-python",
   "name": "python",
   "nbconvert_exporter": "python",
   "pygments_lexer": "ipython3",
   "version": "3.10.12"
  }
 },
 "nbformat": 4,
 "nbformat_minor": 5
}
