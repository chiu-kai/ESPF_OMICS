{
 "cells": [
  {
   "cell_type": "code",
   "execution_count": null,
   "metadata": {},
   "outputs": [],
   "source": [
    "omics_files = {\n",
    "    'Mut': \"../data/CCLE/CCLE_match_TCGAgene_PRISMandEXPsample_binary_mutation_476_6009.txt\",\n",
    "    'Exp': \"../data/CCLE/CCLE_exp_476samples_4692genes.txt\",\n",
    "    # Add more omics types and paths as needed\n",
    "    }"
   ]
  },
  {
   "cell_type": "code",
   "execution_count": 200,
   "metadata": {},
   "outputs": [
    {
     "name": "stdout",
     "output_type": "stream",
     "text": [
      "error [0.0002 0.05   0.06  ]\n",
      "MSE 0.0020333466666666703\n",
      "weight [0.00159872 0.32967995 0.38121661]\n",
      "206.21485516203924\n",
      "0.0007321932461192091\n"
     ]
    }
   ],
   "source": [
    "alpha=8 # alpha越大loss越大權重差異變小，alpha越小loss越小權重差異變大8 \n",
    "gamma=1 # gamma越大loss越小權重差異變大1\n",
    "y_true =np.array([0.001, 1.85, 3.56])\n",
    "y_pred =np.array([0.0012, 1.8, 3.5])\n",
    "error = np.abs(y_true - y_pred)\n",
    "print(\"error\",error)\n",
    "print(\"MSE\",(np.square(error)).mean())\n",
    "weight = (1 - np.exp(-alpha * error)) ** gamma  # Focal weighting\n",
    "print(\"weight\",weight)\n",
    "print(weight[1]/weight[0])\n",
    "print((weight * np.square(error)).mean())"
   ]
  }
 ],
 "metadata": {
  "kernelspec": {
   "display_name": "Python 3",
   "language": "python",
   "name": "python3"
  },
  "language_info": {
   "codemirror_mode": {
    "name": "ipython",
    "version": 3
   },
   "file_extension": ".py",
   "mimetype": "text/x-python",
   "name": "python",
   "nbconvert_exporter": "python",
   "pygments_lexer": "ipython3",
   "version": "3.10.12"
  }
 },
 "nbformat": 4,
 "nbformat_minor": 2
}
