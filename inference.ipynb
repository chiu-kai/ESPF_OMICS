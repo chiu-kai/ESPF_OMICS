{
 "cells": [
  {
   "cell_type": "code",
   "execution_count": null,
   "id": "6480a6c4",
   "metadata": {},
   "outputs": [],
   "source": [
    "import os\n",
    "os.chdir('/data3.5T/S312112030/DeepTTA')\n",
    "\n",
    "print(os.getcwd())"
   ]
  },
  {
   "cell_type": "code",
   "execution_count": 248,
   "id": "ecd2f35c",
   "metadata": {},
   "outputs": [
    {
     "name": "stdout",
     "output_type": "stream",
     "text": [
      "value_layer tensor([[[100, 100, 200, 200, 100, 100],\n",
      "         [ 69,  69,  20,  20,  60,  60],\n",
      "         [ 50,  50,  90,  90,  50,  50],\n",
      "         [  0,   0,   0,   0,   0,   0],\n",
      "         [  0,   0,   0,   0,   0,   0]]])\n",
      "mask torch.Size([1, 5])\n",
      "bmm\n",
      " tensor([[[0, 1, 1, 0, 0],\n",
      "         [1, 0, 1, 0, 0],\n",
      "         [1, 1, 0, 0, 0],\n",
      "         [0, 0, 0, 0, 0],\n",
      "         [0, 0, 0, 0, 0]]])\n",
      "maskbmm torch.Size([1, 5, 5])\n",
      "maskbmm.expand as score torch.Size([1, 5, 5])\n",
      "scores torch.Size([1, 5, 5])\n",
      "scores_filled tensor([[[-1.0000e+08,  6.9000e-01,  1.0000e+00, -1.0000e+08, -1.0000e+08],\n",
      "         [ 5.9000e-01, -1.0000e+08,  5.0000e-01, -1.0000e+08, -1.0000e+08],\n",
      "         [ 2.3000e-01,  1.0000e+00, -1.0000e+08, -1.0000e+08, -1.0000e+08],\n",
      "         [-1.0000e+08, -1.0000e+08, -1.0000e+08, -1.0000e+08, -1.0000e+08],\n",
      "         [-1.0000e+08, -1.0000e+08, -1.0000e+08, -1.0000e+08, -1.0000e+08]]])\n",
      "Attention Scores before masking:\n",
      "scores\n",
      " tensor([[[1.0000, 0.6900, 1.0000, 0.0000, 0.0000],\n",
      "         [0.5900, 1.0000, 0.5000, 0.0000, 0.0000],\n",
      "         [0.2300, 1.0000, 1.0000, 0.0000, 0.0000],\n",
      "         [0.0000, 0.0000, 0.0000, 0.0000, 0.0000],\n",
      "         [0.0000, 0.0000, 0.0000, 0.0000, 0.0000]]])\n",
      "\n",
      "Attention Scores after masking:\n",
      "scores + mask\n",
      " tensor([[[-1.0000e+08,  6.9000e-01,  1.0000e+00, -1.0000e+08, -1.0000e+08],\n",
      "         [ 5.9000e-01, -1.0000e+08,  5.0000e-01, -1.0000e+08, -1.0000e+08],\n",
      "         [ 2.3000e-01,  1.0000e+00, -1.0000e+08, -1.0000e+08, -1.0000e+08],\n",
      "         [-1.0000e+08, -1.0000e+08, -1.0000e+08, -1.0000e+08, -1.0000e+08],\n",
      "         [-1.0000e+08, -1.0000e+08, -1.0000e+08, -1.0000e+08, -1.0000e+08]]])\n",
      "********************************************************************\n",
      "value_layer tensor([[[100, 100, 200, 200, 100, 100],\n",
      "         [ 69,  69,  20,  20,  60,  60],\n",
      "         [ 50,  50,  90,  90,  50,  50],\n",
      "         [  0,   0,   0,   0,   0,   0],\n",
      "         [  0,   0,   0,   0,   0,   0]]])\n",
      "attention_probs_0(after softmax) tensor([[[0.0000, 0.4231, 0.5769, 0.0000, 0.0000],\n",
      "         [0.5225, 0.0000, 0.4775, 0.0000, 0.0000],\n",
      "         [0.3165, 0.6835, 0.0000, 0.0000, 0.0000],\n",
      "         [0.2000, 0.2000, 0.2000, 0.2000, 0.2000],\n",
      "         [0.2000, 0.2000, 0.2000, 0.2000, 0.2000]]])\n",
      "attention_probs_0_masked(after mask  tensor([[[0.0000, 0.4231, 0.5769, 0.0000, 0.0000],\n",
      "         [0.5225, 0.0000, 0.4775, 0.0000, 0.0000],\n",
      "         [0.3165, 0.6835, 0.0000, 0.0000, 0.0000],\n",
      "         [0.0000, 0.0000, 0.0000, 0.0000, 0.0000],\n",
      "         [0.0000, 0.0000, 0.0000, 0.0000, 0.0000]]])\n",
      "context_layer tensor([[[ 58.0392,  58.0392,  60.3820,  60.3820,  54.2311,  54.2311],\n",
      "         [ 76.1242,  76.1242, 147.4733, 147.4733,  76.1242,  76.1242],\n",
      "         [ 78.8109,  78.8109,  76.9662,  76.9662,  72.6592,  72.6592],\n",
      "         [  0.0000,   0.0000,   0.0000,   0.0000,   0.0000,   0.0000],\n",
      "         [  0.0000,   0.0000,   0.0000,   0.0000,   0.0000,   0.0000]]])\n"
     ]
    }
   ],
   "source": [
    "import random\n",
    "import torch\n",
    "def set_seed(seed):\n",
    "    random.seed(seed)\n",
    "    torch.manual_seed(seed)\n",
    "    torch.cuda.manual_seed(seed)\n",
    "    torch.cuda.manual_seed_all(seed)\n",
    "    torch.backends.cudnn.deterministic = True\n",
    "    torch.backends.cudnn.benchmark = False\n",
    "import torch\n",
    "set_seed(100)\n",
    "bsz = 1  # batch size\n",
    "# heads = 5  # number of attention heads\n",
    "seq_len = 5  # sequence length\n",
    "\n",
    "value_layer=  torch.tensor([[[100, 100, 200, 200, 100, 100], \n",
    "                        [69, 69, 20, 20, 60, 60], \n",
    "                        [50, 50, 90, 90, 50, 50], \n",
    "                        [0, 0, 0, 0, 0, 0], \n",
    "                        [0, 0, 0, 0, 0, 0]]])\n",
    "print(\"value_layer\",value_layer)\n",
    "\n",
    "# Random attention scores\n",
    "scores =  torch.tensor([[[1.0, 0.69, 1.0, 0.0, 0.0], \n",
    "                        [0.59, 1.0, 0.5, 0.0, 0.0], \n",
    "                        [0.23, 1.0, 1.0, 0.0, 0.0], \n",
    "                        [0.0, 0.0, 0.0, 0.0, 0.0], \n",
    "                        [0.0, 0.0, 0.0, 0.0, 0.0]]])\n",
    "# Attention mask (mimicking padding mask, -10000 where padding should be applied)\n",
    "mask = torch.tensor([[1,1,1,0,0]])  # Shape: [1, 5]\n",
    "print(\"mask\",mask.shape)\n",
    "mask = (torch.bmm(mask.unsqueeze(2), mask.unsqueeze(1)))\n",
    "upper_triangle = torch.triu(mask, diagonal=1)  # Extract upper triangle (diagonal=1)\n",
    "lower_triangle = torch.tril(mask, diagonal=-1)  # Extract lower triangle (diagonal=-1)\n",
    "mask = lower_triangle + upper_triangle# Combine the upper and lower triangles to create the desired tensor\n",
    "print(\"bmm\\n\",mask)\n",
    "print(\"maskbmm\",mask.shape)\n",
    "mask = mask.expand_as(scores)  # Expand to [bsz, 1, 5, 5]\n",
    "print(\"maskbmm.expand as score\",mask.shape)\n",
    "print(\"scores\",scores.shape)\n",
    "scores_filled = scores.masked_fill(mask == 0, -1e8) # scores + mask alone the last dimension\n",
    "print(\"scores_filled\",scores_filled)\n",
    "\n",
    "import torch.nn.functional as F\n",
    "# Print the results\n",
    "print(\"Attention Scores before masking:\")\n",
    "print(\"scores\\n\",scores)  # Show for first batch\n",
    "print(\"\\nAttention Scores after masking:\")\n",
    "print(\"scores + mask\\n\",scores_filled)  # Show after applying mask\n",
    "print(\"********************************************************************\")\n",
    "print(\"value_layer\",value_layer)\n",
    "attention_probs_0 = F.softmax(scores_filled, dim=-1)\n",
    "print(\"attention_probs_0(after softmax)\",attention_probs_0)\n",
    "attention_probs_0_masked = attention_probs_0.masked_fill(mask == 0, 0.0)\n",
    "print(\"attention_probs_0_masked(after mask \",attention_probs_0_masked)\n",
    "# print(\"attention_probs_0 + mask\",attention_probs_0.masked_fill(mask == 0, -1e8))#attention_probs_0 + mask\n",
    "\n",
    "# attention_probs_0_masked = F.relu(attention_probs_0.masked_fill(mask == 0, -1e8))\n",
    "# print(\"attention_probs_0_masked(after mask and ReLU)\",attention_probs_0_masked)\n",
    "\n",
    "context_layer = torch.bmm(attention_probs_0_masked, value_layer.to(torch.float32) )\n",
    "print(\"context_layer\",context_layer)\n"
   ]
  },
  {
   "cell_type": "code",
   "execution_count": 247,
   "id": "c5927b1a",
   "metadata": {},
   "outputs": [
    {
     "name": "stdout",
     "output_type": "stream",
     "text": [
      "tensor([[[0, 2, 1, 0, 0],\n",
      "         [1, 0, 1, 0, 0],\n",
      "         [1, 1, 0, 0, 0],\n",
      "         [0, 0, 0, 0, 0],\n",
      "         [0, 0, 0, 0, 0]],\n",
      "\n",
      "        [[0, 2, 3, 0, 0],\n",
      "         [4, 0, 6, 0, 0],\n",
      "         [7, 8, 0, 0, 0],\n",
      "         [0, 0, 0, 0, 0],\n",
      "         [0, 0, 0, 0, 0]]])\n"
     ]
    }
   ],
   "source": [
    "tensor = torch.tensor([[[1, 2, 1, 0, 0],\n",
    "                       [1, 1, 1, 0, 0],\n",
    "                       [1, 1, 1, 0, 0],\n",
    "                       [0, 0, 0, 0, 0],\n",
    "                       [0, 0, 0, 0, 0]],\n",
    "                      \n",
    "                      [[1, 2, 3, 0, 0],\n",
    "                       [4, 5, 6, 0, 0],\n",
    "                       [7, 8, 9, 0, 0],\n",
    "                       [0, 0, 0, 0, 0],\n",
    "                       [0, 0, 0, 0, 0]]])\n",
    "\n",
    "# Apply triu and tril operations for each matrix in the batch\n",
    "upper_triangle = torch.triu(tensor, diagonal=1)  # Extract upper triangle (diagonal=1)\n",
    "lower_triangle = torch.tril(tensor, diagonal=-1)  # Extract lower triangle (diagonal=-1)\n",
    "\n",
    "# Combine the upper and lower triangles to create the desired tensor\n",
    "result = lower_triangle + upper_triangle\n",
    "\n",
    "# Print the result\n",
    "print(result)"
   ]
  },
  {
   "cell_type": "code",
   "execution_count": 233,
   "id": "b3526664",
   "metadata": {},
   "outputs": [
    {
     "name": "stdout",
     "output_type": "stream",
     "text": [
      "value_layer tensor([[[100, 100, 200, 200, 100, 100],\n",
      "         [ 69,  69,  20,  20,  60,  60],\n",
      "         [ 50,  50,  90,  90,  50,  50],\n",
      "         [  0,   0,   0,   0,   0,   0],\n",
      "         [  0,   0,   0,   0,   0,   0]]])\n",
      "tensor([[0., 0., 0., 0., 0.],\n",
      "        [0., 0., 0., 0., 0.],\n",
      "        [0., 0., 0., 0., 0.],\n",
      "        [0., 0., 0., 0., 0.],\n",
      "        [0., 0., 0., 0., 0.]])\n",
      "tensor([[1., 1., 1., 0., 0.],\n",
      "        [1., 1., 1., 0., 0.],\n",
      "        [1., 1., 1., 0., 0.],\n",
      "        [1., 1., 1., 0., 0.],\n",
      "        [1., 1., 1., 0., 0.]])\n",
      "context_layer tensor([[[ 66.7776,  66.7776, 101.4171, 101.4171,  64.5803,  64.5803],\n",
      "         [ 65.2110,  65.2110,  81.5938,  81.5938,  61.6689,  61.6689],\n",
      "         [ 60.4683,  60.4683,  74.1134,  74.1134,  57.1761,  57.1761],\n",
      "         [ 58.6226,  58.6226,  82.9818,  82.9818,  56.2135,  56.2135],\n",
      "         [ 58.6226,  58.6226,  82.9818,  82.9818,  56.2135,  56.2135]]])\n"
     ]
    }
   ],
   "source": [
    "attn_mask = torch.tensor([[1,1,1,0,0]]) \n",
    "L,S=5,5\n",
    "\n",
    "value_layer=  torch.tensor([[[100, 100, 200, 200, 100, 100], \n",
    "                        [69, 69, 20, 20, 60, 60], \n",
    "                        [50, 50, 90, 90, 50, 50], \n",
    "                        [0, 0, 0, 0, 0, 0], \n",
    "                        [0, 0, 0, 0, 0, 0]]])\n",
    "print(\"value_layer\",value_layer)\n",
    "\n",
    "# Random attention scores\n",
    "scores =  torch.tensor([[[1.0, 0.69, 1.0, 0.0, 0.0], \n",
    "                        [0.59, 1.0, 0.5, 0.0, 0.0], \n",
    "                        [0.23, 1.0, 1.0, 0.0, 0.0], \n",
    "                        [0.0, 0.0, 0.0, 0.0, 0.0], \n",
    "                        [0.0, 0.0, 0.0, 0.0, 0.0]]])\n",
    "attn_bias = torch.zeros(L, S)\n",
    "print(attn_bias)\n",
    "if attn_mask is None:\n",
    "    temp_mask = torch.ones(L, S, dtype=torch.bool).tril(diagonal=0)\n",
    "    print(temp_mask)\n",
    "    attn_bias.masked_fill_(temp_mask.logical_not(), float(\"-inf\"))\n",
    "    print(attn_bias)\n",
    "\n",
    "if attn_mask is not None:\n",
    "    if attn_mask.dtype == torch.bool:\n",
    "        attn_bias.masked_fill_(attn_mask.logical_not(), float(\"-inf\"))\n",
    "        print(attn_bias)\n",
    "\n",
    "    else:\n",
    "        attn_bias = attn_mask + attn_bias\n",
    "        print(attn_bias)\n",
    "\n",
    "\n",
    "attn_weight = scores\n",
    "attn_weight += attn_bias\n",
    "attn_weight = torch.softmax(attn_weight, dim=-1)\n",
    "\n",
    "context_layer = torch.bmm(attn_weight, value_layer.to(torch.float32) )\n",
    "print(\"context_layer\",context_layer)"
   ]
  },
  {
   "cell_type": "code",
   "execution_count": 183,
   "id": "a535c6d1",
   "metadata": {},
   "outputs": [
    {
     "name": "stdout",
     "output_type": "stream",
     "text": [
      "torch.Size([1, 5, 6])\n",
      "tensor([[[1., 1., 1., 0., 0.],\n",
      "         [1., 1., 1., 0., 0.],\n",
      "         [1., 1., 1., 0., 0.],\n",
      "         [0., 0., 0., 0., 0.],\n",
      "         [0., 0., 0., 0., 0.]]])\n",
      "torch.bmm mask_weight torch.Size([1, 5, 5])\n",
      " F.softmax(mask_weight tensor([[[0.3333, 0.3333, 0.3333, 0.0000, 0.0000],\n",
      "         [0.3333, 0.3333, 0.3333, 0.0000, 0.0000],\n",
      "         [0.3333, 0.3333, 0.3333, 0.0000, 0.0000],\n",
      "         [0.2000, 0.2000, 0.2000, 0.2000, 0.2000],\n",
      "         [0.2000, 0.2000, 0.2000, 0.2000, 0.2000]]])\n",
      "mask_weight.masked_fill(mask == 0, 0.0) tensor([[[0.3333, 0.3333, 0.3333, 0.0000, 0.0000],\n",
      "         [0.3333, 0.3333, 0.3333, 0.0000, 0.0000],\n",
      "         [0.3333, 0.3333, 0.3333, 0.0000, 0.0000],\n",
      "         [0.0000, 0.0000, 0.0000, 0.0000, 0.0000],\n",
      "         [0.0000, 0.0000, 0.0000, 0.0000, 0.0000]]])\n",
      "context_layer tensor([[[ 73.0000,  73.0000, 103.3333, 103.3333,  70.0000,  70.0000],\n",
      "         [ 73.0000,  73.0000, 103.3333, 103.3333,  70.0000,  70.0000],\n",
      "         [ 73.0000,  73.0000, 103.3333, 103.3333,  70.0000,  70.0000],\n",
      "         [  0.0000,   0.0000,   0.0000,   0.0000,   0.0000,   0.0000],\n",
      "         [  0.0000,   0.0000,   0.0000,   0.0000,   0.0000,   0.0000]]])\n"
     ]
    }
   ],
   "source": [
    "mask = torch.tensor([[1,1,1,0,0]]) \n",
    "value_layer=  torch.tensor([[[100, 100, 200, 200, 100, 100], \n",
    "                        [69, 69, 20, 20, 60, 60], \n",
    "                        [50, 50, 90, 90, 50, 50], \n",
    "                        [0, 0, 0, 0, 0, 0], \n",
    "                        [0, 0, 0, 0, 0, 0]]])\n",
    "print(value_layer.shape)\n",
    "mask_weight_bmm = torch.bmm(mask.float().unsqueeze(2), mask.float().unsqueeze(1))\n",
    "print(mask_weight_bmm)\n",
    "print(\"torch.bmm mask_weight\",mask_weight_bmm.shape)\n",
    "mask_weight_bmm1e8 = (1.0 - mask_weight_bmm) * -1e8\n",
    "mask_weight = F.softmax(mask_weight_bmm1e8,dim=-1)\n",
    "print(\" F.softmax(mask_weight\",mask_weight)\n",
    "# mask_weight = mask_weight.masked_fill(mask_weight == 0, 0.0)\n",
    "print(\"mask_weight.masked_fill(mask == 0, 0.0)\",mask_weight.masked_fill(mask_weight_bmm == 0, 0.0))\n",
    "\n",
    "context_layer = torch.matmul(mask_weight.masked_fill(mask_weight_bmm == 0, 0.0), value_layer.to(torch.float32) )\n",
    "print(\"context_layer\",context_layer)\n"
   ]
  },
  {
   "cell_type": "code",
   "execution_count": 182,
   "id": "9c948f16",
   "metadata": {},
   "outputs": [
    {
     "name": "stdout",
     "output_type": "stream",
     "text": [
      "tensor([[[0.3333, 0.3333, 0.3333, 0.0000, 0.0000],\n",
      "         [0.3333, 0.3333, 0.3333, 0.0000, 0.0000],\n",
      "         [0.3333, 0.3333, 0.3333, 0.0000, 0.0000],\n",
      "         [0.0000, 0.0000, 0.0000, 0.0000, 0.0000],\n",
      "         [0.0000, 0.0000, 0.0000, 0.0000, 0.0000]]])\n"
     ]
    }
   ],
   "source": [
    "mask = torch.tensor([[1,1,1,0,0]]) \n",
    "mask_weightBMM = torch.bmm(mask.unsqueeze(2), mask.unsqueeze(1))# (bsz, 50)->(bsz,50,50)print\n",
    "mask_weight = (1.0 - mask_weightBMM) * -1e8\n",
    "mask_weight = F.softmax(mask_weight,dim=-1)\n",
    "mask_weight = mask_weight.masked_fill(mask_weightBMM == 0, 0.0)\n",
    "print(mask_weight)"
   ]
  },
  {
   "cell_type": "code",
   "execution_count": 141,
   "id": "d94c9c03",
   "metadata": {},
   "outputs": [
    {
     "name": "stdout",
     "output_type": "stream",
     "text": [
      "value_layer shape: torch.Size([1, 2, 5, 3])\n",
      "scores shape: torch.Size([1, 2, 5, 5])\n",
      "mask.unsqueeze(-1) tensor([[[[1.],\n",
      "          [1.],\n",
      "          [1.],\n",
      "          [0.],\n",
      "          [0.]]]])\n",
      "mask.unsqueeze(-2) tensor([[[[1., 1., 1., 0., 0.]]]])\n",
      "mask shape: torch.Size([1, 2, 5, 5])\n",
      "scores_filled shape: torch.Size([1, 2, 5, 5])\n",
      "attn_output shape: torch.Size([1, 2, 5, 3])\n",
      "tensor([[[[ 75.0000,  75.0000, 145.0000],\n",
      "          [ 69.0000,  69.0000,  20.0000],\n",
      "          [ 59.5000,  59.5000,  55.0000],\n",
      "          [ 43.8000,  43.8000,  62.0000],\n",
      "          [ 43.8000,  43.8000,  62.0000]],\n",
      "\n",
      "         [[ 50.0023,  50.0023,  50.0023],\n",
      "          [ 60.0000,  60.0000,  60.0000],\n",
      "          [ 55.0000,  55.0000,  55.0000],\n",
      "          [ 42.0000,  42.0000,  42.0000],\n",
      "          [ 42.0000,  42.0000,  42.0000]]]])\n"
     ]
    }
   ],
   "source": [
    "import torch.nn.functional as F\n",
    "\n",
    "bsz = 1  # batch size\n",
    "heads = 2  # number of attention heads\n",
    "seq_len = 5  # sequence length\n",
    "value_dim = 6  # total embedding size (split across heads)\n",
    "\n",
    "# Split embedding size per head\n",
    "dim_per_head = value_dim // heads\n",
    "\n",
    "# Simulated value layer (batch_size, heads, seq_len, value_dim_per_head)\n",
    "value_layer = torch.tensor([\n",
    "    [[[100, 100, 200], [69, 69, 20], [50, 50, 90], [0, 0, 0], [0, 0, 0]],  # Head 1\n",
    "     [[100, 100, 100], [60, 60, 60], [50, 50, 50], [0, 0, 0], [0, 0, 0]]]  # Head 2\n",
    "], dtype=torch.float32)\n",
    "\n",
    "print(\"value_layer shape:\", value_layer.shape)  # (1, 2, 5, 3)\n",
    "\n",
    "# Simulated attention scores (batch_size, heads, seq_len, seq_len)\n",
    "scores = torch.tensor([\n",
    "    [[[100, 69, 100, 0, 0], [59, 100, 50, 0, 0], [23, 100, 100, 0, 0], [0, 0, 0, 0, 0], [0, 0, 0, 0, 0]],  # Head 1\n",
    "     [[80, 60, 90, 0, 0], [70, 90, 40, 0, 0], [50, 80, 80, 0, 0], [0, 0, 0, 0, 0], [0, 0, 0, 0, 0]]]  # Head 2\n",
    "], dtype=torch.float32)\n",
    "\n",
    "print(\"scores shape:\", scores.shape)  # (1, 2, 5, 5)\n",
    "\n",
    "# Attention mask: (batch_size, seq_len)\n",
    "mask = torch.tensor([[1, 1, 1, 0, 0]], dtype=torch.float32)  # (1, 5)\n",
    "\n",
    "# Convert to shape (batch_size, heads, seq_len, seq_len) for multi-heads\n",
    "mask = mask.unsqueeze(1)  # (1, 1, 5)\n",
    "print(\"mask.unsqueeze(-1)\",mask.unsqueeze(-1))\n",
    "print(\"mask.unsqueeze(-2)\",mask.unsqueeze(-2))\n",
    "mask = mask.unsqueeze(-1) * mask.unsqueeze(-2)  # (1, 1, 5, 5) -> padding mask\n",
    "mask = mask.expand(bsz, heads, seq_len, seq_len)  # Expand to match scores\n",
    "\n",
    "print(\"mask shape:\", mask.shape)  # (1, 2, 5, 5)\n",
    "\n",
    "# Apply masking: Large negative values where mask == 0\n",
    "scores_filled = scores.masked_fill(mask == 0, -1e8)\n",
    "print(\"scores_filled shape:\", scores_filled.shape)\n",
    "\n",
    "# Apply softmax for normalization (along last dimension)\n",
    "attention_probs = F.softmax(scores_filled, dim=-1)\n",
    "\n",
    "# Apply attention weights to value layer\n",
    "attn_output = torch.matmul(attention_probs, value_layer)  # (1, 2, 5, 3)\n",
    "print(\"attn_output shape:\", attn_output.shape)\n",
    "print(attn_output)"
   ]
  },
  {
   "cell_type": "code",
   "execution_count": 1,
   "id": "bd843490",
   "metadata": {},
   "outputs": [],
   "source": [
    "import pandas as pd\n",
    "import numpy as np\n",
    "import torch\n",
    "import torch.nn as nn\n",
    "import torch.optim as optim\n",
    "from torch.utils.data import  DataLoader, Subset\n",
    "import torch.nn.init as init\n",
    "from sklearn.model_selection import KFold\n",
    "from sklearn.preprocessing import MinMaxScaler\n",
    "import copy\n",
    "import seaborn as sns\n",
    "import matplotlib.pyplot as plt\n",
    "from scipy import stats\n",
    "import random\n",
    "import gc\n",
    "import os\n",
    "import importlib.util\n",
    "\n",
    "from utils.ESPF_drug2emb import drug2emb_encoder\n",
    "from utils.Model import Omics_DrugESPF_Model, Omics_DCSA_Model\n",
    "from utils.split_data_id import split_id,repeat_func\n",
    "from utils.create_dataloader import OmicsDrugDataset\n",
    "from utils.train import train, evaluation\n",
    "from utils.correlation import correlation_func\n",
    "from utils.plot import loss_curve, correlation_density,Density_Plot_of_AUC_Values\n",
    "from utils.tools import get_data_value_range,set_seed,get_vram_usage\n",
    "from utils.Metrics import MetricsCalculator_numpy, MetricsCalculator_nntorch"
   ]
  },
  {
   "cell_type": "code",
   "execution_count": null,
   "id": "49d6c246",
   "metadata": {},
   "outputs": [],
   "source": [
    "tcga_df = pd.read_csv(\"../data/TCGA/TCGA_exp_matchCCLEgenes_8238samples_4692genes.txt\", sep='\\t', index_col=0)\n",
    "ccle_df = pd.read_csv(\"../data/CCLE/CCLE_exp_476samples_4692genes.txt\", sep='\\t', index_col=0)"
   ]
  },
  {
   "cell_type": "code",
   "execution_count": null,
   "id": "83d5f784",
   "metadata": {},
   "outputs": [],
   "source": [
    "AUC_df = pd.read_csv(\"../data/no_Imputation_PRISM_Repurposing_Secondary_Screen_data/Drug_sensitivity_AUC_(PRISM_Repurposing_Secondary_Screen)_subsetted_NOrepeat.csv\", sep=',', index_col=0)"
   ]
  },
  {
   "cell_type": "code",
   "execution_count": null,
   "id": "805ba240",
   "metadata": {},
   "outputs": [],
   "source": [
    "get_data_value_range(tcga_df,\"TCGA_exp_matchCCLEgenes_8238samples_4692genes.txt\")\n",
    "get_data_value_range(ccle_df,\"CCLE_exp_476samples_4692genes.txt\")\n",
    "get_data_value_range(AUC_df,\"Drug_sensitivity_AUC_(PRISM_Repurposing_Secondary_Screen)_subsetted_NOrepeat.csv\")"
   ]
  },
  {
   "cell_type": "code",
   "execution_count": null,
   "id": "2ebeca69",
   "metadata": {},
   "outputs": [],
   "source": [
    "AUC_dropNAN=AUC_df.values.ravel()\n",
    "AUC_dropNAN = AUC_dropNAN[~np.isnan(AUC_dropNAN)]\n",
    "print(len(AUC_dropNAN))"
   ]
  },
  {
   "cell_type": "code",
   "execution_count": null,
   "id": "83841ede",
   "metadata": {},
   "outputs": [],
   "source": [
    "AUC_dropNAN_log2= np.log2(AUC_dropNAN+1) # np.log2(AUC_dropNAN+1)\n",
    "# epsilon = 1e-6  # Small constant to handle zeros\n",
    "# AUC_dropNAN_log2 = np.log(AUC_dropNAN_log2 + epsilon)"
   ]
  },
  {
   "cell_type": "code",
   "execution_count": 1,
   "id": "4161383c",
   "metadata": {},
   "outputs": [
    {
     "ename": "NameError",
     "evalue": "name 'get_data_value_range' is not defined",
     "output_type": "error",
     "traceback": [
      "\u001b[0;31m---------------------------------------------------------------------------\u001b[0m",
      "\u001b[0;31mNameError\u001b[0m                                 Traceback (most recent call last)",
      "Cell \u001b[0;32mIn[1], line 1\u001b[0m\n\u001b[0;32m----> 1\u001b[0m \u001b[43mget_data_value_range\u001b[49m(AUC_dropNAN_log2,\u001b[38;5;124m\"\u001b[39m\u001b[38;5;124mlog(-log2) Drug_sensitivity_AUC_(PRISM_Repurposing_Secondary_Screen)_subsetted_NOrepeat.csv\u001b[39m\u001b[38;5;124m\"\u001b[39m)\n",
      "\u001b[0;31mNameError\u001b[0m: name 'get_data_value_range' is not defined"
     ]
    }
   ],
   "source": [
    "get_data_value_range(AUC_dropNAN_log2,\"log(-log2) Drug_sensitivity_AUC_(PRISM_Repurposing_Secondary_Screen)_subsetted_NOrepeat.csv\")"
   ]
  },
  {
   "cell_type": "code",
   "execution_count": null,
   "id": "f7b743c1",
   "metadata": {
    "collapsed": true,
    "jupyter": {
     "outputs_hidden": true
    }
   },
   "outputs": [],
   "source": [
    "plt.figure(figsize=(8, 6))\n",
    "\n",
    "# Prepare data for boxplot\n",
    "data = [tcga_df.values.ravel(), ccle_df.values.ravel()]\n",
    "labels = ['TCGA', 'CCLE']\n",
    "        \n",
    "sns.boxplot(data=data, palette=['blue', 'red'], linewidth=1.5)\n",
    "plt.xticks(ticks=[0, 1], labels=labels, fontsize=12)\n",
    "plt.xlabel('Dataset', fontsize=16)\n",
    "plt.ylabel('Expression Values', fontsize=16)\n",
    "plt.title('Boxplot of Expression Values', fontsize=16)\n",
    "\n",
    "plt.show()"
   ]
  },
  {
   "cell_type": "code",
   "execution_count": null,
   "id": "c3766f3a",
   "metadata": {
    "collapsed": true,
    "jupyter": {
     "outputs_hidden": true
    }
   },
   "outputs": [],
   "source": [
    "import matplotlib.pyplot as plt\n",
    "import seaborn as sns\n",
    "import pandas as pd\n",
    "import numpy as np\n",
    "\n",
    "# Example data\n",
    "np.random.seed(42)\n",
    "tcga_data = tcga_df.values.ravel()\n",
    "ccle_data = ccle_df.values.ravel()\n",
    "\n",
    "# Prepare DataFrame\n",
    "data = pd.DataFrame({\n",
    "    'Value': np.concatenate([tcga_data[:20], ccle_data[:20]]),\n",
    "    'Dataset': ['TCGA'] * len(tcga_data[:20]) + ['CCLE'] * len(ccle_data[:20])\n",
    "})\n",
    "\n",
    "# Create the plot\n",
    "plt.figure(figsize=(6, 8))\n",
    "sns.violinplot(data=data, x='Dataset', y='Value', hue='Dataset', palette=['#62bcf0','#f76868' ], split=True,gap=0.5, inner=None, linewidth=1.5,legend=False)\n",
    "sns.boxplot(data=data, x='Dataset', y='Value', hue='Dataset', width=0.2, palette=['blue','red'], showfliers=True,legend=False)\n",
    "# sns.stripplot(data=data, x='Dataset', y='Value', jitter=True, palette=['#f76868', '#62bcf0'], alpha=0.5)\n",
    "\n",
    "\n",
    "# Customize labels and legend\n",
    "plt.xlabel('Dataset', fontsize=16)\n",
    "plt.ylabel('Expression Values', fontsize=16)\n",
    "plt.title('Combined Boxplot, Density, and Dot Plot', fontsize=16)\n",
    "plt.show()"
   ]
  },
  {
   "cell_type": "code",
   "execution_count": null,
   "id": "db0febb3",
   "metadata": {},
   "outputs": [],
   "source": [
    "import numpy as np\n",
    "import pandas as pd\n",
    "import seaborn as sns\n",
    "import matplotlib.pyplot as plt\n",
    "\n",
    "tcga_data = tcga_df.values.ravel()\n",
    "ccle_data = ccle_df.values.ravel()\n",
    "data = pd.DataFrame({\n",
    "    'Value': np.concatenate([tcga_data, ccle_data]),\n",
    "    'Dataset': ['TCGA'] * len(tcga_data) + ['CCLE'] * len(ccle_data)\n",
    "})\n",
    "\n",
    "df = pd.DataFrame(data)\n",
    "\n",
    "# Create the plot\n",
    "plt.figure(figsize=(7, 5))\n",
    "sns.violinplot(x='Dataset', y='Value', data=df, inner=None, linewidth=2,split=True,gap=0.2,cut=0,\n",
    "    palette={'TCGA': 'skyblue', 'CCLE': 'salmon'})\n",
    "flierprops = dict(marker='o', markersize=4, markeredgewidth=1, markerfacecolor='none')\n",
    "meanprops={\"marker\": \"*\", \"markersize\":5, \"markerfacecolor\": \"#faa507\", \"markeredgecolor\": \"#faa507\", \"markeredgewidth\": 0.5}\n",
    "sns.boxplot(x='Dataset', y='Value', data=df, width=0.3, showmeans=True,meanprops=meanprops,\n",
    "    boxprops={'facecolor': 'none','linewidth': 1.2, 'edgecolor': 'k'}, showfliers=True,flierprops=flierprops,whiskerprops={'linewidth': 1.5, 'color': 'k'})\n",
    "\n",
    "# # Add significance marker\n",
    "#plt.text(0.5, 0.28, '*', fontsize=20, ha='center', va='bottom')\n",
    "\n",
    "# Customize the plot\n",
    "plt.ylabel('Expression Value', fontsize=15)\n",
    "plt.yticks(fontsize=15)\n",
    "plt.xticks(fontsize=15)\n",
    "plt.xlabel('Dataset', fontsize=15)\n",
    "plt.title('Violin-Boxplot of Expression Values', fontsize=15)\n",
    "plt.tight_layout()\n",
    "\n",
    "# Show the plot\n",
    "plt.show()"
   ]
  },
  {
   "cell_type": "code",
   "execution_count": null,
   "id": "daecea79",
   "metadata": {},
   "outputs": [],
   "source": [
    "\n",
    "# Create a DataFrame with a single condition\n",
    "data = {\n",
    "    'Sample': [f'Sample{i+1}' for i in range(len(AUC_dropNAN_log2))],\n",
    "    'Expression_Level': AUC_dropNAN_log2,\n",
    "    'Condition': [' '] * len(AUC_dropNAN_log2)  # Single condition for all samples\n",
    "}\n",
    "df = pd.DataFrame(data)\n",
    "\n",
    "# Create the plot\n",
    "plt.figure(figsize=(8, 6))\n",
    "sns.violinplot(x='Expression_Level', orient='h', y='Condition', hue='Condition', legend=False,split=True,gap =0.6, data=df, inner=None, palette=['#62bcf0'], cut=0, linewidth=1,edgecolor='#0292e6')\n",
    "flierprops = dict(marker='o', markersize=5, markeredgewidth=1, markerfacecolor='skyblue')\n",
    "meanprops={\"marker\": \"*\", \"markersize\":5, \"markerfacecolor\": \"#faa507\", \"markeredgecolor\": \"#faa507\", \"markeredgewidth\": 0.5}\n",
    "sns.boxplot(x='Expression_Level', orient='h', y='Condition', data=df, width=0.1, showcaps=True, boxprops={'facecolor': 'none', 'edgecolor': 'k'}, \n",
    "     showfliers=True,flierprops=flierprops,whiskerprops={'linewidth': 1.5, 'color': 'k'}, showmeans=True,meanprops=meanprops)\n",
    "# sns.stripplot(x='Expression_Level', y='Condition', data=df, color='#b6e1fa', size=0.1, jitter=True)\n",
    "\n",
    "# Customize the plot\n",
    "plt.ylabel('Density', fontsize=12)\n",
    "plt.xlabel('AUC value', fontsize=12)\n",
    "plt.title('Half Violin and Boxplot for AUC', fontsize=14)\n",
    "plt.tight_layout()\n",
    "\n",
    "# Show the plot\n",
    "plt.show()"
   ]
  },
  {
   "cell_type": "code",
   "execution_count": null,
   "id": "07ef0a05",
   "metadata": {},
   "outputs": [],
   "source": [
    "import seaborn as sns\n",
    "import matplotlib.pyplot as plt\n",
    "import pandas as pd\n",
    "from matplotlib.lines import Line2D\n",
    "# Assuming AUC_df is already defined\n",
    "data = {\n",
    "    'Sample': [f'Sample{i+1}' for i in range(len(AUC_dropNAN_log2))],\n",
    "    'AUC_values': AUC_dropNAN_log2,\n",
    "    'Condition': [' '] * len(AUC_dropNAN_log2)  # Single condition for all samples\n",
    "}\n",
    "df = pd.DataFrame(data)\n",
    "\n",
    "# Create the plot\n",
    "plt.figure(figsize=(7, 5))\n",
    "\n",
    "# Replace violin plot with a density plot (KDE plot)\n",
    "sns.kdeplot( AUC_dropNAN_log2, fill=True, palette=\"#62bcf0\", linewidth=2,cut=0)\n",
    "\n",
    "# Add the boxplot\n",
    "# Set the properties for the outlier dots in the boxplot\n",
    "flierprops = dict(marker='o', markersize=5, markeredgewidth=1, markerfacecolor='skyblue')\n",
    "sns.boxplot(AUC_dropNAN_log2, \n",
    "            orient='h', \n",
    "            width=0.6, \n",
    "            showcaps=True, \n",
    "            boxprops={'facecolor': 'none','linewidth': 2, 'edgecolor': 'k'}, \n",
    "            medianprops={'linewidth': 2, 'color': 'k'},                  \n",
    "            showfliers=True, \n",
    "            flierprops=flierprops, \n",
    "            whiskerprops={'linewidth': 1.5, 'color': 'k'}, \n",
    "            showmeans=True,\n",
    "            meanline=True,\n",
    "            capprops={'linewidth': 2, 'color': 'k'},\n",
    "            meanprops={\"linestyle\":'-', \"linewidth\":2, \"color\":'#d48b04'}  # Blue mean line similar to Q2\n",
    "            )\n",
    "# 計算 Q1, Q3 和 IQR\n",
    "Q1 = np.percentile(df['AUC_values'], 25)\n",
    "Q3 = np.percentile(df['AUC_values'], 75)\n",
    "IQR = Q3 - Q1\n",
    "threshold = Q1 - 1.5 * IQR # Q3 + 1.5 * IQR # Q1- 1.5 * IQR \n",
    "\n",
    "# Calculate data counts for threshold\n",
    "auc_greater_than_threshold = df[df['AUC_values'] >= threshold].shape[0]\n",
    "auc_less_than_threshold = df[df['AUC_values'] < threshold].shape[0]\n",
    "total = auc_greater_than_threshold + auc_less_than_threshold\n",
    "# Q3+1.5IQR Q1-1.5IQR \n",
    "legend_elements = [\n",
    "    Line2D([0], [0], color='none', label=f'AUC >= {threshold:.2f}(Q1-1.5IQR) (n={auc_greater_than_threshold}, {(auc_greater_than_threshold / total * 100):.2f}%)'),\n",
    "    Line2D([0], [0], color='none', label=f'AUC < {threshold:.2f}(Q1-1.5IQR) (n={auc_less_than_threshold}, {(auc_less_than_threshold / total * 100):.2f}%)'),\n",
    "    Line2D([0], [0], color='#d48b04', lw=2, linestyle='solid', label='Mean'),\n",
    "    Line2D([0], [0], marker='o', markersize=5, markeredgewidth=1, markerfacecolor='skyblue', label='Outliers', linestyle='None'),\n",
    "  ]\n",
    "plt.legend(handles=legend_elements, loc='upper left', fontsize=12)\n",
    "\n",
    "# Customize the plot\n",
    "plt.ylabel('Density', fontsize=15)\n",
    "plt.xlabel('AUC_values', fontsize=15)\n",
    "plt.title('Density Plot and Boxplot for AUC', fontsize=15)\n",
    "plt.tight_layout()\n",
    "plt.ylim(-1, 5.5) #\n",
    "plt.yticks(range(0, 5),[str(y) for y in range(0, 5)]) # Ensure ticks are shown\n",
    "# Show the plot\n",
    "plt.show()"
   ]
  },
  {
   "cell_type": "code",
   "execution_count": null,
   "id": "1ad19cdf",
   "metadata": {},
   "outputs": [],
   "source": [
    "sns.kdeplot( AUC_dropNAN_log2, fill=True, palette=\"#62bcf0\", linewidth=2,cut=0, label='log2(AUC+1)')\n",
    "sns.kdeplot( AUC_dropNAN, fill=True, palette=\"#62bc50\", linewidth=2,cut=0, label='AUC')\n",
    "plt.legend(loc='upper left', fontsize=13)\n",
    "plt.xlabel('AUC Value', fontsize=15)\n",
    "plt.ylabel('Density', fontsize=15)\n",
    "plt.show()"
   ]
  },
  {
   "cell_type": "code",
   "execution_count": null,
   "id": "27616fcd",
   "metadata": {},
   "outputs": [],
   "source": [
    "\n",
    "auc_values = AUC_dropNAN_log2\n",
    "\n",
    "# 將 AUC 值分組，每組間隔 0.05\n",
    "bins = np.arange(0, 1.02, 0.05)\n",
    "\n",
    "categories = pd.cut(auc_values, bins, right=True) #right=True(]; right=False[)\n",
    "\n",
    "# Calculate the count for each bin\n",
    "bin_counts = categories.value_counts().sort_index()\n",
    "\n",
    "# Print the count of each interval\n",
    "print(bin_counts)\n",
    "\n",
    "# 計算每個區間的數量\n",
    "df = pd.DataFrame({'AUC_range': categories})\n",
    "df['count'] = df.groupby('AUC_range').size()\n",
    "\n",
    "\n",
    "# 使用 Seaborn繪製條形圖\n",
    "sns.countplot(x='AUC_range', data=df)\n",
    "plt.xticks(rotation=45)\n",
    "plt.xlabel('-log AUC Range')\n",
    "plt.ylabel('Count')\n",
    "\n",
    "plt.title('Distribution of -log10 AUC Values')\n",
    "plt.show()"
   ]
  },
  {
   "cell_type": "code",
   "execution_count": null,
   "id": "6fcd8021",
   "metadata": {
    "collapsed": true,
    "jupyter": {
     "outputs_hidden": true
    }
   },
   "outputs": [],
   "source": [
    "import numpy as np\n",
    "import seaborn as sns\n",
    "import matplotlib.pyplot as plt\n",
    "from scipy.stats import skew\n",
    "np.random.seed(42)\n",
    "# Generate a right-skewed array using an exponential distribution\n",
    "right_skewed_array = np.random.exponential(scale=2.0, size=1000)\n",
    "\n",
    "# Calculate the skewness\n",
    "calculated_skewness = skew(right_skewed_array)\n",
    "\n",
    "# Plot the distribution\n",
    "plt.figure(figsize=(8, 5))\n",
    "sns.histplot(right_skewed_array, kde=True, color='skyblue', bins=30)\n",
    "plt.title(f\"Right-Skewed Distribution (Skewness: {calculated_skewness:.2f})\", fontsize=15)\n",
    "plt.xlabel(\"Value\", fontsize=12)\n",
    "plt.ylabel(\"Frequency\", fontsize=12)\n",
    "plt.show()\n",
    "\n",
    "right_skewed_array[:10], calculated_skewness"
   ]
  },
  {
   "cell_type": "code",
   "execution_count": 3,
   "id": "aea5d484",
   "metadata": {},
   "outputs": [
    {
     "name": "stdout",
     "output_type": "stream",
     "text": [
      "Training on device cuda.\n"
     ]
    }
   ],
   "source": [
    "import pandas as pd\n",
    "import numpy as np\n",
    "import torch\n",
    "import torch.nn as nn\n",
    "import torch.optim as optim\n",
    "from torch.utils.data import  DataLoader, Subset\n",
    "import torch.nn.init as init\n",
    "from sklearn.model_selection import KFold\n",
    "from sklearn.preprocessing import MinMaxScaler\n",
    "import copy\n",
    "import seaborn as sns\n",
    "import matplotlib.pyplot as plt\n",
    "from scipy import stats\n",
    "import random\n",
    "import gc\n",
    "import os\n",
    "import importlib.util\n",
    "\n",
    "from utils.ESPF_drug2emb import drug2emb_encoder\n",
    "from utils.Model import Omics_DrugESPF_Model, Omics_DCSA_Model\n",
    "from utils.split_data_id import split_id,repeat_func\n",
    "from utils.create_dataloader import OmicsDrugDataset\n",
    "from utils.train import train, evaluation\n",
    "from utils.correlation import correlation_func\n",
    "from utils.plot import loss_curve, correlation_density,Density_Plot_of_AUC_Values\n",
    "from utils.tools import get_data_value_range,set_seed,get_vram_usage\n",
    "\n",
    "device = (torch.device('cuda') if torch.cuda.is_available() else torch.device('cpu'))\n",
    "print(f\"Training on device {device}.\")"
   ]
  },
  {
   "cell_type": "code",
   "execution_count": null,
   "id": "d8e29170",
   "metadata": {},
   "outputs": [],
   "source": [
    "import torch.nn as nn\n",
    "from utils.Loss import Custom_LossFunction,Custom_Weighted_LossFunction,FocalMSELoss\n",
    "from utils.Custom_Activation_Function import ScaledSigmoid, ReLU_clamp\n",
    "from utils.Metrics import MetricsCalculator_nntorch, MetricsCalculator_numpy\n",
    "\n",
    "test = False #False, True: batch_size = 3, num_epoch = 2, full dataset\n",
    "\n",
    "omics_files = {\n",
    "    'Mut': \"../data/CCLE/CCLE_match_TCGAgene_PRISMandEXPsample_binary_mutation_476_6009.txt\",\n",
    "    'Exp': \"../data/CCLE/CCLE_exp_476samples_4692genes.txt\",\n",
    "    # Add more omics types and paths as needed\n",
    "    }\n",
    "omics_dict = {'Mut':0,'Exp':1,'CN':2, 'Eff':3, 'Dep':4, 'Met':5}\n",
    "omics_data_dict = {}\n",
    "omics_data_tensor_dict = {}\n",
    "omics_numfeatures_dict = {}\n",
    "omics_encode_dim_dict ={'Mut':[1000,100,50],'Exp':[1000,100,50], # Dr.Chiu:exp[500,200,50]\n",
    "                        'CN':[100,50,30], 'Eff':[100,50,30], 'Dep':[100,50,30], 'Met':[100,50,30]}\n",
    "\n",
    "TCGA_pretrain_weight_path_dict = {'Mut': \"./results/Encoder_tcga_mut_1000_100_50_best_loss_0.0066.pt\",\n",
    "                                  'Exp': \"./results/Encoder_tcga_exp_1000_100_50_best_loss_0.7.pt\",\n",
    "                                  # Add more omics types and paths as needed\n",
    "                                }\n",
    "seed = 42\n",
    "#hyperparameter\n",
    "model_name = \"Omics_DrugESPF_Model\" # Omics_DrugESPF_Model  Omics_DCSA_Model\n",
    "AUCtransform = None #\"-log2\"\n",
    "splitType= 'byCCL' # byCCL byDrug\n",
    "kfoldCV = 5\n",
    "include_omics = ['Exp']\n",
    "max_drug_len=50 # 不夠補零補到50 / 超過取前50個subwords(index) !!!!須改方法!!!! \n",
    "drug_embedding_feature_size = 128\n",
    "ESPF = True # False True\n",
    "Drug_SelfAttention = True\n",
    "pos_emb_type = 'sinusoidal' # 'learned' 'sinusoidal'\n",
    "#需再修改-----------\n",
    "\n",
    "intermediate_size =512\n",
    "num_attention_heads = 8        \n",
    "attention_probs_dropout_prob = 0.1\n",
    "hidden_dropout_prob = 0.1\n",
    "\n",
    "if ESPF is True:\n",
    "    \n",
    "    drug_encode_dims =[1600,400,100] # 50*128  \n",
    "    dense_layer_dim = sum(omics_encode_dim_dict[omic_type][2] for omic_type in include_omics) + drug_encode_dims[2] # MLPDim\n",
    "elif ESPF is False:\n",
    "    \n",
    "    drug_encode_dims =[110,55,22]\n",
    "    dense_layer_dim = sum(omics_encode_dim_dict[omic_type][2] for omic_type in include_omics) + drug_encode_dims[2] # MLPDim\n",
    "elif model_name = \"Omics_DCSA_Model\":\n",
    "    drug_encode_dims =[(max_drug_len+len(include_omics))*(drug_embedding_feature_size+num_attention_heads)+ (len(include_omics)*128), 700, 70, 1] #\n",
    "    dense_layer_dim = None\n",
    "print(\"drug_encode_dims\",drug_encode_dims)\n",
    "print(\"dense_layer_dim\",dense_layer_dim)\n",
    "#需再修改-------------\n",
    "TrackGradient = False # False True\n",
    "\n",
    "activation_func = nn.ReLU()  # ReLU activation function # Leaky ReLu\n",
    "activation_func_final = nn.Sigmoid() # ScaledSigmoid(scale=8) GroundT range ( 0 ~ scale ) # ReLU_clamp(max=8)\n",
    "#nn.Sigmoid()or ReLU() or Linear/identity(when -log2AUC)\n",
    "batch_size = 200\n",
    "num_epoch = 200 # for k fold CV \n",
    "patience = 20\n",
    "warmup_iters = 60\n",
    "Decrease_percent = 0.9\n",
    "continuous = True\n",
    "learning_rate=1e-04\n",
    "metrics_type_set=[\"MSE\", \"MAE\", \"R^2\"]\n",
    "metrics_calculator = MetricsCalculator_nntorch(types = metrics_type_set)\n",
    "#criterion = Custom_LossFunction(loss_type=\"MSE\", loss_lambda=1.0, regular_type=None, regular_lambda=1e-06) #nn.MSELoss()#\n",
    "criterion =  FocalMSELoss(alpha=8.0, gamma=1.0, regular_type=None, regular_lambda=1e-05)\n",
    "\"\"\" A customizable loss function class.\n",
    "    Args:\n",
    "        loss_type (str): The type of loss to use (\"RMSE\", \"MSE\", \"MAE\", \"MAE+MSE\", \"MAE+RMSE\")/(\"weighted_RMSE\", \"weighted_MSE\", \"weighted_MAE\", \"weighted_MAE+MSE\", \"weighted_MAE+RMSE\").\n",
    "        loss_lambda (float): The lambda weight for the additional loss (MSE or RMSE) if applicable. Default is MAE+ 1.0*(MSE or RMSE).\n",
    "        regular_type (str): The type of regularization to use (\"L1\", \"L2\", \"L1+L2\"), or None for no regularization.\n",
    "        regular_lambda (float): The lambda weight for regularization. Default is 1e-05.\"\"\"\n",
    "\n",
    "hyperparameter_print = f' omics_dict ={omics_dict}\\n omics_files ={omics_files}\\n TCGA_pretrain_weight_path_dict ={TCGA_pretrain_weight_path_dict}\\n seed ={seed}\\n  model_name ={model_name}\\n AUCtransform ={AUCtransform}\\n splitType ={splitType}\\n kfoldCV ={kfoldCV}\\n omics_encode_dim ={[(omic_type,omics_encode_dim_dict[omic_type]) for omic_type in include_omics]}\\n max_drug_len ={max_drug_len}\\n drug_embedding_feature_size ={drug_embedding_feature_size}\\n ESPF ={ESPF}\\n Drug_SelfAttention ={Drug_SelfAttention}\\n pos_emb_type ={pos_emb_type}\\n intermediate_size ={intermediate_size}\\n num_attention_heads ={num_attention_heads}\\n attention_probs_dropout_prob ={attention_probs_dropout_prob}\\n hidden_dropout_prob ={hidden_dropout_prob}\\n drug_encode_dims ={drug_encode_dims}\\n dense_layer_dim = {dense_layer_dim}\\n activation_func = {activation_func}\\n activation_func_final = {activation_func_final}\\n batch_size = {batch_size}\\n num_epoch = {num_epoch}\\n patience = {patience}\\n warmup_iters = {warmup_iters}\\n Decrease_percent = {Decrease_percent}\\n continuous ={continuous}\\n learning_rate = {learning_rate}\\n criterion ={criterion}\\n'\n",
    "\n",
    "__translation_table__ = str.maketrans({\n",
    "    \"*\": \"\",    \"/\": \"\",    \":\": \"-\",    \"%\": \"\",\n",
    "    \"'\": \"\",    \"\\\"\": \"\",    \"[\": \"\",    \"]\": \"\",\n",
    "    \",\": \"\" })\n",
    "\n",
    "hyperparameter_folder_part = (f'Model{model_name}_{splitType}_Omics{[omic_type for omic_type in include_omics]}_ESPF{ESPF}_DrugSelfAttention{Drug_SelfAttention}').translate(__translation_table__)\n",
    "\n"
   ]
  },
  {
   "cell_type": "code",
   "execution_count": 2,
   "id": "6f1f2603",
   "metadata": {},
   "outputs": [
    {
     "ename": "NameError",
     "evalue": "name 'set_seed' is not defined",
     "output_type": "error",
     "traceback": [
      "\u001b[0;31m---------------------------------------------------------------------------\u001b[0m",
      "\u001b[0;31mNameError\u001b[0m                                 Traceback (most recent call last)",
      "Cell \u001b[0;32mIn[2], line 1\u001b[0m\n\u001b[0;32m----> 1\u001b[0m \u001b[43mset_seed\u001b[49m(seed)\n\u001b[1;32m      2\u001b[0m \u001b[38;5;28;01mfor\u001b[39;00m omic_type \u001b[38;5;129;01min\u001b[39;00m include_omics:\n\u001b[1;32m      3\u001b[0m     \u001b[38;5;66;03m# Read the file\u001b[39;00m\n\u001b[1;32m      4\u001b[0m     omics_data_dict[omic_type] \u001b[38;5;241m=\u001b[39m pd\u001b[38;5;241m.\u001b[39mread_csv(omics_files[omic_type], sep\u001b[38;5;241m=\u001b[39m\u001b[38;5;124m'\u001b[39m\u001b[38;5;130;01m\\t\u001b[39;00m\u001b[38;5;124m'\u001b[39m, index_col\u001b[38;5;241m=\u001b[39m\u001b[38;5;241m0\u001b[39m)\n",
      "\u001b[0;31mNameError\u001b[0m: name 'set_seed' is not defined"
     ]
    }
   ],
   "source": [
    "\n",
    "set_seed(seed)\n",
    "for omic_type in include_omics:\n",
    "    # Read the file\n",
    "    omics_data_dict[omic_type] = pd.read_csv(omics_files[omic_type], sep='\\t', index_col=0)\n",
    "\n",
    "    if test is True:\n",
    "        # Specify the index as needed\n",
    "        omics_data_dict[omic_type] = omics_data_dict[omic_type][:76]  # Adjust the row selection as needed  \n",
    "    if omic_type == \"Exp\":# apply Column-wise Min-Max Normalization \n",
    "        scaler = MinMaxScaler() \n",
    "        omics_data_dict[omic_type] = pd.DataFrame(scaler.fit_transform(omics_data_dict[omic_type]),index=omics_data_dict[omic_type].index,columns=omics_data_dict[omic_type].columns)\n",
    "\n",
    "    omics_data_tensor_dict[omic_type]  = torch.tensor(omics_data_dict[omic_type].values, dtype=torch.float32).to(device)\n",
    "    omics_numfeatures_dict[omic_type] = omics_data_tensor_dict[omic_type].shape[1]\n",
    " \n",
    "    print(f\"{omic_type} tensor shape:\", omics_data_tensor_dict[omic_type].shape)\n",
    "    print(f\"{omic_type} num_features\",omics_numfeatures_dict[omic_type])"
   ]
  },
  {
   "cell_type": "code",
   "execution_count": 9,
   "id": "689fcf93",
   "metadata": {},
   "outputs": [
    {
     "name": "stdout",
     "output_type": "stream",
     "text": [
      "AUC_df (476, 1440)\n",
      "drug_df (1440, 9)\n",
      "AUC_df (476, 1440)\n"
     ]
    }
   ],
   "source": [
    "drug_df= pd.read_csv(\"../data/no_Imputation_PRISM_Repurposing_Secondary_Screen_data/MACCS(Secondary_Screen_treatment_info)_union_NOrepeat.csv\", sep=',', index_col=0)\n",
    "AUC_df = pd.read_csv(\"../data/no_Imputation_PRISM_Repurposing_Secondary_Screen_data/Drug_sensitivity_AUC_(PRISM_Repurposing_Secondary_Screen)_subsetted_NOrepeat.csv\", sep=',', index_col=0)\n",
    "# matched AUCfile and omics_data samples\n",
    "\n",
    "matched_samples = sorted(set(AUC_df.T.columns) & set(list(omics_data_dict.values())[0].T.columns))\n",
    "AUC_df= (AUC_df.T[matched_samples]).T\n",
    "\n",
    "print(\"AUC_df\",AUC_df.shape)\n",
    "if AUCtransform == \"-log2\":\n",
    "    AUC_df = -np.log2(AUC_df)\n",
    "if AUCtransform == \"-log10\":\n",
    "    AUC_df = -np.log10(AUC_df)\n",
    "    \n",
    "print(\"drug_df\",drug_df.shape)\n",
    "print(\"AUC_df\",AUC_df.shape)"
   ]
  },
  {
   "cell_type": "code",
   "execution_count": 10,
   "id": "501a203e",
   "metadata": {},
   "outputs": [
    {
     "name": "stdout",
     "output_type": "stream",
     "text": [
      "weighted_threshold: None\n"
     ]
    }
   ],
   "source": [
    "if test is True:\n",
    "    batch_size = 3\n",
    "    num_epoch = 2\n",
    "    print(\"batch_size\",batch_size,\"num_epoch:\",num_epoch)\n",
    "    drug_df=drug_df[:42]\n",
    "    AUC_df=AUC_df.iloc[:76,:42]\n",
    "    print(\"drug_df\",drug_df.shape)\n",
    "    print(\"AUC_df\",AUC_df.shape)\n",
    "    kfoldCV = 2\n",
    "    print(\"kfoldCV\",kfoldCV)\n",
    "\n",
    "\n",
    "if 'weighted' in criterion.loss_type :    \n",
    "    # Set threshold based on the 90th percentile # 將高於threshold的AUC權重增加\n",
    "    weighted_threshold = np.nanpercentile(AUC_df.values, 90)    \n",
    "    total_samples = (~np.isnan(AUC_df.values)).sum().item()\n",
    "    fewWt_samples = (AUC_df.values > weighted_threshold).sum().item()\n",
    "    moreWt_samples = total_samples - fewWt_samples\n",
    "    few_weight = total_samples / (2 * fewWt_samples)  \n",
    "    more_weight = total_samples / (2 * moreWt_samples)   \n",
    "    # print(\"weighted_threshold\",weighted_threshold)\n",
    "    # print(\"total_samples\",total_samples)\n",
    "    # print(\"few_samples\",few_samples)\n",
    "    # print(\"more_samples\",more_samples)\n",
    "    # print(\"few_weight\",few_weight)\n",
    "    # print(\"more_weight\",more_weight)\n",
    "else:\n",
    "    weighted_threshold = None\n",
    "    few_weight = None\n",
    "    more_weight = None\n",
    "print(\"weighted_threshold:\",weighted_threshold)"
   ]
  },
  {
   "cell_type": "code",
   "execution_count": null,
   "id": "6951f0f5",
   "metadata": {},
   "outputs": [
    {
     "name": "stdout",
     "output_type": "stream",
     "text": [
      "num_ccl,num_drug:  476 1440\n",
      "torch.Size([476, 1440])\n"
     ]
    }
   ],
   "source": [
    "if ESPF is True:\n",
    "    drug_smiles =drug_df[\"smiles\"] # \n",
    "    drug_names =drug_df.index\n",
    "    # 挑出重複的SMILES\n",
    "    duplicate =  drug_smiles[drug_smiles.duplicated(keep=False)]\n",
    "    vocab_path = \"./ESPF/drug_codes_chembl_freq_1500.txt\" # token\n",
    "    sub_csv = pd.read_csv(\"./ESPF/subword_units_map_chembl_freq_1500.csv\")# token with frequency\n",
    "    drug_encode = pd.Series(drug_smiles).apply(drug2emb_encoder, args=(vocab_path, sub_csv, max_drug_len))\n",
    "    drug_features_tensor = torch.tensor(np.array([drug_encode.values[0][:2]]), dtype=torch.long).to(device)#drug_features_tensor = torch.tensor(np.array(drug_encode.values.tolist()), dtype=torch.long).to(device)\n",
    "else:\n",
    "    drug_encode = drug_df[\"MACCS166bits\"]\n",
    "    drug_encode_list = [list(map(int, item.split(','))) for item in drug_encode.values]\n",
    "    print(\"MACCS166bits_drug_encode_list type: \",type(drug_encode_list))\n",
    "    drug_features_tensor = torch.tensor(np.array(drug_encode_list), dtype=torch.long).to(device)\n",
    "#--------------------------------------------------------------------------------------------------------------------------\n",
    "num_ccl = list(omics_data_dict.values())[0].shape[0]\n",
    "num_drug = drug_encode.shape[0]\n",
    "print(\"num_ccl,num_drug: \",num_ccl,num_drug)\n",
    "\n",
    "# Convert your data to tensors if they're in numpy\n",
    "response_matrix_tensor = torch.tensor(AUC_df.values, dtype=torch.float32).to(device)\n",
    "print(response_matrix_tensor.shape)\n",
    "print(drug_encode.values[0][2])"
   ]
  },
  {
   "cell_type": "code",
   "execution_count": 7,
   "id": "0dbeb8b8",
   "metadata": {},
   "outputs": [
    {
     "name": "stdout",
     "output_type": "stream",
     "text": [
      "id_unrepeat_train (380,)\n",
      "id_unrepeat_val (48,)\n",
      "id_unrepeat_test (48,)\n",
      "id_unrepeat_train_val (428,)\n",
      "id_test.shape (69120,)\n"
     ]
    }
   ],
   "source": [
    "id_unrepeat_test, id_unrepeat_train_val = split_id(num_ccl,num_drug,splitType,kfoldCV,repeat=True)\n",
    "# repeat the test id\n",
    "if splitType == \"byCCL\":\n",
    "    repeatNum = num_drug\n",
    "elif splitType == \"byDrug\":\n",
    "    repeatNum = num_ccl\n",
    "id_test = repeat_func(id_unrepeat_test, repeatNum, setname='test')\n"
   ]
  },
  {
   "cell_type": "code",
   "execution_count": 8,
   "id": "6b3f0e72",
   "metadata": {},
   "outputs": [
    {
     "name": "stdout",
     "output_type": "stream",
     "text": [
      "[10080 10081 10082 10083 10084 10085 10086 10087 10088 10089]\n"
     ]
    }
   ],
   "source": [
    "print(id_test[:10])"
   ]
  },
  {
   "cell_type": "code",
   "execution_count": 9,
   "id": "eb996ea8",
   "metadata": {},
   "outputs": [],
   "source": [
    "set_seed(seed)\n",
    "dataset = OmicsDrugDataset(omics_data_tensor_dict, drug_features_tensor, response_matrix_tensor, splitType, include_omics)\n",
    "\n",
    "test_dataset = Subset(dataset, id_test.tolist())\n",
    "test_loader = DataLoader(test_dataset, batch_size=batch_size, shuffle=False) # , num_workers=4, pin_memory=True\n",
    "#create whole dataset\n",
    "whole_loader = DataLoader(dataset, batch_size=2000, shuffle=False) # 685440\n"
   ]
  },
  {
   "cell_type": "code",
   "execution_count": 10,
   "id": "d99a977c",
   "metadata": {},
   "outputs": [
    {
     "name": "stdout",
     "output_type": "stream",
     "text": [
      "State_dict for Sequential(\n",
      "  (0): Linear(in_features=4692, out_features=1000, bias=True)\n",
      "  (1): ReLU()\n",
      "  (2): Linear(in_features=1000, out_features=100, bias=True)\n",
      "  (3): ReLU()\n",
      "  (4): Linear(in_features=100, out_features=50, bias=True)\n",
      "  (5): ReLU()\n",
      ") loaded successfully.\n",
      "\n",
      " Drug_SelfAttention is applied \n",
      "\n",
      "CPU times: user 24.2 s, sys: 420 ms, total: 24.6 s\n",
      "Wall time: 26.3 s\n"
     ]
    }
   ],
   "source": [
    "%%time\n",
    "# Evaluation\n",
    "\n",
    "if model_name == \"Omics_DrugESPF_Model\":\n",
    "    model = Omics_DrugESPF_Model(omics_encode_dim_dict, drug_encode_dims, activation_func, activation_func_final, dense_layer_dim, device, ESPF, Drug_SelfAttention, pos_emb_type,\n",
    "                        drug_embedding_feature_size, intermediate_size, num_attention_heads , attention_probs_dropout_prob, hidden_dropout_prob, omics_numfeatures_dict, max_drug_len,\n",
    "                        TCGA_pretrain_weight_path_dict= TCGA_pretrain_weight_path_dict)\n",
    "elif model_name == \"Omics_DCSA_Model\":\n",
    "    model = Omics_DCSA_Model(omics_encode_dim_dict, drug_encode_dims, activation_func, activation_func_final, dense_layer_dim, device, ESPF, Drug_SelfAttention, pos_emb_type,\n",
    "                        drug_embedding_feature_size, intermediate_size, num_attention_heads , attention_probs_dropout_prob, hidden_dropout_prob, omics_numfeatures_dict, max_drug_len,\n",
    "                        TCGA_pretrain_weight_path_dict= TCGA_pretrain_weight_path_dict)\n",
    "model.to(device=device)\n",
    "best_weight_path = './inference/BestFold2_test_loss0.0044098_BestValEpo8_ModelOmics_DrugESPF_Model_byCCL_OmicsExp_ESPFTrue_DrugSelfAttentionTrue/'\n",
    "best_weight = best_weight_path + \"BestValWeight.pt\"\n",
    "\n",
    "model.load_state_dict(torch.load(best_weight))\n",
    "\n",
    "# eval_targets, eval_outputs,predAUCwithUnknownGT, AttenScorMat_DrugSelf, AttenScorMat_DrugCellSelf,eval_outputs_before_final_activation_list, mean_batch_eval_lossWOpenalty\n",
    "(eval_targets, eval_outputs,predAUCwithUnknownGT,\n",
    " _ ,_,\n",
    " eval_outputs_before_final_activation_list, \n",
    " mean_batch_eval_lossWOpenalty)  = evaluation(model, None,None,\n",
    "                                             criterion, whole_loader, device,ESPF,Drug_SelfAttention, \n",
    "                                             weighted_threshold, few_weight, more_weight, \n",
    "                                             outputcontrol='inference')\n",
    "\n"
   ]
  },
  {
   "cell_type": "code",
   "execution_count": 11,
   "id": "72097c08",
   "metadata": {},
   "outputs": [
    {
     "name": "stdout",
     "output_type": "stream",
     "text": [
      "(685440,)\n",
      "CSV file has been saved.\n"
     ]
    }
   ],
   "source": [
    "predAUCwithUnknownGT_list = np.concatenate(predAUCwithUnknownGT)\n",
    "print(predAUCwithUnknownGT_list.shape)\n",
    "predAUCmatrix = predAUCwithUnknownGT_list.reshape(476, 1440) # numpy.ndarray\n",
    "\n",
    "predAUCmatrix_df = pd.DataFrame(predAUCmatrix, columns=AUC_df.columns, index=AUC_df.index)\n",
    "# Output to CSV\n",
    "predAUCmatrix_df.to_csv(best_weight_path+'predicted AUC values with UnknownGroundTruth samples.csv')\n",
    "print(\"CSV file has been saved.\")"
   ]
  },
  {
   "cell_type": "code",
   "execution_count": 20,
   "id": "8f3c82eb",
   "metadata": {},
   "outputs": [
    {
     "name": "stdout",
     "output_type": "stream",
     "text": [
      "eval_targets\n",
      " tensor([0.9036, 0.9385, 0.5121, 0.8205, 0.8813, 0.7088, 0.7894, 0.7654, 0.8884,\n",
      "        0.7771], device='cuda:0')\n",
      "eval_outputs_before_final_activation_list\n",
      " [1.7557875  1.7566662  0.06698469 1.2181281  2.2245376  1.3837595\n",
      " 1.3948462  1.3587809  2.2915099  1.4390914 ]\n",
      "eval_outputs\n",
      " tensor([0.8527, 0.8528, 0.5167, 0.7717, 0.9024, 0.7996, 0.8014, 0.7956, 0.9082,\n",
      "        0.8083], device='cuda:0')\n"
     ]
    }
   ],
   "source": [
    "print(\"eval_targets\\n\",eval_targets[0][:10])\n",
    "print(\"eval_outputs_before_final_activation_list\\n\",eval_outputs_before_final_activation_list[0][:10])\n",
    "print(\"eval_outputs\\n\",eval_outputs[0][:10])"
   ]
  },
  {
   "cell_type": "code",
   "execution_count": 18,
   "id": "1c759ea1",
   "metadata": {},
   "outputs": [
    {
     "data": {
      "text/plain": [
       "array(0.0037629, dtype=float32)"
      ]
     },
     "execution_count": 18,
     "metadata": {},
     "output_type": "execute_result"
    }
   ],
   "source": [
    "mean_batch_eval_lossWOpenalty"
   ]
  },
  {
   "cell_type": "code",
   "execution_count": 17,
   "id": "41d753ce",
   "metadata": {},
   "outputs": [
    {
     "name": "stdout",
     "output_type": "stream",
     "text": [
      "{'MSE': tensor(0.0058, device='cuda:0'), 'MAE': tensor(0.0555, device='cuda:0'), 'R^2': tensor(0.7736, device='cuda:0')}\n"
     ]
    }
   ],
   "source": [
    "metrics_calculator = MetricsCalculator_nntorch()\n",
    "eval_metrics= metrics_calculator(torch.cat(eval_targets), torch.cat(eval_outputs))\n",
    "print(eval_metrics)"
   ]
  },
  {
   "cell_type": "code",
   "execution_count": 33,
   "id": "89c8f5e1",
   "metadata": {},
   "outputs": [],
   "source": [
    "if splitType == \"byCCL\":\n",
    "    id_unrepeat_whole = list(range(476))\n",
    "elif splitType == \"byDrug\":\n",
    "    id_unrepeat_whole = list(range(1440))\n",
    "    id_unrepeat_whole[:10], id_unrepeat_whole[-10:]  # Display the first and last 10 elements to confirm\n",
    "\n",
    "eval_pearson, eval_spearman,eval_AllSameValuesList_count  = correlation_func(splitType, AUC_df.values,AUC_df.index,AUC_df.columns,id_unrepeat_whole,torch.cat(eval_targets),torch.cat(eval_outputs))"
   ]
  },
  {
   "cell_type": "code",
   "execution_count": 34,
   "id": "fca5de7a",
   "metadata": {},
   "outputs": [
    {
     "data": {
      "text/plain": [
       "Text(0.5, 0.98, 'Density Plot of Correlation Omics_DrugESPF_Model')"
      ]
     },
     "execution_count": 34,
     "metadata": {},
     "output_type": "execute_result"
    },
    {
     "data": {
      "image/png": "[encoded data removed]",
      "text/plain": [
       "<Figure size 1400x500 with 2 Axes>"
      ]
     },
     "metadata": {},
     "output_type": "display_data"
    }
   ],
   "source": [
    "#pearson\n",
    "# Create a density plot using seaborn's kdeplot function\n",
    "fig=plt.figure(figsize=(14, 5))\n",
    "# Set the title of the plot\n",
    "\n",
    "plt.subplot(1,2,1)\n",
    "# sns.kdeplot(test_pearson1, fill=True, color='red', label='up',linewidth=1.5)\n",
    "sns.kdeplot(eval_pearson, fill=True, color='blue', label='down',linewidth=1.5)\n",
    "# Set the x-axis label to 'Density'\n",
    "plt.xlabel('Pearson\\'s Correlation Coefficient Value', fontsize=16)\n",
    "# Set the y-axis label to 'Pearson\\'s Correlation Coefficient Value'\n",
    "plt.ylabel('Density', fontsize=16)\n",
    "plt.legend(loc='upper left',fontsize=10) \n",
    "\n",
    "plt.subplot(1,2,2)\n",
    "#spearman\n",
    "# Create a density plot using seaborn's kdeplot function\n",
    "# sns.kdeplot(test_spearman1, fill=True, color='red', label='up',linewidth=1.5)\n",
    "sns.kdeplot(eval_spearman, fill=True, color='blue', label='down',linewidth=1.5)\n",
    "# Set the x-axis label to 'Density'\n",
    "plt.xlabel('Spearman\\'s Correlation Coefficient Value', fontsize=16)\n",
    "# Set the y-axis label to 'Pearson\\'s Correlation Coefficient Value'\n",
    "plt.ylabel('Density', fontsize=16)\n",
    "plt.legend(loc='upper left',fontsize=10) \n",
    "fig.suptitle(f'Density Plot of Correlation {model_name}', fontsize=16)"
   ]
  },
  {
   "cell_type": "code",
   "execution_count": 35,
   "id": "242a8082",
   "metadata": {},
   "outputs": [
    {
     "name": "stdout",
     "output_type": "stream",
     "text": [
      "Mean Median Mode Test Pearson Omics_DrugESPF_Model:\t0.877792 ± 0.0454\t-1.693300\t 0.886623\tModeResult(mode=0.9, count=64)\n",
      "\n",
      "Mean Median Mode Test Spearman Omics_DrugESPF_Model:\t0.778543 ± 0.0564\t-1.056978\t 0.785663\tModeResult(mode=0.77, count=43)\n",
      "\n"
     ]
    }
   ],
   "source": [
    "# for name, pearson in [(\"Test\", test_pearson1)]:\n",
    "#     print(f\"Mean Median Mode {name} Pearson {model_name}:\\t{np.mean(pearson):.6f} ± {np.std(pearson):.4f}\\t{stats.skew(pearson, bias=False, nan_policy='raise'):.6f}\\t {np.median(pearson):.6f}\\t{stats.mode(np.round(pearson,2))}\\n\")\n",
    "# for name, spearman in [(\"Test\", test_spearman1)]:\n",
    "#     print(f\"Mean Median Mode {name} Spearman {model_name}:\\t{np.mean(spearman):.6f} ± {np.std(spearman):.4f}\\t{stats.skew(spearman, bias=False, nan_policy='raise'):.6f}\\t {np.median(spearman):.6f}\\t{stats.mode(np.round(spearman,2))}\\n\")\n",
    "\n",
    "for name, pearson in [(\"Test\", eval_pearson)]:\n",
    "    print(f\"Mean Median Mode {name} Pearson {model_name}:\\t{np.mean(pearson):.6f} ± {np.std(pearson):.4f}\\t{stats.skew(pearson, bias=False, nan_policy='raise'):.6f}\\t {np.median(pearson):.6f}\\t{stats.mode(np.round(pearson,2))}\\n\")\n",
    "for name, spearman in [(\"Test\", eval_spearman)]:\n",
    "    print(f\"Mean Median Mode {name} Spearman {model_name}:\\t{np.mean(spearman):.6f} ± {np.std(spearman):.4f}\\t{stats.skew(spearman, bias=False, nan_policy='raise'):.6f}\\t {np.median(spearman):.6f}\\t{stats.mode(np.round(spearman,2))}\\n\")\n"
   ]
  },
  {
   "cell_type": "code",
   "execution_count": 36,
   "id": "d16e5f7d",
   "metadata": {},
   "outputs": [
    {
     "data": {
      "text/plain": [
       "<module 'matplotlib.pyplot' from '/usr/local/lib/python3.10/dist-packages/matplotlib/pyplot.py'>"
      ]
     },
     "execution_count": 36,
     "metadata": {},
     "output_type": "execute_result"
    },
    {
     "data": {
      "image/png": "[encoded data removed]",
      "text/plain": [
       "<Figure size 1500x500 with 3 Axes>"
      ]
     },
     "metadata": {},
     "output_type": "display_data"
    }
   ],
   "source": [
    "datas = [(eval_targets, eval_outputs, 'test_set', 'red')]\n",
    "# plot Density_Plot_of_AUC_Values of train val test datasets\n",
    "hyperparameter_folder_path = None\n",
    "Density_Plot_of_AUC_Values(datas,hyperparameter_folder_path)"
   ]
  },
  {
   "cell_type": "markdown",
   "id": "56bc4b18",
   "metadata": {},
   "source": []
  },
  {
   "cell_type": "code",
   "execution_count": 37,
   "id": "6f8c455e",
   "metadata": {},
   "outputs": [],
   "source": [
    "predAUCmatrix_df = pd.read_csv(\"./inference/BestFold2_test_loss0.0044098_BestValEpo8_ModelOmics_DrugESPF_Model_byCCL_OmicsExp_ESPFTrue_DrugSelfAttentionTrue/predicted AUC values with UnknownGroundTruth samples.csv\", sep=',', index_col=0)"
   ]
  },
  {
   "cell_type": "code",
   "execution_count": 11,
   "id": "20a4caf4",
   "metadata": {},
   "outputs": [
    {
     "name": "stdout",
     "output_type": "stream",
     "text": [
      "(480, 1)\n",
      "(476, 1)\n",
      "['ACH-000007', 'ACH-000252', 'ACH-000296', 'ACH-000403', 'ACH-000421', 'ACH-000467', 'ACH-000532', 'ACH-000552', 'ACH-000565', 'ACH-000651', 'ACH-000680', 'ACH-000842', 'ACH-000895', 'ACH-000926', 'ACH-000943', 'ACH-000950', 'ACH-000955', 'ACH-000957', 'ACH-000958', 'ACH-000959', 'ACH-000967', 'ACH-000970', 'ACH-000971', 'ACH-000982', 'ACH-000985', 'ACH-000991', 'ACH-000997']\n"
     ]
    }
   ],
   "source": [
    "# get index of specific  CCL type\n",
    "CCLtypeDF = pd.read_csv(\"../data/CCLE/480CCL all sample types list.txt\", sep='\\t', index_col=0)\n",
    "print(CCLtypeDF.shape)\n",
    "CCLtypeDF= (CCLtypeDF.T[matched_samples]).T\n",
    "print(CCLtypeDF.shape)\n",
    "type_indices = CCLtypeDF.index[CCLtypeDF[\"OncotreeLineage\"] == \"Bowel\"].tolist()\n",
    "print(type_indices)\n",
    "# print(predAUCmatrix_df.loc[type_indices])"
   ]
  },
  {
   "cell_type": "code",
   "execution_count": 14,
   "id": "70a44a54",
   "metadata": {},
   "outputs": [
    {
     "name": "stdout",
     "output_type": "stream",
     "text": [
      "(27,)\n",
      "(27,)\n"
     ]
    }
   ],
   "source": [
    "# get GT AUC of specific drug and type of ccl\n",
    "GT_AUC_df_Bowel_5flu = (AUC_df.loc[type_indices])[['FLUOROURACIL (BRD:BRD-K24844714-001-24-5)']]\n",
    "print(np.concatenate(GT_AUC_df_Bowel_5flu.values).shape)\n",
    "\n",
    "# get predicted AUC of sepecific drug and type of ccl\n",
    "predAUCmatrix_df_Bowel_5flu = (predAUCmatrix_df.loc[type_indices])[['FLUOROURACIL (BRD:BRD-K24844714-001-24-5)']]\n",
    "print(np.concatenate(predAUCmatrix_df_Bowel_5flu.values).shape)"
   ]
  },
  {
   "cell_type": "code",
   "execution_count": 23,
   "id": "7836e48d",
   "metadata": {},
   "outputs": [
    {
     "name": "stdout",
     "output_type": "stream",
     "text": [
      "(27, 6009)\n",
      "[0, 1, 1, 1, 1, 1, 1, 1, 1, 1, 1, 1, 1, 1, 0, 0, 1, 0, 0, 1, 1, 1, 0, 0, 1, 1, 1]\n"
     ]
    }
   ],
   "source": [
    "# get specific mut gene label 0/1\n",
    "include_omics = ['Mut']\n",
    "for omic_type in include_omics:\n",
    "    # Read the file\n",
    "    omics_data_dict[omic_type] = pd.read_csv(omics_files[omic_type], sep='\\t', index_col=0)\n",
    "    omics_data_dict[omic_type] = omics_data_dict[omic_type].loc[type_indices] #  index of specific CCL type's omics data(contain gene profiles)\n",
    "    print((omics_data_dict[omic_type]).shape ) \n",
    "    if omic_type == \"Mut\":\n",
    "        sample_mut_label = ((omics_data_dict[omic_type])['TP53'] == 1).astype(int).tolist()\n",
    "        print(sample_mut_label)\n",
    "    if omic_type == \"Exp\":# apply Column-wise Min-Max Normalization \n",
    "        scaler = MinMaxScaler() \n",
    "        omics_data_dict[omic_type] = pd.DataFrame(scaler.fit_transform(omics_data_dict[omic_type]),index=omics_data_dict[omic_type].index,columns=omics_data_dict[omic_type].columns)\n",
    "    "
   ]
  },
  {
   "cell_type": "code",
   "execution_count": 24,
   "id": "1250f7f9",
   "metadata": {},
   "outputs": [
    {
     "data": {
      "text/plain": [
       "(15, 1)"
      ]
     },
     "execution_count": 24,
     "metadata": {},
     "output_type": "execute_result"
    }
   ],
   "source": [
    "#get mask from GT_AUC_df_Bowel_5flu and get GT_AUC_df_Bowel_5flu_dropnan\n",
    "mask = ~np.isnan(np.concatenate(GT_AUC_df_Bowel_5flu.values))\n",
    "GT_AUC_df_Bowel_5flu_dropnan = GT_AUC_df_Bowel_5flu.dropna()\n",
    "GT_AUC_df_Bowel_5flu_dropnan.shape"
   ]
  },
  {
   "cell_type": "code",
   "execution_count": 25,
   "id": "acf342f8",
   "metadata": {},
   "outputs": [
    {
     "name": "stdout",
     "output_type": "stream",
     "text": [
      "GT_mut_label_masked [0 1 1 1 1 1 0 0 0 1 1 0 0 1 1]\n",
      "15\n",
      "sample_mut_label/n ['w/0 TP53_Mut', 'TP53_Mut', 'TP53_Mut', 'TP53_Mut', 'TP53_Mut', 'TP53_Mut', 'TP53_Mut', 'TP53_Mut', 'TP53_Mut', 'TP53_Mut', 'TP53_Mut', 'TP53_Mut', 'TP53_Mut', 'TP53_Mut', 'w/0 TP53_Mut', 'w/0 TP53_Mut', 'TP53_Mut', 'w/0 TP53_Mut', 'w/0 TP53_Mut', 'TP53_Mut', 'TP53_Mut', 'TP53_Mut', 'w/0 TP53_Mut', 'w/0 TP53_Mut', 'TP53_Mut', 'TP53_Mut', 'TP53_Mut']\n"
     ]
    }
   ],
   "source": [
    "# get mutation label after mask for GT boxplot\n",
    "GT_mut_label_masked=np.array(sample_mut_label)[mask]\n",
    "print(\"GT_mut_label_masked\",GT_mut_label_masked)\n",
    "# turn 0/1 to 'w/0 TP53_Mut'/'TP53_Mut'\n",
    "GT_mut_label_masked = ['TP53_Mut' if label == 1 else 'w/0 TP53_Mut' for label in GT_mut_label_masked]\n",
    "print(len(GT_mut_label_masked))\n",
    "sample_mut_label = ['TP53_Mut' if label == 1 else 'w/0 TP53_Mut' for label in sample_mut_label]\n",
    "print(\"sample_mut_label/n\",sample_mut_label)"
   ]
  },
  {
   "cell_type": "code",
   "execution_count": null,
   "id": "5ae967e6",
   "metadata": {},
   "outputs": [
    {
     "name": "stdout",
     "output_type": "stream",
     "text": [
      "7\n",
      "20\n"
     ]
    },
    {
     "name": "stderr",
     "output_type": "stream",
     "text": [
      "/tmp/ipykernel_3040/2524763574.py:15: FutureWarning: \n",
      "\n",
      "Passing `palette` without assigning `hue` is deprecated and will be removed in v0.14.0. Assign the `x` variable to `hue` and set `legend=False` for the same effect.\n",
      "\n",
      "  ax = sns.boxplot(x=\"mutation_status\", y=\"predicted AUC\", data=df, palette=custom_palette)\n",
      "/tmp/ipykernel_3040/2524763574.py:33: FutureWarning: \n",
      "\n",
      "Passing `palette` without assigning `hue` is deprecated and will be removed in v0.14.0. Assign the `x` variable to `hue` and set `legend=False` for the same effect.\n",
      "\n",
      "  ax = sns.boxplot(x=\"mutation_status\", y=\"GroundTruth AUC\", data=GTdf, palette=custom_palette)\n"
     ]
    },
    {
     "data": {
      "image/png": "[encoded data removed]",
      "text/plain": [
       "<Figure size 2000x800 with 2 Axes>"
      ]
     },
     "metadata": {},
     "output_type": "display_data"
    }
   ],
   "source": [
    "import matplotlib.pyplot as plt\n",
    "import seaborn as sns\n",
    "import pandas as pd\n",
    "\n",
    "df = pd.DataFrame({'predicted AUC': np.concatenate(predAUCmatrix_df_Bowel_5flu.values) , 'mutation_status': sample_mut_label})\n",
    "# Perform t-test\n",
    "group1 = df[df[\"mutation_status\"] == \"w/0 TP53_Mut\"][\"predicted AUC\"]\n",
    "group2 = df[df[\"mutation_status\"] == \"TP53_Mut\"][\"predicted AUC\"]\n",
    "t_stat, p_value = stats.ttest_ind(group1, group2, equal_var=False)  # Welch’s t-test\n",
    "custom_palette = {\"w/0 TP53_Mut\": \"royalblue\", \"TP53_Mut\": \"darkorange\"}\n",
    "fig=plt.figure(figsize=(20,8))\n",
    "plt.subplot(1,2,1)\n",
    "ax = sns.boxplot(x=\"mutation_status\", y=\"predicted AUC\", data=df, palette=custom_palette)\n",
    "# Annotate significance\n",
    "x1, x2 = 0, 1  # Positions of the two boxplots\n",
    "y, h = df[\"predicted AUC\"].max() + 0.002, 0.002  # Adjust position\n",
    "plt.plot([x1, x1, x2, x2], [y, y + h, y + h, y], lw=1.5, c='k')\n",
    "plt.text((x1 + x2) / 2, y + h, f\"p = {p_value:.3g}\", ha='center', va='bottom', fontsize=14)\n",
    "plt.xticks([0, 1], [f'w/0 TP53_Mut (n={len(group1)})', f'TP53_Mut (n={len(group2)})'], fontsize=16)\n",
    "plt.title('Comparison of \"predicted\" AUC \\n by TP53 Mutation in COAD/READ samples',fontsize=18)\n",
    "plt.xlabel('Mutation Status', fontsize=18)\n",
    "plt.ylabel('Predicted AUC', fontsize=20)\n",
    "ax.tick_params(axis='x', labelsize=16)\n",
    "ax.tick_params(axis='y', labelsize=12)\n",
    "plt.subplot(1,2,2)\n",
    "GTdf = pd.DataFrame({'GroundTruth AUC': np.concatenate(GT_AUC_df_Bowel_5flu_dropnan.values) , 'mutation_status': GT_mut_label_masked})\n",
    "group1 = GTdf[GTdf[\"mutation_status\"] == \"w/0 TP53_Mut\"][\"GroundTruth AUC\"]\n",
    "group2 = GTdf[GTdf[\"mutation_status\"] == \"TP53_Mut\"][\"GroundTruth AUC\"]\n",
    "t_stat, p_value = stats.ttest_ind(group1, group2, equal_var=False)  # Welch’s t-test\n",
    "custom_palette = {\"w/0 TP53_Mut\": \"royalblue\", \"TP53_Mut\": \"darkorange\"}\n",
    "ax = sns.boxplot(x=\"mutation_status\", y=\"GroundTruth AUC\", data=GTdf, palette=custom_palette)\n",
    "# Annotate significance\n",
    "x1, x2 = 0, 1  # Positions of the two boxplots\n",
    "y, h = GTdf[\"GroundTruth AUC\"].max() + 0.002, 0.002  # Adjust position\n",
    "plt.plot([x1, x1, x2, x2], [y, y + h, y + h, y], lw=1.5, c='k')\n",
    "plt.text((x1 + x2) / 2, y + h, f\"p = {p_value:.3g}\", ha='center', va='bottom', fontsize=14)\n",
    "plt.xticks([0, 1], [f'w/0 TP53_Mut (n={len(group1)})', f'TP53_Mut (n={len(group2)})'], fontsize=16)\n",
    "plt.xlabel('Mutation Status', fontsize=18)\n",
    "plt.ylabel('GroundTruth AUC', fontsize=20)\n",
    "ax.tick_params(axis='x', labelsize=16)\n",
    "ax.tick_params(axis='y', labelsize=12)\n",
    "plt.title('Comparison of \"GroundTruth\" AUC \\n by TP53 Mutation in COAD/READ samples',fontsize=18)\n",
    "plt.show()"
   ]
  },
  {
   "cell_type": "markdown",
   "id": "326ef6d1",
   "metadata": {},
   "source": [
    "## Attention Score Matrix"
   ]
  },
  {
   "cell_type": "code",
   "execution_count": null,
   "id": "2461740b",
   "metadata": {},
   "outputs": [
    {
     "name": "stdout",
     "output_type": "stream",
     "text": [
      "Training on device cuda.\n"
     ]
    }
   ],
   "source": [
    "import pandas as pd\n",
    "import numpy as np\n",
    "import torch\n",
    "import torch.nn as nn\n",
    "import torch.optim as optim\n",
    "from torch.utils.data import  DataLoader, Subset\n",
    "import torch.nn.init as init\n",
    "from sklearn.model_selection import KFold\n",
    "from sklearn.preprocessing import MinMaxScaler\n",
    "import copy\n",
    "import seaborn as sns\n",
    "import matplotlib.pyplot as plt\n",
    "from scipy import stats\n",
    "import random\n",
    "import gc\n",
    "import os\n",
    "import importlib.util\n",
    "\n",
    "from utils.ESPF_drug2emb import drug2emb_encoder\n",
    "from utils.Model import Omics_DrugESPF_Model, Omics_DCSA_Model\n",
    "from utils.split_data_id import split_id,repeat_func\n",
    "from utils.create_dataloader import OmicsDrugDataset\n",
    "from utils.train import train, evaluation\n",
    "from utils.correlation import correlation_func\n",
    "from utils.plot import loss_curve, correlation_density,Density_Plot_of_AUC_Values\n",
    "from utils.tools import get_data_value_range,set_seed,get_vram_usage\n",
    "\n",
    "device = (torch.device('cuda') if torch.cuda.is_available() else torch.device('cpu'))\n",
    "print(f\"Training on device {device}.\")\n",
    "\n",
    "import torch.nn as nn\n",
    "from utils.Loss import Custom_LossFunction,Custom_Weighted_LossFunction,FocalMSELoss\n",
    "from utils.Custom_Activation_Function import ScaledSigmoid, ReLU_clamp\n",
    "from utils.Metrics import MetricsCalculator_nntorch, MetricsCalculator_numpy\n",
    "\n",
    "test = False #False, True: batch_size = 3, num_epoch = 2, full dataset\n",
    "\n",
    "omics_files = {\n",
    "    'Mut': \"../data/CCLE/CCLE_match_TCGAgene_PRISMandEXPsample_binary_mutation_476_6009.txt\",\n",
    "    'Exp': \"../data/CCLE/CCLE_exp_476samples_4692genes.txt\",\n",
    "    # Add more omics types and paths as needed\n",
    "    }\n",
    "omics_dict = {'Mut':0,'Exp':1,'CN':2, 'Eff':3, 'Dep':4, 'Met':5}\n",
    "omics_data_dict = {}\n",
    "omics_data_tensor_dict = {}\n",
    "omics_numfeatures_dict = {}\n",
    "omics_encode_dim_dict ={'Mut':[1000,100,50],'Exp':[1000,100,50], # Dr.Chiu:exp[500,200,50]\n",
    "                        'CN':[100,50,30], 'Eff':[100,50,30], 'Dep':[100,50,30], 'Met':[100,50,30]}\n",
    "\n",
    "TCGA_pretrain_weight_path_dict = {'Mut': \"./results/Encoder_tcga_mut_1000_100_50_best_loss_0.0066.pt\",\n",
    "                                  'Exp': \"./results/Encoder_tcga_exp_1000_100_50_best_loss_0.7.pt\",\n",
    "                                  # Add more omics types and paths as needed\n",
    "                                }\n",
    "seed = 42\n",
    "#hyperparameter\n",
    "model_name = \"Omics_DrugESPF_Model\" # Omics_DrugESPF_Model  Omics_DCSA_Model\n",
    "AUCtransform = None #\"-log2\"\n",
    "splitType= 'byCCL' # byCCL byDrug\n",
    "kfoldCV = 5\n",
    "include_omics = ['Exp']\n",
    "max_drug_len=50 # 不夠補零補到50 / 超過取前50個subwords(index) !!!!須改方法!!!! \n",
    "drug_embedding_feature_size = 128\n",
    "ESPF = True # False True\n",
    "Drug_SelfAttention = True\n",
    "pos_emb_type = 'sinusoidal' # 'learned' 'sinusoidal'\n",
    "#需再修改-----------\n",
    "\n",
    "intermediate_size =512\n",
    "num_attention_heads = 8        \n",
    "attention_probs_dropout_prob = 0.1\n",
    "hidden_dropout_prob = 0.1\n",
    "\n",
    "if ESPF is True:\n",
    "    \n",
    "    drug_encode_dims =[1600,400,100] # 50*128  \n",
    "    dense_layer_dim = sum(omics_encode_dim_dict[omic_type][2] for omic_type in include_omics) + drug_encode_dims[2] # MLPDim\n",
    "elif ESPF is False:\n",
    "    \n",
    "    drug_encode_dims =[110,55,22]\n",
    "    dense_layer_dim = sum(omics_encode_dim_dict[omic_type][2] for omic_type in include_omics) + drug_encode_dims[2] # MLPDim\n",
    "elif model_name = \"Omics_DCSA_Model\":\n",
    "    drug_encode_dims =[(max_drug_len+len(include_omics))*(drug_embedding_feature_size+num_attention_heads)+ (len(include_omics)*128), 700, 70, 1] #\n",
    "    dense_layer_dim = None\n",
    "print(\"drug_encode_dims\",drug_encode_dims)\n",
    "print(\"dense_layer_dim\",dense_layer_dim)\n",
    "#需再修改-------------\n",
    "TrackGradient = False # False True\n",
    "\n",
    "activation_func = nn.ReLU()  # ReLU activation function # Leaky ReLu\n",
    "activation_func_final = nn.Sigmoid() # ScaledSigmoid(scale=8) GroundT range ( 0 ~ scale ) # ReLU_clamp(max=8)\n",
    "#nn.Sigmoid()or ReLU() or Linear/identity(when -log2AUC)\n",
    "batch_size = 200\n",
    "num_epoch = 200 # for k fold CV \n",
    "patience = 20\n",
    "warmup_iters = 60\n",
    "Decrease_percent = 0.9\n",
    "continuous = True\n",
    "learning_rate=1e-04\n",
    "metrics_type_set=[\"MSE\", \"MAE\", \"R^2\"]\n",
    "metrics_calculator = MetricsCalculator_nntorch(types = metrics_type_set)\n",
    "#criterion = Custom_LossFunction(loss_type=\"MSE\", loss_lambda=1.0, regular_type=None, regular_lambda=1e-06) #nn.MSELoss()#\n",
    "criterion =  FocalMSELoss(alpha=8.0, gamma=1.0, regular_type=None, regular_lambda=1e-05)\n",
    "\"\"\" A customizable loss function class.\n",
    "    Args:\n",
    "        loss_type (str): The type of loss to use (\"RMSE\", \"MSE\", \"MAE\", \"MAE+MSE\", \"MAE+RMSE\")/(\"weighted_RMSE\", \"weighted_MSE\", \"weighted_MAE\", \"weighted_MAE+MSE\", \"weighted_MAE+RMSE\").\n",
    "        loss_lambda (float): The lambda weight for the additional loss (MSE or RMSE) if applicable. Default is MAE+ 1.0*(MSE or RMSE).\n",
    "        regular_type (str): The type of regularization to use (\"L1\", \"L2\", \"L1+L2\"), or None for no regularization.\n",
    "        regular_lambda (float): The lambda weight for regularization. Default is 1e-05.\"\"\"\n",
    "\n",
    "hyperparameter_print = f' omics_dict ={omics_dict}\\n omics_files ={omics_files}\\n TCGA_pretrain_weight_path_dict ={TCGA_pretrain_weight_path_dict}\\n seed ={seed}\\n  model_name ={model_name}\\n AUCtransform ={AUCtransform}\\n splitType ={splitType}\\n kfoldCV ={kfoldCV}\\n omics_encode_dim ={[(omic_type,omics_encode_dim_dict[omic_type]) for omic_type in include_omics]}\\n max_drug_len ={max_drug_len}\\n drug_embedding_feature_size ={drug_embedding_feature_size}\\n ESPF ={ESPF}\\n Drug_SelfAttention ={Drug_SelfAttention}\\n pos_emb_type ={pos_emb_type}\\n intermediate_size ={intermediate_size}\\n num_attention_heads ={num_attention_heads}\\n attention_probs_dropout_prob ={attention_probs_dropout_prob}\\n hidden_dropout_prob ={hidden_dropout_prob}\\n drug_encode_dims ={drug_encode_dims}\\n dense_layer_dim = {dense_layer_dim}\\n activation_func = {activation_func}\\n activation_func_final = {activation_func_final}\\n batch_size = {batch_size}\\n num_epoch = {num_epoch}\\n patience = {patience}\\n warmup_iters = {warmup_iters}\\n Decrease_percent = {Decrease_percent}\\n continuous ={continuous}\\n learning_rate = {learning_rate}\\n criterion ={criterion}\\n'\n",
    "\n",
    "__translation_table__ = str.maketrans({\n",
    "    \"*\": \"\",    \"/\": \"\",    \":\": \"-\",    \"%\": \"\",\n",
    "    \"'\": \"\",    \"\\\"\": \"\",    \"[\": \"\",    \"]\": \"\",\n",
    "    \",\": \"\" })\n",
    "\n",
    "hyperparameter_folder_part = (f'Model{model_name}_{splitType}_Omics{[omic_type for omic_type in include_omics]}_ESPF{ESPF}_DrugSelfAttention{Drug_SelfAttention}').translate(__translation_table__)\n",
    "\n"
   ]
  },
  {
   "cell_type": "code",
   "execution_count": 192,
   "id": "3d3e5ab3",
   "metadata": {},
   "outputs": [],
   "source": [
    "predAUCmatrix_df = pd.read_csv(\"./inference/BestFold2_test_loss0.0044098_BestValEpo8_ModelOmics_DrugESPF_Model_byCCL_OmicsExp_ESPFTrue_DrugSelfAttentionTrue/predicted AUC values with UnknownGroundTruth samples.csv\", sep=',', index_col=0)"
   ]
  },
  {
   "cell_type": "code",
   "execution_count": 193,
   "id": "a357a8e7",
   "metadata": {},
   "outputs": [
    {
     "name": "stdout",
     "output_type": "stream",
     "text": [
      "(476, 4692)\n",
      "Exp tensor shape: torch.Size([1, 4692])\n",
      "Exp num_features 4692\n"
     ]
    },
    {
     "name": "stderr",
     "output_type": "stream",
     "text": [
      "/tmp/ipykernel_63093/1677078000.py:16: FutureWarning: Series.__getitem__ treating keys as positions is deprecated. In a future version, integer keys will always be treated as labels (consistent with DataFrame behavior). To access a value by position, use `ser.iloc[pos]`\n",
      "  omics_data_tensor_dict[omic_type]  = torch.tensor(omics_data_dict[omic_type], dtype=torch.float32).to(device).reshape(1, -1)\n"
     ]
    }
   ],
   "source": [
    "include_omics = ['Exp']\n",
    "for omic_type in include_omics:\n",
    "    # Read the file\n",
    "    omics_data_dict[omic_type] = pd.read_csv(omics_files[omic_type], sep='\\t', index_col=0)\n",
    "    print((omics_data_dict[omic_type]).shape )\n",
    "    if omic_type == \"Mut\":\n",
    "        sample_mut_label = ((omics_data_dict[omic_type])['TP53'] == 1).astype(int).tolist()\n",
    "        print(sample_mut_label)\n",
    "    if omic_type == \"Exp\":# apply Column-wise Min-Max Normalization \n",
    "        scaler = MinMaxScaler() \n",
    "        omics_data_dict[omic_type] = pd.DataFrame(scaler.fit_transform(omics_data_dict[omic_type]),index=omics_data_dict[omic_type].index,columns=omics_data_dict[omic_type].columns)\n",
    "    \n",
    "    omics_data_dict[omic_type] = (omics_data_dict[omic_type].loc[\"ACH-000007\"])#.reshape(1, -1)#  index of specific CCL's omics data(contain gene profiles)\n",
    "    # print((omics_data_dict[omic_type]).shape )\n",
    "\n",
    "    omics_data_tensor_dict[omic_type]  = torch.tensor(omics_data_dict[omic_type], dtype=torch.float32).to(device).reshape(1, -1)\n",
    "    omics_numfeatures_dict[omic_type] = omics_data_tensor_dict[omic_type].shape[1]#[1]\n",
    " \n",
    "    print(f\"{omic_type} tensor shape:\", omics_data_tensor_dict[omic_type].shape)\n",
    "    print(f\"{omic_type} num_features\",omics_numfeatures_dict[omic_type])\n",
    "\n",
    "    "
   ]
  },
  {
   "cell_type": "code",
   "execution_count": 194,
   "id": "3f3fc7d3",
   "metadata": {},
   "outputs": [
    {
     "name": "stdout",
     "output_type": "stream",
     "text": [
      "AUC_df (480, 1440)\n",
      "drug_df (1440, 9)\n",
      "AUC_df (480, 1440)\n"
     ]
    }
   ],
   "source": [
    "drug_df= pd.read_csv(\"../data/no_Imputation_PRISM_Repurposing_Secondary_Screen_data/MACCS(Secondary_Screen_treatment_info)_union_NOrepeat.csv\", sep=',', index_col=0)\n",
    "AUC_df = pd.read_csv(\"../data/no_Imputation_PRISM_Repurposing_Secondary_Screen_data/Drug_sensitivity_AUC_(PRISM_Repurposing_Secondary_Screen)_subsetted_NOrepeat.csv\", sep=',', index_col=0)\n",
    "# matched AUCfile and omics_data samples\n",
    "\n",
    "# matched_samples = sorted(set(AUC_df.T.columns) & set(list(omics_data_dict.values())[0].T.columns))\n",
    "# AUC_df= (AUC_df.T[matched_samples]).T\n",
    "\n",
    "print(\"AUC_df\",AUC_df.shape)\n",
    "if AUCtransform == \"-log2\":\n",
    "    AUC_df = -np.log2(AUC_df)\n",
    "if AUCtransform == \"-log10\":\n",
    "    AUC_df = -np.log10(AUC_df)\n",
    "    \n",
    "print(\"drug_df\",drug_df.shape)\n",
    "print(\"AUC_df\",AUC_df.shape)"
   ]
  },
  {
   "cell_type": "code",
   "execution_count": 195,
   "id": "7278c137",
   "metadata": {},
   "outputs": [
    {
     "name": "stdout",
     "output_type": "stream",
     "text": [
      "                              BRD_ID            name  \\\n",
      "Name                                                   \n",
      "FLUOROURACIL  BRD-K24844714-001-24-5  5-fluorouracil   \n",
      "\n",
      "                                         moa      target disease.area  \\\n",
      "Name                                                                    \n",
      "FLUOROURACIL  thymidylate synthase inhibitor  DPYD, TYMS     oncology   \n",
      "\n",
      "                                                     indication     phase  \\\n",
      "Name                                                                        \n",
      "FLUOROURACIL  colorectal cancer, breast cancer, pancreatic c...  Launched   \n",
      "\n",
      "                             smiles  \\\n",
      "Name                                  \n",
      "FLUOROURACIL  Fc1c[nH]c(=O)[nH]c1=O   \n",
      "\n",
      "                                                   MACCS166bits  \n",
      "Name                                                             \n",
      "FLUOROURACIL  0, 0, 0, 0, 0, 0, 0, 0, 0, 0, 0, 0, 0, 0, 0, 0...  \n",
      "\n",
      "\n",
      "GT_AUC_df_pair\n",
      " FLUOROURACIL (BRD:BRD-K24844714-001-24-5)    0.650901\n",
      "Name: ACH-000007, dtype: float64\n",
      "predAUCmatrix_df_pair\n",
      " FLUOROURACIL (BRD:BRD-K24844714-001-24-5)    0.844354\n",
      "Name: ACH-000007, dtype: float64\n"
     ]
    }
   ],
   "source": [
    "# get specific drug and ccl\n",
    "drug_df= drug_df[drug_df['name'] == \"5-fluorouracil\"]\n",
    "print(drug_df)\n",
    "print(\"\\n\")\n",
    "#get pair GT response \n",
    "GT_AUC_df_pair = (AUC_df.loc['ACH-000007'])[['FLUOROURACIL (BRD:BRD-K24844714-001-24-5)']] # MK-5108 (BRD:BRD-K53665955-001-03-0)\n",
    "print(\"GT_AUC_df_pair\\n\",GT_AUC_df_pair)\n",
    "#get pair predicted response \n",
    "predAUCmatrix_df_pair = (predAUCmatrix_df.loc['ACH-000007'])[['FLUOROURACIL (BRD:BRD-K24844714-001-24-5)']]\n",
    "print(\"predAUCmatrix_df_pair\\n\",predAUCmatrix_df_pair)"
   ]
  },
  {
   "cell_type": "code",
   "execution_count": 196,
   "id": "b6dc389e",
   "metadata": {},
   "outputs": [
    {
     "name": "stdout",
     "output_type": "stream",
     "text": [
      "num_ccl,num_drug:  4692 1\n",
      "{'Exp': tensor([[0.0200, 0.0183, 0.0000,  ..., 0.5090, 0.0044, 0.6082]],\n",
      "       device='cuda:0')}\n",
      "torch.Size([1, 2, 50])\n",
      "torch.Size([1, 1])\n",
      "['F', 'c1c[nH]', 'c', '(=O)', '[nH]', 'c1', '=O']\n"
     ]
    }
   ],
   "source": [
    "if ESPF is True:\n",
    "    drug_smiles =drug_df[\"smiles\"] # \n",
    "    drug_names =drug_df.index\n",
    "    # 挑出重複的SMILES\n",
    "    duplicate =  drug_smiles[drug_smiles.duplicated(keep=False)]\n",
    "\n",
    "    #--------------------------------------------------------------------------------------------------------------------------\n",
    "    #ESPF\n",
    "    vocab_path = \"./ESPF/drug_codes_chembl_freq_1500.txt\" # token\n",
    "    sub_csv = pd.read_csv(\"./ESPF/subword_units_map_chembl_freq_1500.csv\")# token with frequency\n",
    "\n",
    "    # 將drug_smiles 使用_drug2emb_encoder function編碼成subword vector\n",
    "    drug_encode = pd.Series(drug_smiles).apply(drug2emb_encoder, args=(vocab_path, sub_csv, max_drug_len))\n",
    "\n",
    "    drug_features_tensor = torch.tensor(np.array([drug_encode.values[0][:2]]), dtype=torch.long).to(device)\n",
    "else:\n",
    "    drug_encode = drug_df[\"MACCS166bits\"]\n",
    "    drug_encode_list = [list(map(int, item.split(','))) for item in drug_encode.values]\n",
    "    print(\"MACCS166bits_drug_encode_list type: \",type(drug_encode_list))\n",
    "    # Convert your data to tensors if they're in numpy\n",
    "    drug_features_tensor = torch.tensor(np.array(drug_encode_list), dtype=torch.long).to(device)\n",
    "#--------------------------------------------------------------------------------------------------------------------------\n",
    "num_ccl = list(omics_data_dict.values())[0].shape[0]\n",
    "num_drug = drug_encode.shape[0]\n",
    "print(\"num_ccl,num_drug: \",num_ccl,num_drug)\n",
    "\n",
    "response_matrix_tensor = torch.tensor(GT_AUC_df_pair.values, dtype=torch.float32).to(device).unsqueeze(1)\n",
    "print(omics_data_tensor_dict)\n",
    "print(drug_features_tensor.shape)# Fc1c[nH]c(=O)[nH]c1=O \n",
    "print(response_matrix_tensor.shape)\n",
    "print(drug_encode.values[0][2])"
   ]
  },
  {
   "cell_type": "code",
   "execution_count": 197,
   "id": "ddcd4d7c",
   "metadata": {},
   "outputs": [
    {
     "name": "stdout",
     "output_type": "stream",
     "text": [
      "weighted_threshold: None\n"
     ]
    }
   ],
   "source": [
    "if 'weighted' in criterion.loss_type :    \n",
    "    # Set threshold based on the 90th percentile # 將高於threshold的AUC權重增加\n",
    "    weighted_threshold = np.nanpercentile(AUC_df.values, 90)    \n",
    "    total_samples = (~np.isnan(AUC_df.values)).sum().item()\n",
    "    fewWt_samples = (AUC_df.values > weighted_threshold).sum().item()\n",
    "    moreWt_samples = total_samples - fewWt_samples\n",
    "    few_weight = total_samples / (2 * fewWt_samples)  \n",
    "    more_weight = total_samples / (2 * moreWt_samples)   \n",
    "else:\n",
    "    weighted_threshold = None\n",
    "    few_weight = None\n",
    "    more_weight = None\n",
    "print(\"weighted_threshold:\",weighted_threshold)"
   ]
  },
  {
   "cell_type": "code",
   "execution_count": 198,
   "id": "90659d35",
   "metadata": {},
   "outputs": [],
   "source": [
    "set_seed(seed)\n",
    "dataset = OmicsDrugDataset(omics_data_tensor_dict, drug_features_tensor, response_matrix_tensor, splitType, include_omics)\n",
    "one_loader = DataLoader(dataset, batch_size=1, shuffle=False)"
   ]
  },
  {
   "cell_type": "code",
   "execution_count": 209,
   "id": "44f73a62",
   "metadata": {},
   "outputs": [
    {
     "name": "stdout",
     "output_type": "stream",
     "text": [
      "State_dict for Sequential(\n",
      "  (0): Linear(in_features=4692, out_features=1000, bias=True)\n",
      "  (1): ReLU()\n",
      "  (2): Linear(in_features=1000, out_features=100, bias=True)\n",
      "  (3): ReLU()\n",
      "  (4): Linear(in_features=100, out_features=50, bias=True)\n",
      "  (5): ReLU()\n",
      ") loaded successfully.\n",
      "\n",
      " Drug_SelfAttention is applied \n",
      "\n",
      "CPU times: user 381 ms, sys: 65.6 ms, total: 446 ms\n",
      "Wall time: 2.49 s\n"
     ]
    }
   ],
   "source": [
    "%%time\n",
    "# Evaluation\n",
    "if model_name == \"Omics_DrugESPF_Model\":\n",
    "    model = Omics_DrugESPF_Model(omics_encode_dim_dict, drug_encode_dims, activation_func, activation_func_final, dense_layer_dim, device, ESPF, Drug_SelfAttention, pos_emb_type,\n",
    "                        drug_embedding_feature_size, intermediate_size, num_attention_heads , attention_probs_dropout_prob, hidden_dropout_prob, omics_numfeatures_dict, max_drug_len,\n",
    "                        TCGA_pretrain_weight_path_dict= TCGA_pretrain_weight_path_dict)\n",
    "elif model_name == \"Omics_DCSA_Model\":\n",
    "    model = Omics_DCSA_Model(omics_encode_dim_dict, drug_encode_dims, activation_func, activation_func_final, dense_layer_dim, device, ESPF, Drug_SelfAttention, pos_emb_type,\n",
    "                        drug_embedding_feature_size, intermediate_size, num_attention_heads , attention_probs_dropout_prob, hidden_dropout_prob, omics_numfeatures_dict, max_drug_len,\n",
    "                        TCGA_pretrain_weight_path_dict= TCGA_pretrain_weight_path_dict)\n",
    "model.to(device=device)\n",
    "best_weight_path = './inference/BestFold2_test_loss0.0044098_BestValEpo8_ModelOmics_DrugESPF_Model_byCCL_OmicsExp_ESPFTrue_DrugSelfAttentionTrue/'\n",
    "best_weight = best_weight_path + \"BestValWeight.pt\"\n",
    "\n",
    "model.load_state_dict(torch.load(best_weight))\n",
    "\n",
    "# eval_targets, eval_outputs,predAUCwithUnknownGT, AttenScorMat_DrugSelf, AttenScorMat_DrugCellSelf,eval_outputs_before_final_activation_list, mean_batch_eval_lossWOpenalty\n",
    "(eval_targets, eval_outputs,predAUCwithUnknownGT,\n",
    " AttenScorMat_DrugSelf ,AttenScorMat_DrugCellSelf,\n",
    " _, \n",
    " _)  = evaluation(model, None,None,\n",
    "                                             criterion, one_loader, device,ESPF,Drug_SelfAttention, \n",
    "                                             weighted_threshold, few_weight, more_weight, \n",
    "                                             outputcontrol='inference')\n"
   ]
  },
  {
   "cell_type": "code",
   "execution_count": 210,
   "id": "9c1ae3f4",
   "metadata": {},
   "outputs": [
    {
     "name": "stdout",
     "output_type": "stream",
     "text": [
      "torch.Size([1, 8, 50, 50])\n",
      "torch.Size([50, 50])\n"
     ]
    }
   ],
   "source": [
    "# drug selfattention\n",
    "print(AttenScorMat_DrugSelf.shape)\n",
    "# average the 8head attention score matrix\n",
    "AttenScorMat_DrugSelf = AttenScorMat_DrugSelf.mean(dim=1).squeeze(0)# torch.Size([bsz, 8, 50, 50])\n",
    "# ==>[bsz, 50, 50]\n",
    "print(AttenScorMat_DrugSelf.shape)\n",
    "\n",
    "# print(AttenScorMat_DrugCellSelf.shape)\n",
    "# # average the 8head attention score matrix\n",
    "# AttenScorMat_DrugCellSelf = AttenScorMat_DrugCellSelf.mean(dim=1).squeeze(0)# torch.Size([bsz, 8, 50, 50])\n",
    "# # ==>[bsz, 50, 50]\n",
    "# print(AttenScorMat_DrugCellSelf.shape)"
   ]
  },
  {
   "cell_type": "code",
   "execution_count": 211,
   "id": "03d9071c",
   "metadata": {},
   "outputs": [],
   "source": [
    "from matplotlib.colors import LinearSegmentedColormap\n",
    "import matplotlib.pyplot as plt\n",
    "def heatmap(attention_scores_Matrix,module=\"\"):\n",
    "    # Define the colors and their corresponding positions (anchors)\n",
    "    colors = [\"#67749f\",\"#6581b2\",\"#b4d5e5\", \"white\",\"#fae19b\",\"#e9a94f\", \"red\",\"#a10318\"]  # Color sequence\n",
    "    anchors = [0.0,0.1, 0.35,0.5,0.55,0.75,0.9, 1.0]  # Position of each color (0 = min, 1 = max)\n",
    "\n",
    "    # Create a custom colormap with specified anchors\n",
    "    custom_cmap = LinearSegmentedColormap.from_list(\"custom_heatmap\", list(zip(anchors, colors)))\n",
    "    plt.figure(figsize=(10, 8))\n",
    "\n",
    "    plt.imshow(attention_scores_Matrix, aspect=\"auto\", cmap=custom_cmap, vmin=1, vmax=0) # make all color correspond to the specific value\n",
    "    cbar = plt.colorbar(label=\"attention score\")\n",
    "    cbar.outline.set_visible(False) # remove the boundary/frame of the colorbar \n",
    "    plt.title(\"Attention Score Matrix\", fontsize=14, fontweight='bold')\n",
    "\n",
    "    # Set x and y axis labels\n",
    "    plt.xlabel(\"Drug Substructures\", fontsize=14, fontweight='bold', fontname='Times New Roman')\n",
    "    if module == \"AttenScorMat_DrugSelf\":\n",
    "        plt.ylabel(\"Drug Substructures\", fontsize=14, fontweight='bold', fontname='Times New Roman')\n",
    "    if module == \"AttenScorMat_DrugCellSelf\":\n",
    "        plt.ylabel(\"Features\", fontsize=14, fontweight='bold', fontname='Times New Roman')\n",
    "\n",
    "    # Optionally, set the x and y ticks (example with some labels)\n",
    "    \n",
    "    if module == \"AttenScorMat_DrugSelf\":\n",
    "        plt.xticks(fontsize=8,fontweight=\"bold\",rotation=75, ticks=np.arange(0, attention_scores_Matrix.shape[1], step=1), labels=[f\"sub{i+1}\" for i in range(attention_scores_Matrix.shape[1])])\n",
    "        plt.yticks(fontsize=8,fontweight=\"bold\",ticks=np.arange(0, attention_scores_Matrix.shape[1], step=1), labels=[f\"sub{i+1}\" for i in range(attention_scores_Matrix.shape[1])])\n",
    "    if module == \"AttenScorMat_DrugCellSelf\":\n",
    "        plt.xticks(fontsize=8,fontweight=\"bold\",rotation=75, ticks=np.arange(0, attention_scores_Matrix.shape[1], step=1), labels=([f\"sub{i+1}\" for i in range(50)] + include_omics) ) \n",
    "        plt.yticks(fontsize=8,fontweight=\"bold\",ticks=np.arange(0, attention_scores_Matrix.shape[1], step=1), labels=([f\"sub{i+1}\" for i in range(50)] + include_omics) )\n",
    "    for spine in plt.gca().spines.values(): # remove the boundary/frame of the plot \n",
    "        spine.set_visible(False)\n",
    "    plt.show()"
   ]
  },
  {
   "cell_type": "code",
   "execution_count": 212,
   "id": "ab3c7a3d",
   "metadata": {},
   "outputs": [
    {
     "name": "stderr",
     "output_type": "stream",
     "text": [
      "findfont: Font family 'Times New Roman' not found.\n",
      "findfont: Font family 'Times New Roman' not found.\n",
      "findfont: Font family 'Times New Roman' not found.\n",
      "findfont: Font family 'Times New Roman' not found.\n",
      "findfont: Font family 'Times New Roman' not found.\n",
      "findfont: Font family 'Times New Roman' not found.\n"
     ]
    },
    {
     "data": {
      "image/png": "[encoded data removed]",
      "text/plain": [
       "<Figure size 1000x800 with 2 Axes>"
      ]
     },
     "metadata": {},
     "output_type": "display_data"
    }
   ],
   "source": [
    "heatmap(AttenScorMat_DrugSelf.cpu(),module=\"AttenScorMat_DrugSelf\" )"
   ]
  },
  {
   "cell_type": "code",
   "execution_count": 213,
   "id": "e863f83f",
   "metadata": {},
   "outputs": [
    {
     "ename": "AttributeError",
     "evalue": "'str' object has no attribute 'cpu'",
     "output_type": "error",
     "traceback": [
      "\u001b[0;31m---------------------------------------------------------------------------\u001b[0m",
      "\u001b[0;31mAttributeError\u001b[0m                            Traceback (most recent call last)",
      "Cell \u001b[0;32mIn[213], line 1\u001b[0m\n\u001b[0;32m----> 1\u001b[0m heatmap(\u001b[43mAttenScorMat_DrugCellSelf\u001b[49m\u001b[38;5;241;43m.\u001b[39;49m\u001b[43mcpu\u001b[49m(),module\u001b[38;5;241m=\u001b[39m\u001b[38;5;124m\"\u001b[39m\u001b[38;5;124mAttenScorMat_DrugCellSelf\u001b[39m\u001b[38;5;124m\"\u001b[39m)\n",
      "\u001b[0;31mAttributeError\u001b[0m: 'str' object has no attribute 'cpu'"
     ]
    }
   ],
   "source": [
    "heatmap(AttenScorMat_DrugCellSelf.cpu(),module=\"AttenScorMat_DrugCellSelf\")"
   ]
  },
  {
   "cell_type": "code",
   "execution_count": 217,
   "id": "e886eb15",
   "metadata": {},
   "outputs": [
    {
     "name": "stdout",
     "output_type": "stream",
     "text": [
      "1\n",
      "7\n"
     ]
    }
   ],
   "source": [
    "omics_num=len(omics_data_tensor_dict)\n",
    "print(omics_num)\n",
    "substruc_num=(drug_features_tensor[0][1] == 1).sum().item()\n",
    "print(substruc_num)"
   ]
  },
  {
   "cell_type": "code",
   "execution_count": 214,
   "id": "e6fda6d2",
   "metadata": {},
   "outputs": [
    {
     "name": "stdout",
     "output_type": "stream",
     "text": [
      "tensor([[0.1410, 0.1809, 0.1461, 0.1604, 0.1196, 0.1334, 0.1186],\n",
      "        [0.1480, 0.1572, 0.1322, 0.1559, 0.1334, 0.1386, 0.1346],\n",
      "        [0.1352, 0.1759, 0.1752, 0.1157, 0.1255, 0.1349, 0.1378],\n",
      "        [0.1249, 0.2059, 0.1622, 0.1097, 0.1085, 0.1457, 0.1431],\n",
      "        [0.1433, 0.2041, 0.1737, 0.1117, 0.1237, 0.1243, 0.1192],\n",
      "        [0.1472, 0.1699, 0.1568, 0.1166, 0.1221, 0.1396, 0.1478],\n",
      "        [0.1599, 0.1672, 0.1543, 0.1097, 0.1014, 0.1163, 0.1911],\n",
      "        [0.1383, 0.2138, 0.3335, 0.0412, 0.0365, 0.1258, 0.1107],\n",
      "        [0.1379, 0.2165, 0.3347, 0.0406, 0.0385, 0.1244, 0.1075],\n",
      "        [0.1366, 0.2196, 0.3352, 0.0396, 0.0404, 0.1235, 0.1052],\n",
      "        [0.1349, 0.2217, 0.3352, 0.0386, 0.0410, 0.1237, 0.1049],\n",
      "        [0.1331, 0.2227, 0.3354, 0.0378, 0.0400, 0.1249, 0.1060],\n",
      "        [0.1320, 0.2231, 0.3357, 0.0374, 0.0386, 0.1264, 0.1069],\n",
      "        [0.1318, 0.2237, 0.3352, 0.0371, 0.0380, 0.1279, 0.1063],\n",
      "        [0.1324, 0.2249, 0.3336, 0.0368, 0.0388, 0.1293, 0.1043],\n",
      "        [0.1328, 0.2265, 0.3315, 0.0365, 0.0406, 0.1305, 0.1017],\n",
      "        [0.1324, 0.2275, 0.3300, 0.0366, 0.0427, 0.1309, 0.0999],\n",
      "        [0.1315, 0.2276, 0.3296, 0.0372, 0.0439, 0.1304, 0.0998],\n",
      "        [0.1309, 0.2272, 0.3296, 0.0387, 0.0435, 0.1293, 0.1009],\n",
      "        [0.1316, 0.2273, 0.3288, 0.0406, 0.0418, 0.1286, 0.1014],\n",
      "        [0.1334, 0.2285, 0.3260, 0.0424, 0.0402, 0.1293, 0.1002],\n",
      "        [0.1352, 0.2301, 0.3219, 0.0435, 0.0397, 0.1317, 0.0977],\n",
      "        [0.1361, 0.2305, 0.3190, 0.0436, 0.0407, 0.1348, 0.0952],\n",
      "        [0.1358, 0.2284, 0.3188, 0.0429, 0.0427, 0.1373, 0.0941],\n",
      "        [0.1345, 0.2241, 0.3209, 0.0420, 0.0448, 0.1380, 0.0957],\n",
      "        [0.1335, 0.2194, 0.3229, 0.0413, 0.0459, 0.1371, 0.0998],\n",
      "        [0.1340, 0.2168, 0.3224, 0.0409, 0.0454, 0.1357, 0.1048],\n",
      "        [0.1358, 0.2170, 0.3185, 0.0406, 0.0440, 0.1352, 0.1088],\n",
      "        [0.1378, 0.2185, 0.3134, 0.0400, 0.0427, 0.1361, 0.1113],\n",
      "        [0.1391, 0.2189, 0.3103, 0.0392, 0.0423, 0.1379, 0.1123],\n",
      "        [0.1395, 0.2169, 0.3112, 0.0382, 0.0432, 0.1394, 0.1116],\n",
      "        [0.1394, 0.2131, 0.3162, 0.0377, 0.0450, 0.1394, 0.1093],\n",
      "        [0.1391, 0.2099, 0.3232, 0.0375, 0.0466, 0.1376, 0.1062],\n",
      "        [0.1388, 0.2098, 0.3286, 0.0374, 0.0469, 0.1351, 0.1034],\n",
      "        [0.1383, 0.2130, 0.3304, 0.0373, 0.0459, 0.1337, 0.1015],\n",
      "        [0.1373, 0.2170, 0.3294, 0.0373, 0.0443, 0.1338, 0.1009],\n",
      "        [0.1362, 0.2196, 0.3274, 0.0374, 0.0432, 0.1349, 0.1013],\n",
      "        [0.1354, 0.2203, 0.3257, 0.0377, 0.0431, 0.1359, 0.1020],\n",
      "        [0.1358, 0.2196, 0.3240, 0.0382, 0.0438, 0.1362, 0.1023],\n",
      "        [0.1379, 0.2189, 0.3214, 0.0387, 0.0447, 0.1359, 0.1025],\n",
      "        [0.1406, 0.2190, 0.3180, 0.0388, 0.0452, 0.1353, 0.1031],\n",
      "        [0.1424, 0.2199, 0.3150, 0.0379, 0.0450, 0.1349, 0.1048],\n",
      "        [0.1425, 0.2208, 0.3135, 0.0362, 0.0448, 0.1344, 0.1078],\n",
      "        [0.1408, 0.2216, 0.3137, 0.0342, 0.0451, 0.1335, 0.1111],\n",
      "        [0.1382, 0.2229, 0.3144, 0.0327, 0.0460, 0.1324, 0.1134],\n",
      "        [0.1359, 0.2251, 0.3137, 0.0324, 0.0473, 0.1319, 0.1137],\n",
      "        [0.1349, 0.2279, 0.3113, 0.0332, 0.0481, 0.1325, 0.1121],\n",
      "        [0.1350, 0.2301, 0.3086, 0.0345, 0.0478, 0.1342, 0.1097],\n",
      "        [0.1354, 0.2304, 0.3076, 0.0359, 0.0467, 0.1360, 0.1080],\n",
      "        [0.1355, 0.2287, 0.3091, 0.0369, 0.0460, 0.1365, 0.1073]],\n",
      "       device='cuda:0')\n",
      "torch.Size([50, 7])\n"
     ]
    }
   ],
   "source": [
    "# Remove rows with all zeros\n",
    "non_zero_rows = AttenScorMat_DrugSelf[~torch.all(AttenScorMat_DrugSelf == 0, dim=1)]\n",
    "\n",
    "# Remove columns with all zeros\n",
    "non_zero_tensor = non_zero_rows[:, ~torch.all(non_zero_rows == 0, dim=0)]\n",
    "\n",
    "print(non_zero_tensor)\n",
    "print(non_zero_tensor.shape)"
   ]
  },
  {
   "cell_type": "code",
   "execution_count": 215,
   "id": "98b09e60",
   "metadata": {},
   "outputs": [
    {
     "data": {
      "text/plain": [
       "torch.Size([50, 7])"
      ]
     },
     "execution_count": 215,
     "metadata": {},
     "output_type": "execute_result"
    }
   ],
   "source": [
    "non_zero_tensor.shape"
   ]
  },
  {
   "cell_type": "code",
   "execution_count": null,
   "id": "4b39077c",
   "metadata": {},
   "outputs": [
    {
     "data": {
      "text/plain": [
       "tensor([[[ 49, 616,  26,  63, 118,  70, 180,   0,   0,   0,   0,   0,   0,   0,\n",
       "            0,   0,   0,   0,   0,   0,   0,   0,   0,   0,   0,   0,   0,   0,\n",
       "            0,   0,   0,   0,   0,   0,   0,   0,   0,   0,   0,   0,   0,   0,\n",
       "            0,   0,   0,   0,   0,   0,   0,   0],\n",
       "         [  1,   1,   1,   1,   1,   1,   1,   0,   0,   0,   0,   0,   0,   0,\n",
       "            0,   0,   0,   0,   0,   0,   0,   0,   0,   0,   0,   0,   0,   0,\n",
       "            0,   0,   0,   0,   0,   0,   0,   0,   0,   0,   0,   0,   0,   0,\n",
       "            0,   0,   0,   0,   0,   0,   0,   0]]], device='cuda:0')"
      ]
     },
     "execution_count": 68,
     "metadata": {},
     "output_type": "execute_result"
    }
   ],
   "source": [
    "drug_features_tensor # Fc1c[nH]c(=O)[nH]c1=O "
   ]
  },
  {
   "cell_type": "code",
   "execution_count": 94,
   "id": "aaf47f15",
   "metadata": {},
   "outputs": [
    {
     "data": {
      "text/plain": [
       "tensor(49, device='cuda:0')"
      ]
     },
     "execution_count": 94,
     "metadata": {},
     "output_type": "execute_result"
    }
   ],
   "source": [
    "drug_features_tensor[0][0][sub]\n"
   ]
  },
  {
   "cell_type": "code",
   "execution_count": 218,
   "id": "4cb1f7c1",
   "metadata": {},
   "outputs": [
    {
     "name": "stderr",
     "output_type": "stream",
     "text": [
      "findfont: Font family 'Times New Roman' not found.\n",
      "findfont: Font family 'Times New Roman' not found.\n",
      "findfont: Font family 'Times New Roman' not found.\n",
      "findfont: Font family 'Times New Roman' not found.\n",
      "findfont: Font family 'Times New Roman' not found.\n",
      "findfont: Font family 'Times New Roman' not found.\n"
     ]
    },
    {
     "data": {
      "image/png": "[encoded data removed]",
      "text/plain": [
       "<Figure size 1000x800 with 2 Axes>"
      ]
     },
     "metadata": {},
     "output_type": "display_data"
    }
   ],
   "source": [
    "heatmap(AttenScorMat_DrugSelf[:][:substruc_num,:substruc_num].cpu(), module=\"AttenScorMat_DrugSelf\")\n",
    "# heatmap(AttenScorMat_DrugSelf.cpu(), module=\"AttenScorMat_DrugSelf\")"
   ]
  },
  {
   "cell_type": "code",
   "execution_count": 219,
   "id": "a5bfb6f3",
   "metadata": {},
   "outputs": [
    {
     "name": "stdout",
     "output_type": "stream",
     "text": [
      "4 2\n",
      "tensor(63, device='cuda:0') tensor(616, device='cuda:0')\n",
      "5 2\n",
      "tensor(118, device='cuda:0') tensor(616, device='cuda:0')\n"
     ]
    }
   ],
   "source": [
    "top2_indices = torch.argsort(AttenScorMat_DrugSelf[:][:substruc_num,:substruc_num].flatten(), descending=True)[:2]\n",
    "\n",
    "\n",
    "max_i, max_j = divmod(top2_indices[0].item(), AttenScorMat_DrugSelf[:][:substruc_num,:substruc_num].shape[1])\n",
    "print(max_i+1, max_j+1)\n",
    "print(drug_features_tensor[0][0][max_i],drug_features_tensor[0][0][max_j])\n",
    "sec_max_i, sec_max_j = divmod(top2_indices[1].item(), AttenScorMat_DrugSelf[:][:substruc_num,:substruc_num].shape[1])\n",
    "print(sec_max_i+1, sec_max_j+1)\n",
    "print(drug_features_tensor[0][0][sec_max_i],drug_features_tensor[0][0][sec_max_j])"
   ]
  },
  {
   "cell_type": "code",
   "execution_count": null,
   "id": "5108545a",
   "metadata": {},
   "outputs": [],
   "source": []
  }
 ],
 "metadata": {
  "kernelspec": {
   "display_name": "Python 3",
   "language": "python",
   "name": "python3"
  },
  "language_info": {
   "codemirror_mode": {
    "name": "ipython",
    "version": 3
   },
   "file_extension": ".py",
   "mimetype": "text/x-python",
   "name": "python",
   "nbconvert_exporter": "python",
   "pygments_lexer": "ipython3",
   "version": "3.10.12"
  }
 },
 "nbformat": 4,
 "nbformat_minor": 5
}
