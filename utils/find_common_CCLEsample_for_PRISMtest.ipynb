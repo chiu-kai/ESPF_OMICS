{
 "cells": [
  {
   "cell_type": "markdown",
<<<<<<< HEAD
   "id": "e81c73a9-d42d-4a8e-a1e5-6b25f09b3453",
=======
   "id": "984e6e00",
>>>>>>> 0c2afb8 (move all file to hub from BMIserver excluding results/)
   "metadata": {},
   "source": [
    "### (2)  find_ common_sample between CCLE dataset and PRISM_AUC dataset\n",
    "(3) find common genes between TCGA dataset and PDAC(53)"
   ]
  },
  {
   "cell_type": "markdown",
<<<<<<< HEAD
   "id": "8eb7865b-d337-4886-b0c0-62fc97f067fd",
=======
   "id": "41c63dee",
>>>>>>> 0c2afb8 (move all file to hub from BMIserver excluding results/)
   "metadata": {},
   "source": [
    "export common genes dataset csv file for both TCGA binary mutation dataset and PDAC binary mutation dataset\n",
    "\n",
    "./TCGA_match_CCLEandPDAC_mutation.txt\n",
    "\n",
    "./CCLE_match_TCGAandPDAC_mutation.txt\n",
    "\n",
    "./PDAC_match_TCGAandCCLE_mutation.txt"
   ]
  },
  {
   "cell_type": "markdown",
<<<<<<< HEAD
   "id": "81cbdf57",
=======
   "id": "4ead28b9",
>>>>>>> 0c2afb8 (move all file to hub from BMIserver excluding results/)
   "metadata": {},
   "source": [
    "match CCLE raw expression data **sample names** to 1.raw mutation data and 2.no_Imputation_PRISM_Repurposing_Secondary_Screen_data/Drug_sensitivity_AUC\n",
    "\n",
    "and match **gene names** to TCGA raw expression data\n"
   ]
  },
  {
   "cell_type": "code",
   "execution_count": 2,
<<<<<<< HEAD
   "id": "2427f4fc",
=======
   "id": "7d867a7c",
>>>>>>> 0c2afb8 (move all file to hub from BMIserver excluding results/)
   "metadata": {},
   "outputs": [],
   "source": [
    "import pandas as pd"
   ]
  },
  {
   "cell_type": "code",
   "execution_count": 2,
<<<<<<< HEAD
   "id": "dfc834c6",
=======
   "id": "9816904c",
>>>>>>> 0c2afb8 (move all file to hub from BMIserver excluding results/)
   "metadata": {},
   "outputs": [
    {
     "name": "stdout",
     "output_type": "stream",
     "text": [
      "  Hugo_Symbol  Entrez_Gene_Id Center NCBI_Build Chromosome  Start_Position  \\\n",
      "0       TACC2               0      .     GRCh37         10       123810032   \n",
      "1     JAKMIP3               0      .     GRCh37         10       133967449   \n",
      "2       PANX3               0      .     GRCh37         11       124489539   \n",
      "3        SPI1               0      .     GRCh37         11        47380512   \n",
      "4     NAALAD2               0      .     GRCh37         11        89868837   \n",
      "\n",
      "   End_Position Strand Variant_Classification Variant_Type  ... ExAC_AF_NFE  \\\n",
      "0     123810032      +      Missense_Mutation          SNP  ...           .   \n",
      "1     133967449      +                 Silent          SNP  ...           .   \n",
      "2     124489539      +      Missense_Mutation          SNP  ...           .   \n",
      "3      47380512      +      Missense_Mutation          SNP  ...           .   \n",
      "4      89868837      +      Missense_Mutation          SNP  ...           .   \n",
      "\n",
      "  ExAC_AF_OTH ExAC_AF_SAS GENE_PHENO FILTER                   COSMIC  \\\n",
      "0           .           .          .   PASS   SITE|p.T38M|c.113C>T|3   \n",
      "1           .           .          .   PASS                     NONE   \n",
      "2           .           .          .   PASS  SITE|p.R296Q|c.887G>A|3   \n",
      "3           .           .          .   PASS                     NONE   \n",
      "4           .           .          .   PASS   SITE|p.R65C|c.193C>T|4   \n",
      "\n",
      "                                    CENTERS      CONTEXT         DBVS NCALLERS  \n",
      "0  MUTECT|RADIA|SOMATICSNIPER|MUSE|VARSCANS  GGACACGCCCG      by1000G        5  \n",
      "1  MUTECT|RADIA|SOMATICSNIPER|MUSE|VARSCANS  CTGGACGAGGA  byFrequency        5  \n",
      "2  MUTECT|RADIA|SOMATICSNIPER|MUSE|VARSCANS  ATGTCGGTGGG            .        5  \n",
      "3                                RADIA|MUSE  GGCTGGGGACA            .        2  \n",
      "4  MUTECT|RADIA|SOMATICSNIPER|MUSE|VARSCANS  TTCTTCGGTAA            .        5  \n",
      "\n",
      "[5 rows x 114 columns]\n",
      "TACC2\n",
      "0\n",
      ".\n",
      "GRCh37\n",
      "10\n",
      "123810032\n",
      "123810032\n",
      "+\n",
      "Missense_Mutation\n",
      "SNP\n",
      "C\n",
      "C\n",
      "T\n",
      "rs540521848\n",
      ".\n",
      "TCGA-02-0003-01A-01D-1490-08\n",
      "TCGA-02-0003-10A-01D-1490-08\n",
      "C\n",
      "C\n",
      ".\n",
      ".\n",
      ".\n",
      ".\n",
      ".\n",
      ".\n",
      ".\n",
      ".\n",
      ".\n",
      ".\n",
      ".\n",
      ".\n",
      ".\n",
      ".\n",
      ".\n",
      "c.113C>T\n",
      "p.Thr38Met\n",
      "p.T38M\n",
      "ENST00000369005\n",
      "3/23\n",
      "43\n",
      "4\n",
      "38\n",
      "74\n",
      "74\n",
      "0\n",
      "TACC2,missense_variant,p.Thr38Met,ENST00000358010,;TACC2,missense_variant,p.Thr38Met,ENST00000453444,;TACC2,missense_variant,p.Thr38Met,ENST00000513429,;TACC2,missense_variant,p.Thr55Met,ENST00000491540,;TACC2,missense_variant,p.Thr38Met,ENST00000369005,;TACC2,missense_variant,p.Thr38Met,ENST00000334433,;TACC2,missense_variant,p.Thr38Met,ENST00000515603,;TACC2,missense_variant,p.Thr38Met,ENST00000515273,;TACC2,non_coding_transcript_exon_variant,,ENST00000498721,;TACC2,non_coding_transcript_exon_variant,,ENST00000492689,;\n",
      "T\n",
      "ENSG00000138162\n",
      "ENST00000369005\n",
      "Transcript\n",
      "missense_variant\n",
      "453\n",
      "113\n",
      "38\n",
      "T/M\n",
      "aCg/aTg\n",
      "rs540521848,COSM465374,COSM2148937\n",
      ".\n",
      ".\n",
      "1\n",
      "TACC2\n",
      "HGNC\n",
      "11523\n",
      "protein_coding\n",
      "YES\n",
      "CCDS7626.1\n",
      "ENSP00000358001\n",
      "TACC2_HUMAN\n",
      ".\n",
      "UPI0000246F6B\n",
      ".\n",
      ".\n",
      "benign(0.335)\n",
      "3/23\n",
      ".\n",
      ".\n",
      "T:0.0002\n",
      "T:0\n",
      "T:0.0014\n",
      ".\n",
      "T:0\n",
      "T:0\n",
      "T:0\n",
      ".\n",
      ".\n",
      ".\n",
      "0,1,1\n",
      ".\n",
      ".\n",
      ".\n",
      ".\n",
      ".\n",
      "MODERATE\n",
      ".\n",
      "SNV\n",
      ".\n",
      ".\n",
      "0,1,1\n",
      ".\n",
      ".\n",
      ".\n",
      ".\n",
      ".\n",
      ".\n",
      ".\n",
      ".\n",
      ".\n",
      ".\n",
      "PASS\n",
      "SITE|p.T38M|c.113C>T|3\n",
      "MUTECT|RADIA|SOMATICSNIPER|MUSE|VARSCANS\n",
      "GGACACGCCCG\n",
      "by1000G\n",
      "5\n"
     ]
    }
   ],
   "source": [
    "#\n",
    "# Specify the file path\n",
    "filename = \"/root/data/TCGA/mc3.v0.2.8.PUBLIC.maf\"\n",
    "maf_df = pd.read_csv(filename, sep='\\t', comment='#', low_memory=False)\n",
    "# View the first few rows\n",
    "print(maf_df.head())\n",
    "for i in maf_df.iloc[0]:\n",
    "    print(i)"
   ]
  },
  {
   "cell_type": "code",
   "execution_count": 3,
<<<<<<< HEAD
   "id": "6c7b9f2a",
=======
   "id": "0d881e67",
>>>>>>> 0c2afb8 (move all file to hub from BMIserver excluding results/)
   "metadata": {},
   "outputs": [
    {
     "data": {
      "text/plain": [
       "(3600963, 114)"
      ]
     },
     "execution_count": 3,
     "metadata": {},
     "output_type": "execute_result"
    }
   ],
   "source": [
    "maf_df.shape"
   ]
  },
  {
   "cell_type": "code",
   "execution_count": null,
<<<<<<< HEAD
   "id": "1830be20",
=======
   "id": "99ad4954",
>>>>>>> 0c2afb8 (move all file to hub from BMIserver excluding results/)
   "metadata": {},
   "outputs": [],
   "source": []
  },
  {
   "cell_type": "code",
   "execution_count": 8,
<<<<<<< HEAD
   "id": "42df61f8-b209-4cc4-92e8-9966979f802b",
=======
   "id": "487d4a4a",
>>>>>>> 0c2afb8 (move all file to hub from BMIserver excluding results/)
   "metadata": {
    "scrolled": true
   },
   "outputs": [
    {
     "name": "stdout",
     "output_type": "stream",
     "text": [
      "(1461, 32)\n",
      "(1959, 42)\n",
      "(480, 13)\n",
      "(588, 6)\n",
      "(480, 1442)\n"
     ]
    }
   ],
   "source": [
    "Cell_lines_annotations_20181226 = pd.read_csv(\"/root/data/CCLE/Cell_lines_annotations_20181226.txt\", sep='\\t', index_col=0)\n",
    "Model = pd.read_csv(\"/root/data/ccl tissue type/Model.csv\", sep=',', index_col=0)\n",
    "Sample_info_summary = pd.read_csv(\"/root/data/ccl tissue type/Sample_info_summary.csv\", sep=',', index_col=0)\n",
    "secondary_screen_cell_line_info = pd.read_csv(\"/root/data/ccl tissue type/secondary-screen-cell-line-info (19Q4).csv\", sep=',', index_col=0)\n",
    "\n",
    "AUC_df = pd.read_csv(\"/root/data/no_Imputation_PRISM_Repurposing_Secondary_Screen_data/Drug_sensitivity_AUC_(PRISM_Repurposing_Secondary_Screen)_subsetted.csv\",\n",
    "                      sep=',', index_col=0)\n",
    "\n",
    "print(Cell_lines_annotations_20181226.shape) #[\"Site_Primary\"]\n",
    "print(Model.shape) #[\"OncotreeLineage\"]\n",
    "print(Sample_info_summary.shape) #[\"sample_collection_site\"]\n",
    "print(secondary_screen_cell_line_info.shape) #[\"primary_tissue\"]\n",
    "print(AUC_df.shape) #\n"
   ]
  },
  {
   "cell_type": "code",
   "execution_count": 9,
<<<<<<< HEAD
   "id": "b34285d1",
=======
   "id": "f1af8d4f",
>>>>>>> 0c2afb8 (move all file to hub from BMIserver excluding results/)
   "metadata": {},
   "outputs": [
    {
     "data": {
      "text/plain": [
       "ModelID\n",
       "ACH-001401           SW13_ADRENAL_CORTEX\n",
       "ACH-001598    NCIH295R_AUTONOMIC_GANGLIA\n",
       "ACH-000182          SNU869_BILIARY_TRACT\n",
       "ACH-000377          SNU478_BILIARY_TRACT\n",
       "ACH-001862       TGBC52TKB_BILIARY_TRACT\n",
       "                         ...            \n",
       "ACH-003132                           NaN\n",
       "ACH-003133                           NaN\n",
       "ACH-003134                           NaN\n",
       "ACH-003136                           NaN\n",
       "ACH-003147                           NaN\n",
       "Name: CCLEName, Length: 1959, dtype: object"
      ]
     },
     "execution_count": 9,
     "metadata": {},
     "output_type": "execute_result"
    }
   ],
   "source": [
    "Model[\"CCLEName\"]"
   ]
  },
  {
   "cell_type": "code",
   "execution_count": 10,
<<<<<<< HEAD
   "id": "d63d43a1",
=======
   "id": "87355974",
>>>>>>> 0c2afb8 (move all file to hub from BMIserver excluding results/)
   "metadata": {},
   "outputs": [],
   "source": [
    "all_indices = Cell_lines_annotations_20181226.index.union(Model.index).union(Sample_info_summary.index).union(secondary_screen_cell_line_info.index)"
   ]
  },
  {
   "cell_type": "code",
   "execution_count": 13,
<<<<<<< HEAD
   "id": "9646f0d8",
=======
   "id": "50998b7f",
>>>>>>> 0c2afb8 (move all file to hub from BMIserver excluding results/)
   "metadata": {},
   "outputs": [
    {
     "data": {
      "text/plain": [
       "Index(['ACH-000001', 'ACH-000002', 'ACH-000003', 'ACH-000004', 'ACH-000005',\n",
       "       'ACH-000006', 'ACH-000007', 'ACH-000008', 'ACH-000009', 'ACH-000010',\n",
       "       ...\n",
       "       'CONTROL_BARCODE_1', 'CONTROL_BARCODE_10', 'CONTROL_BARCODE_2',\n",
       "       'CONTROL_BARCODE_3', 'CONTROL_BARCODE_4', 'CONTROL_BARCODE_5',\n",
       "       'CONTROL_BARCODE_6', 'CONTROL_BARCODE_7', 'CONTROL_BARCODE_8',\n",
       "       'CONTROL_BARCODE_9'],\n",
       "      dtype='object', length=1990)"
      ]
     },
     "execution_count": 13,
     "metadata": {},
     "output_type": "execute_result"
    }
   ],
   "source": [
    "all_indices"
   ]
  },
  {
   "cell_type": "code",
   "execution_count": 12,
<<<<<<< HEAD
   "id": "19718b37",
=======
   "id": "520c3452",
>>>>>>> 0c2afb8 (move all file to hub from BMIserver excluding results/)
   "metadata": {},
   "outputs": [],
   "source": [
    "all_indices = all_indices.dropna()"
   ]
  },
  {
   "cell_type": "code",
   "execution_count": 14,
<<<<<<< HEAD
   "id": "85cb7920",
=======
   "id": "131f96e9",
>>>>>>> 0c2afb8 (move all file to hub from BMIserver excluding results/)
   "metadata": {},
   "outputs": [
    {
     "name": "stdout",
     "output_type": "stream",
     "text": [
      "(1990, 32)\n",
      "(1990, 42)\n",
      "(1990, 13)\n",
      "(1990, 6)\n"
     ]
    }
   ],
   "source": [
    "file1 = Cell_lines_annotations_20181226[~Cell_lines_annotations_20181226.index.isna()].reindex(all_indices)\n",
    "file2 = Model[~Model.index.isna()].reindex(all_indices)\n",
    "file3 = Sample_info_summary[~Sample_info_summary.index.isna()].reindex(all_indices)\n",
    "file4 = secondary_screen_cell_line_info[~secondary_screen_cell_line_info.index.isna()].reindex(all_indices)\n",
    "\n",
    "\n",
    "print(file1.shape) #[\"Site_Primary\"]\n",
    "print(file2.shape) #[\"OncotreeLineage\"]\n",
    "print(file3.shape) #[\"sample_collection_site\"]\n",
    "print(file4.shape) #[\"primary_tissue\"]\n"
   ]
  },
  {
   "cell_type": "code",
   "execution_count": 15,
<<<<<<< HEAD
   "id": "fd55653a",
=======
   "id": "0de69fbe",
>>>>>>> 0c2afb8 (move all file to hub from BMIserver excluding results/)
   "metadata": {},
   "outputs": [
    {
     "data": {
      "text/plain": [
       "'ovary'"
      ]
     },
     "execution_count": 15,
     "metadata": {},
     "output_type": "execute_result"
    }
   ],
   "source": [
    "file4[\"primary_tissue\"][0]"
   ]
  },
  {
   "cell_type": "code",
   "execution_count": 16,
<<<<<<< HEAD
   "id": "6eac921c",
=======
   "id": "e40e935e",
>>>>>>> 0c2afb8 (move all file to hub from BMIserver excluding results/)
   "metadata": {},
   "outputs": [],
   "source": [
    "new_file = pd.DataFrame({\n",
    "    \"Cell_lines_annotations_20181226[Site_Primary]\": file1[\"Site_Primary\"],\n",
    "    \"secondary_screen_cell_line_info[primary_tissue]\": file4[\"primary_tissue\"],\n",
    "    \"Model[OncotreeLineage]\": file2[\"OncotreeLineage\"],\n",
    "    \"Model[SampleCollectionSite]\": file2[\"SampleCollectionSite\"],\n",
    "    \"Model[CCLEName]\": file2[\"CCLEName\"],\n",
    "    \"Sample_info_summary[sample_collection_site]\": file3[\"sample_collection_site\"],\n",
    "\n",
    "    \"Model[OncotreeCode]\": file2[\"OncotreeCode\"],\n",
    "    \"Model[DepmapModelType]\": file2[\"DepmapModelType\"],\n",
    "    \"Cell_lines_annotations_20181226[tcga_code]\": file1[\"tcga_code\"],\n",
    "    \n",
    "})\n"
   ]
  },
  {
   "cell_type": "code",
   "execution_count": 17,
<<<<<<< HEAD
   "id": "62c44fa2",
=======
   "id": "8b39f2a6",
>>>>>>> 0c2afb8 (move all file to hub from BMIserver excluding results/)
   "metadata": {},
   "outputs": [],
   "source": [
    "file_path = \"/root/data/ccl tissue type/total file tissue type 1990ccl.csv\"\n",
    "new_file.to_csv(file_path, sep=',', index_label='ccl_ID') "
   ]
  },
  {
   "cell_type": "code",
   "execution_count": 18,
<<<<<<< HEAD
   "id": "8a802c24",
=======
   "id": "466b983b",
>>>>>>> 0c2afb8 (move all file to hub from BMIserver excluding results/)
   "metadata": {},
   "outputs": [
    {
     "name": "stdout",
     "output_type": "stream",
     "text": [
      "480\n",
      "(42, 480)\n"
     ]
    }
   ],
   "source": [
    "matched_samples = sorted(set(AUC_df.T.columns) & set(Model.T.columns))\n",
    "print(len(matched_samples))\n",
    "Model_match_auc = Model.T[matched_samples]\n",
    "print(Model_match_auc.shape)\n",
    "file_path = f'/root/data/ccl tissue type/Model {len(matched_samples)}ccl.csv'\n",
    "Model_match_auc.T.to_csv(file_path, sep=',', index_label='ccl_ID') "
   ]
  },
  {
   "cell_type": "code",
   "execution_count": 20,
<<<<<<< HEAD
   "id": "74f575df",
=======
   "id": "092992d0",
>>>>>>> 0c2afb8 (move all file to hub from BMIserver excluding results/)
   "metadata": {},
   "outputs": [
    {
     "name": "stdout",
     "output_type": "stream",
     "text": [
      "480\n",
      "(9, 480)\n"
     ]
    }
   ],
   "source": [
    "matched_samples = sorted(set(AUC_df.T.columns) & set(new_file.T.columns))\n",
    "print(len(matched_samples))\n",
    "new_file_match_auc = new_file.T[matched_samples]\n",
    "print(new_file_match_auc.shape)\n",
    "file_path = f'/root/data/ccl tissue type/total file tissue type {len(matched_samples)}ccl.csv'\n",
    "new_file_match_auc.T.to_csv(file_path, sep=',', index_label='ccl_ID') "
   ]
  },
  {
   "cell_type": "code",
   "execution_count": 5,
<<<<<<< HEAD
   "id": "cc1b8668",
=======
   "id": "fe6f2d32",
>>>>>>> 0c2afb8 (move all file to hub from BMIserver excluding results/)
   "metadata": {},
   "outputs": [
    {
     "name": "stdout",
     "output_type": "stream",
     "text": [
      "480\n",
      "(32, 480)\n"
     ]
    }
   ],
   "source": [
    "matched_samples = sorted(set(AUC_df.T.columns) & set(all_ccl_df.T.columns))\n",
    "print(len(matched_samples))\n",
    "all_ccl_df_match_auc = all_ccl_df.T[matched_samples]\n",
    "print(all_ccl_df_match_auc.shape)\n",
    "\n",
    "file_path = \"/root/data/CCLE/Cell_lines_annotations_20181226 match PRISM AUC.csv\"\n",
    "# Save the DataFrame to a text file\n",
    "all_ccl_df_match_auc.T.to_csv(file_path, sep=',', index_label='ccl_name') # header=True:column name\n"
   ]
  },
  {
   "cell_type": "code",
   "execution_count": 58,
<<<<<<< HEAD
   "id": "585c966a",
=======
   "id": "6c03666d",
>>>>>>> 0c2afb8 (move all file to hub from BMIserver excluding results/)
   "metadata": {},
   "outputs": [],
   "source": [
    "AUC_df = pd.read_csv(\"/root/data/no_Imputation_PRISM_Repurposing_Secondary_Screen_data/Drug_sensitivity_AUC_(PRISM_Repurposing_Secondary_Screen)_subsetted.csv\",\n",
    "                      sep=',', index_col=0)\n",
    "CCLE = pd.read_csv(\"/root/data/CCLE/CCLE_exp_476samples_4692genes.txt\" ,sep='\\t', index_col=0)"
   ]
  },
  {
   "cell_type": "code",
   "execution_count": 62,
<<<<<<< HEAD
   "id": "c4f33d29",
=======
   "id": "657aaa06",
>>>>>>> 0c2afb8 (move all file to hub from BMIserver excluding results/)
   "metadata": {},
   "outputs": [
    {
     "name": "stdout",
     "output_type": "stream",
     "text": [
      "476\n",
      "['ACH-000047', 'ACH-000309', 'ACH-000979', 'ACH-001024']\n"
     ]
    }
   ],
   "source": [
    "matched_samples = sorted(set(CCLE.T.columns) & set(AUC_df.T.columns))\n",
    "#print('matched_samples',matched_samples)\n",
    "print(len(matched_samples))\n",
    "mismatched_samplenames_CCLE = sorted(set(AUC_df.T.columns) - set(CCLE.T.columns))\n",
    "print(mismatched_samplenames_CCLE)"
   ]
  },
  {
   "cell_type": "code",
   "execution_count": null,
<<<<<<< HEAD
   "id": "cf309b7f",
=======
   "id": "42a15670",
>>>>>>> 0c2afb8 (move all file to hub from BMIserver excluding results/)
   "metadata": {},
   "outputs": [],
   "source": [
    "# TCGA_exp_df=pd.read_csv('/root/data/TCGA_rawdata_maf/EBPlusPlusAdjustPANCAN_IlluminaHiSeq_RNASeqV2.geneExp.tsv',sep='\\t', index_col=0)\n",
    "# # Remove columns with NaN values\n",
    "# TCGA_exp_df = (TCGA_exp_df.T).dropna(axis=1)\n",
    "TCGA_exp_df=pd.read_csv('/root/data/winnie_data/tcga_exp_data_paired_with_ccl.txt',sep='\\t', index_col=0)\n",
    "TCGA_exp_df=TCGA_exp_df.T"
   ]
  },
  {
   "cell_type": "code",
   "execution_count": 7,
<<<<<<< HEAD
   "id": "f5baf9c6",
=======
   "id": "734d26a4",
>>>>>>> 0c2afb8 (move all file to hub from BMIserver excluding results/)
   "metadata": {},
   "outputs": [
    {
     "name": "stdout",
     "output_type": "stream",
     "text": [
      "Expression_Public_23Q4_subsetted.csv  : \n",
      "Range: 16.50076409\n",
      "Minimum: 0.0\n",
      "Maximum: 16.50076409\n",
      "Mean: 2.7702272961906798\n",
      "Median: 2.673556424\n",
      "Standard Deviation: 2.5028859187448083\n",
      "binary data: False\n",
      "-------------------------------------\n",
      "tcga_exp_data_paired_with_ccl.txt  : \n",
      "Range: 17.5432\n",
      "Minimum: 0.0\n",
      "Maximum: 17.5432\n",
      "Mean: 3.1008110164651974\n",
      "Median: 2.86\n",
      "Standard Deviation: 2.2560527637894987\n",
      "binary data: False\n",
      "-------------------------------------\n"
     ]
    }
   ],
   "source": [
    "from utils.tools import get_data_value_range\n",
    "get_data_value_range(CCLE_exp_df,\"Expression_Public_23Q4_subsetted.csv\")\n",
    "get_data_value_range(TCGA_exp_df,\"tcga_exp_data_paired_with_ccl.txt\")"
   ]
  },
  {
   "cell_type": "code",
   "execution_count": 8,
<<<<<<< HEAD
   "id": "03829ebf-faa9-4b85-b4b5-b6c6d194e9e5",
=======
   "id": "d40a3890",
>>>>>>> 0c2afb8 (move all file to hub from BMIserver excluding results/)
   "metadata": {
    "scrolled": true
   },
   "outputs": [
    {
     "name": "stdout",
     "output_type": "stream",
     "text": [
      "(1788, 19450)\n",
      "(1479, 16383)\n",
      "(480, 1442)\n"
     ]
    }
   ],
   "source": [
    "print(CCLE_mut_df.shape)\n",
    "print(CCLE_exp_df.shape)\n",
    "print(AUC_df.shape)"
   ]
  },
  {
   "cell_type": "code",
   "execution_count": 9,
<<<<<<< HEAD
   "id": "b5dbae8e",
=======
   "id": "b15990a9",
>>>>>>> 0c2afb8 (move all file to hub from BMIserver excluding results/)
   "metadata": {},
   "outputs": [
    {
     "data": {
      "text/plain": [
       "Index(['ACH-000007', 'ACH-000008', 'ACH-000011', 'ACH-000012', 'ACH-000013',\n",
       "       'ACH-000014', 'ACH-000015', 'ACH-000018', 'ACH-000019', 'ACH-000021',\n",
       "       ...\n",
       "       'ACH-001075', 'ACH-001113', 'ACH-001128', 'ACH-001145', 'ACH-001190',\n",
       "       'ACH-001239', 'ACH-001306', 'ACH-001307', 'ACH-001318', 'ACH-001321'],\n",
       "      dtype='object', name='CCL', length=480)"
      ]
     },
     "execution_count": 9,
     "metadata": {},
     "output_type": "execute_result"
    }
   ],
   "source": [
    "AUC_df.T.columns"
   ]
  },
  {
   "cell_type": "code",
   "execution_count": 12,
<<<<<<< HEAD
   "id": "ce5f5c23-1c6f-411e-b6a8-362d28bfdf73",
=======
   "id": "9eb62369",
>>>>>>> 0c2afb8 (move all file to hub from BMIserver excluding results/)
   "metadata": {
    "scrolled": true
   },
   "outputs": [
    {
     "name": "stdout",
     "output_type": "stream",
     "text": [
      "1409\n",
      "379\n",
      "mismatched_samplenames_AUC 70\n",
      "476\n"
     ]
    }
   ],
   "source": [
    "matched_samples = sorted(set(CCLE_mut_df.T.columns) & set(CCLE_exp_df.T.columns))\n",
    "#print('matched_samples',matched_samples)\n",
    "print(len(matched_samples))\n",
    "mismatched_samplenames_CCLE = sorted(set(CCLE_mut_df.T.columns) - set(CCLE_exp_df.T.columns))\n",
    "mismatched_samplenames_AUC = sorted(set(CCLE_exp_df.T.columns) - set(CCLE_mut_df.T.columns))\n",
    "#print(\"mismatched_samplenames_CCLE\",mismatched_samplenames_CCLE)\n",
    "print(len(mismatched_samplenames_CCLE))\n",
    "print(\"mismatched_samplenames_AUC\",len(mismatched_samplenames_AUC))\n",
    "\n",
    "\n",
    "matched_samples_triple = sorted(set(matched_samples) & set(AUC_df.T.columns))\n",
    "print(len(matched_samples_triple))"
   ]
  },
  {
   "cell_type": "code",
   "execution_count": 19,
<<<<<<< HEAD
   "id": "ae6b0ea0",
=======
   "id": "258ec30a",
>>>>>>> 0c2afb8 (move all file to hub from BMIserver excluding results/)
   "metadata": {},
   "outputs": [
    {
     "name": "stdout",
     "output_type": "stream",
     "text": [
      "4692\n"
     ]
    }
   ],
   "source": [
    "matched_genes = sorted(set(TCGA_exp_df.columns) & set(CCLE_exp_df.columns))\n",
    "print(len(matched_genes))"
   ]
  },
  {
   "cell_type": "code",
   "execution_count": 20,
<<<<<<< HEAD
   "id": "623e99f0-2187-44f5-bc2c-56cc4c00c219",
=======
   "id": "eb6a6d78",
>>>>>>> 0c2afb8 (move all file to hub from BMIserver excluding results/)
   "metadata": {},
   "outputs": [],
   "source": [
    "with open('CCLEexp_matched_PRISMauc&CCLEmut_samples_list.txt', 'w') as file:\n",
    "    for item in matched_samples_triple:\n",
    "        file.write(f\"{item}\\n\") \n",
    "\n",
    "with open('CCLEexp_matched_TCGAexp_genes_list.txt', 'w') as file:\n",
    "    for item in matched_genes:  \n",
    "        file.write(f\"{item}\\n\") "
   ]
  },
  {
   "cell_type": "code",
   "execution_count": 21,
<<<<<<< HEAD
   "id": "b8e89bf7-21f0-4e49-9280-a618a17436df",
=======
   "id": "be5e187b",
>>>>>>> 0c2afb8 (move all file to hub from BMIserver excluding results/)
   "metadata": {},
   "outputs": [],
   "source": [
    "# get ccle filtered dataframe by wanted list of column names\n",
    "matched_samples_CCLE_exp_df = CCLE_exp_df.T[matched_samples_triple]"
   ]
  },
  {
   "cell_type": "code",
   "execution_count": 29,
<<<<<<< HEAD
   "id": "39624edc",
=======
   "id": "44dc8a66",
>>>>>>> 0c2afb8 (move all file to hub from BMIserver excluding results/)
   "metadata": {},
   "outputs": [
    {
     "data": {
      "text/html": [
       "<div>\n",
       "<style scoped>\n",
       "    .dataframe tbody tr th:only-of-type {\n",
       "        vertical-align: middle;\n",
       "    }\n",
       "\n",
       "    .dataframe tbody tr th {\n",
       "        vertical-align: top;\n",
       "    }\n",
       "\n",
       "    .dataframe thead th {\n",
       "        text-align: right;\n",
       "    }\n",
       "</style>\n",
       "<table border=\"1\" class=\"dataframe\">\n",
       "  <thead>\n",
       "    <tr style=\"text-align: right;\">\n",
       "      <th>Gene</th>\n",
       "      <th>A1BG</th>\n",
       "      <th>A2M</th>\n",
       "      <th>A2ML1</th>\n",
       "      <th>A4GALT</th>\n",
       "      <th>AADAT</th>\n",
       "      <th>AASS</th>\n",
       "      <th>AATK</th>\n",
       "      <th>ABAT</th>\n",
       "      <th>ABCA1</th>\n",
       "      <th>ABCA2</th>\n",
       "      <th>...</th>\n",
       "      <th>ZNF738</th>\n",
       "      <th>ZNF750</th>\n",
       "      <th>ZNF761</th>\n",
       "      <th>ZNF827</th>\n",
       "      <th>ZNF83</th>\n",
       "      <th>ZNF91</th>\n",
       "      <th>ZNF93</th>\n",
       "      <th>ZP3</th>\n",
       "      <th>ZSCAN18</th>\n",
       "      <th>ZWINT</th>\n",
       "    </tr>\n",
       "  </thead>\n",
       "  <tbody>\n",
       "    <tr>\n",
       "      <th>TCGA-02-0047-01</th>\n",
       "      <td>4.8385</td>\n",
       "      <td>9.0912</td>\n",
       "      <td>1.0636</td>\n",
       "      <td>1.3392</td>\n",
       "      <td>3.4019</td>\n",
       "      <td>3.5546</td>\n",
       "      <td>3.3420</td>\n",
       "      <td>7.2821</td>\n",
       "      <td>3.6960</td>\n",
       "      <td>6.1204</td>\n",
       "      <td>...</td>\n",
       "      <td>3.1522</td>\n",
       "      <td>0.1245</td>\n",
       "      <td>2.4803</td>\n",
       "      <td>3.7496</td>\n",
       "      <td>4.3951</td>\n",
       "      <td>3.7421</td>\n",
       "      <td>2.2111</td>\n",
       "      <td>0.9412</td>\n",
       "      <td>6.6683</td>\n",
       "      <td>4.4349</td>\n",
       "    </tr>\n",
       "    <tr>\n",
       "      <th>TCGA-02-0055-01</th>\n",
       "      <td>6.0860</td>\n",
       "      <td>8.9723</td>\n",
       "      <td>0.0842</td>\n",
       "      <td>3.9570</td>\n",
       "      <td>1.8400</td>\n",
       "      <td>2.3813</td>\n",
       "      <td>2.2235</td>\n",
       "      <td>2.6112</td>\n",
       "      <td>3.3234</td>\n",
       "      <td>4.9127</td>\n",
       "      <td>...</td>\n",
       "      <td>1.6871</td>\n",
       "      <td>0.0000</td>\n",
       "      <td>2.7803</td>\n",
       "      <td>2.0462</td>\n",
       "      <td>4.3413</td>\n",
       "      <td>2.6759</td>\n",
       "      <td>2.6848</td>\n",
       "      <td>2.2780</td>\n",
       "      <td>5.0824</td>\n",
       "      <td>3.3590</td>\n",
       "    </tr>\n",
       "    <tr>\n",
       "      <th>TCGA-02-2483-01</th>\n",
       "      <td>5.6206</td>\n",
       "      <td>8.1177</td>\n",
       "      <td>0.1112</td>\n",
       "      <td>1.9184</td>\n",
       "      <td>3.2403</td>\n",
       "      <td>2.3841</td>\n",
       "      <td>2.5160</td>\n",
       "      <td>5.5046</td>\n",
       "      <td>3.6702</td>\n",
       "      <td>5.4967</td>\n",
       "      <td>...</td>\n",
       "      <td>4.5273</td>\n",
       "      <td>0.0428</td>\n",
       "      <td>2.3306</td>\n",
       "      <td>2.8600</td>\n",
       "      <td>3.6508</td>\n",
       "      <td>3.7866</td>\n",
       "      <td>3.7005</td>\n",
       "      <td>2.5336</td>\n",
       "      <td>6.0444</td>\n",
       "      <td>4.7608</td>\n",
       "    </tr>\n",
       "    <tr>\n",
       "      <th>TCGA-02-2485-01</th>\n",
       "      <td>3.6218</td>\n",
       "      <td>6.9676</td>\n",
       "      <td>2.3618</td>\n",
       "      <td>2.8659</td>\n",
       "      <td>3.0756</td>\n",
       "      <td>3.5957</td>\n",
       "      <td>1.7740</td>\n",
       "      <td>7.2060</td>\n",
       "      <td>3.4699</td>\n",
       "      <td>5.0696</td>\n",
       "      <td>...</td>\n",
       "      <td>4.9213</td>\n",
       "      <td>0.0000</td>\n",
       "      <td>3.3463</td>\n",
       "      <td>3.5198</td>\n",
       "      <td>4.9681</td>\n",
       "      <td>4.6531</td>\n",
       "      <td>3.8380</td>\n",
       "      <td>2.4383</td>\n",
       "      <td>7.1698</td>\n",
       "      <td>4.5958</td>\n",
       "    </tr>\n",
       "    <tr>\n",
       "      <th>TCGA-05-4244-01</th>\n",
       "      <td>1.7269</td>\n",
       "      <td>7.0196</td>\n",
       "      <td>0.0000</td>\n",
       "      <td>2.4383</td>\n",
       "      <td>1.3449</td>\n",
       "      <td>2.0636</td>\n",
       "      <td>1.3277</td>\n",
       "      <td>2.8012</td>\n",
       "      <td>3.3103</td>\n",
       "      <td>4.6628</td>\n",
       "      <td>...</td>\n",
       "      <td>1.0567</td>\n",
       "      <td>0.3897</td>\n",
       "      <td>2.4303</td>\n",
       "      <td>1.5110</td>\n",
       "      <td>2.7071</td>\n",
       "      <td>2.5583</td>\n",
       "      <td>1.5008</td>\n",
       "      <td>3.3744</td>\n",
       "      <td>2.0976</td>\n",
       "      <td>4.6346</td>\n",
       "    </tr>\n",
       "    <tr>\n",
       "      <th>...</th>\n",
       "      <td>...</td>\n",
       "      <td>...</td>\n",
       "      <td>...</td>\n",
       "      <td>...</td>\n",
       "      <td>...</td>\n",
       "      <td>...</td>\n",
       "      <td>...</td>\n",
       "      <td>...</td>\n",
       "      <td>...</td>\n",
       "      <td>...</td>\n",
       "      <td>...</td>\n",
       "      <td>...</td>\n",
       "      <td>...</td>\n",
       "      <td>...</td>\n",
       "      <td>...</td>\n",
       "      <td>...</td>\n",
       "      <td>...</td>\n",
       "      <td>...</td>\n",
       "      <td>...</td>\n",
       "      <td>...</td>\n",
       "      <td>...</td>\n",
       "    </tr>\n",
       "    <tr>\n",
       "      <th>TCGA-ZS-A9CF-01</th>\n",
       "      <td>8.9495</td>\n",
       "      <td>8.0535</td>\n",
       "      <td>0.0145</td>\n",
       "      <td>3.4074</td>\n",
       "      <td>4.1969</td>\n",
       "      <td>5.2638</td>\n",
       "      <td>0.3105</td>\n",
       "      <td>8.2072</td>\n",
       "      <td>3.3937</td>\n",
       "      <td>4.7538</td>\n",
       "      <td>...</td>\n",
       "      <td>1.3562</td>\n",
       "      <td>0.0705</td>\n",
       "      <td>1.4490</td>\n",
       "      <td>0.1892</td>\n",
       "      <td>2.6159</td>\n",
       "      <td>3.7377</td>\n",
       "      <td>0.9261</td>\n",
       "      <td>1.2266</td>\n",
       "      <td>3.9580</td>\n",
       "      <td>5.0704</td>\n",
       "    </tr>\n",
       "    <tr>\n",
       "      <th>TCGA-ZS-A9CG-01</th>\n",
       "      <td>9.1479</td>\n",
       "      <td>6.2920</td>\n",
       "      <td>0.0000</td>\n",
       "      <td>2.4195</td>\n",
       "      <td>1.2266</td>\n",
       "      <td>3.3855</td>\n",
       "      <td>0.2511</td>\n",
       "      <td>6.1404</td>\n",
       "      <td>3.5135</td>\n",
       "      <td>4.2809</td>\n",
       "      <td>...</td>\n",
       "      <td>0.2266</td>\n",
       "      <td>0.1112</td>\n",
       "      <td>1.6960</td>\n",
       "      <td>0.0567</td>\n",
       "      <td>0.7313</td>\n",
       "      <td>1.6135</td>\n",
       "      <td>0.0705</td>\n",
       "      <td>0.2870</td>\n",
       "      <td>3.6588</td>\n",
       "      <td>2.1177</td>\n",
       "    </tr>\n",
       "    <tr>\n",
       "      <th>TCGA-ZT-A8OM-01</th>\n",
       "      <td>7.6498</td>\n",
       "      <td>8.3502</td>\n",
       "      <td>0.0000</td>\n",
       "      <td>2.0462</td>\n",
       "      <td>0.2142</td>\n",
       "      <td>0.4223</td>\n",
       "      <td>0.6871</td>\n",
       "      <td>0.7741</td>\n",
       "      <td>0.7399</td>\n",
       "      <td>2.9764</td>\n",
       "      <td>...</td>\n",
       "      <td>0.9031</td>\n",
       "      <td>1.2080</td>\n",
       "      <td>1.5559</td>\n",
       "      <td>0.4855</td>\n",
       "      <td>3.3406</td>\n",
       "      <td>1.9819</td>\n",
       "      <td>1.7312</td>\n",
       "      <td>5.4614</td>\n",
       "      <td>4.2342</td>\n",
       "      <td>4.1946</td>\n",
       "    </tr>\n",
       "    <tr>\n",
       "      <th>TCGA-ZU-A8S4-01</th>\n",
       "      <td>3.7137</td>\n",
       "      <td>6.9593</td>\n",
       "      <td>0.0000</td>\n",
       "      <td>4.4502</td>\n",
       "      <td>1.8400</td>\n",
       "      <td>2.4906</td>\n",
       "      <td>1.1244</td>\n",
       "      <td>2.5534</td>\n",
       "      <td>2.0976</td>\n",
       "      <td>5.3548</td>\n",
       "      <td>...</td>\n",
       "      <td>2.1732</td>\n",
       "      <td>0.0567</td>\n",
       "      <td>2.1891</td>\n",
       "      <td>2.2265</td>\n",
       "      <td>3.9040</td>\n",
       "      <td>2.8420</td>\n",
       "      <td>2.6159</td>\n",
       "      <td>2.6439</td>\n",
       "      <td>4.8042</td>\n",
       "      <td>5.9720</td>\n",
       "    </tr>\n",
       "    <tr>\n",
       "      <th>TCGA-ZX-AA5X-01</th>\n",
       "      <td>3.7082</td>\n",
       "      <td>6.8478</td>\n",
       "      <td>5.7437</td>\n",
       "      <td>4.9146</td>\n",
       "      <td>1.3618</td>\n",
       "      <td>1.9298</td>\n",
       "      <td>0.7313</td>\n",
       "      <td>2.1732</td>\n",
       "      <td>2.9709</td>\n",
       "      <td>4.2173</td>\n",
       "      <td>...</td>\n",
       "      <td>2.4699</td>\n",
       "      <td>5.2861</td>\n",
       "      <td>2.4142</td>\n",
       "      <td>2.0000</td>\n",
       "      <td>4.4614</td>\n",
       "      <td>2.4330</td>\n",
       "      <td>1.4006</td>\n",
       "      <td>4.2750</td>\n",
       "      <td>3.8022</td>\n",
       "      <td>5.4673</td>\n",
       "    </tr>\n",
       "  </tbody>\n",
       "</table>\n",
       "<p>8238 rows × 4692 columns</p>\n",
       "</div>"
      ],
      "text/plain": [
       "Gene               A1BG     A2M   A2ML1  A4GALT   AADAT    AASS    AATK  \\\n",
       "TCGA-02-0047-01  4.8385  9.0912  1.0636  1.3392  3.4019  3.5546  3.3420   \n",
       "TCGA-02-0055-01  6.0860  8.9723  0.0842  3.9570  1.8400  2.3813  2.2235   \n",
       "TCGA-02-2483-01  5.6206  8.1177  0.1112  1.9184  3.2403  2.3841  2.5160   \n",
       "TCGA-02-2485-01  3.6218  6.9676  2.3618  2.8659  3.0756  3.5957  1.7740   \n",
       "TCGA-05-4244-01  1.7269  7.0196  0.0000  2.4383  1.3449  2.0636  1.3277   \n",
       "...                 ...     ...     ...     ...     ...     ...     ...   \n",
       "TCGA-ZS-A9CF-01  8.9495  8.0535  0.0145  3.4074  4.1969  5.2638  0.3105   \n",
       "TCGA-ZS-A9CG-01  9.1479  6.2920  0.0000  2.4195  1.2266  3.3855  0.2511   \n",
       "TCGA-ZT-A8OM-01  7.6498  8.3502  0.0000  2.0462  0.2142  0.4223  0.6871   \n",
       "TCGA-ZU-A8S4-01  3.7137  6.9593  0.0000  4.4502  1.8400  2.4906  1.1244   \n",
       "TCGA-ZX-AA5X-01  3.7082  6.8478  5.7437  4.9146  1.3618  1.9298  0.7313   \n",
       "\n",
       "Gene               ABAT   ABCA1   ABCA2  ...  ZNF738  ZNF750  ZNF761  ZNF827  \\\n",
       "TCGA-02-0047-01  7.2821  3.6960  6.1204  ...  3.1522  0.1245  2.4803  3.7496   \n",
       "TCGA-02-0055-01  2.6112  3.3234  4.9127  ...  1.6871  0.0000  2.7803  2.0462   \n",
       "TCGA-02-2483-01  5.5046  3.6702  5.4967  ...  4.5273  0.0428  2.3306  2.8600   \n",
       "TCGA-02-2485-01  7.2060  3.4699  5.0696  ...  4.9213  0.0000  3.3463  3.5198   \n",
       "TCGA-05-4244-01  2.8012  3.3103  4.6628  ...  1.0567  0.3897  2.4303  1.5110   \n",
       "...                 ...     ...     ...  ...     ...     ...     ...     ...   \n",
       "TCGA-ZS-A9CF-01  8.2072  3.3937  4.7538  ...  1.3562  0.0705  1.4490  0.1892   \n",
       "TCGA-ZS-A9CG-01  6.1404  3.5135  4.2809  ...  0.2266  0.1112  1.6960  0.0567   \n",
       "TCGA-ZT-A8OM-01  0.7741  0.7399  2.9764  ...  0.9031  1.2080  1.5559  0.4855   \n",
       "TCGA-ZU-A8S4-01  2.5534  2.0976  5.3548  ...  2.1732  0.0567  2.1891  2.2265   \n",
       "TCGA-ZX-AA5X-01  2.1732  2.9709  4.2173  ...  2.4699  5.2861  2.4142  2.0000   \n",
       "\n",
       "Gene              ZNF83   ZNF91   ZNF93     ZP3  ZSCAN18   ZWINT  \n",
       "TCGA-02-0047-01  4.3951  3.7421  2.2111  0.9412   6.6683  4.4349  \n",
       "TCGA-02-0055-01  4.3413  2.6759  2.6848  2.2780   5.0824  3.3590  \n",
       "TCGA-02-2483-01  3.6508  3.7866  3.7005  2.5336   6.0444  4.7608  \n",
       "TCGA-02-2485-01  4.9681  4.6531  3.8380  2.4383   7.1698  4.5958  \n",
       "TCGA-05-4244-01  2.7071  2.5583  1.5008  3.3744   2.0976  4.6346  \n",
       "...                 ...     ...     ...     ...      ...     ...  \n",
       "TCGA-ZS-A9CF-01  2.6159  3.7377  0.9261  1.2266   3.9580  5.0704  \n",
       "TCGA-ZS-A9CG-01  0.7313  1.6135  0.0705  0.2870   3.6588  2.1177  \n",
       "TCGA-ZT-A8OM-01  3.3406  1.9819  1.7312  5.4614   4.2342  4.1946  \n",
       "TCGA-ZU-A8S4-01  3.9040  2.8420  2.6159  2.6439   4.8042  5.9720  \n",
       "TCGA-ZX-AA5X-01  4.4614  2.4330  1.4006  4.2750   3.8022  5.4673  \n",
       "\n",
       "[8238 rows x 4692 columns]"
      ]
     },
     "execution_count": 29,
     "metadata": {},
     "output_type": "execute_result"
    }
   ],
   "source": [
    "matched_genes_TCGA_exp_df = TCGA_exp_df[matched_genes]\n",
    "matched_genes_TCGA_exp_df"
   ]
  },
  {
   "cell_type": "code",
   "execution_count": 24,
<<<<<<< HEAD
   "id": "cfeb712a",
=======
   "id": "5ad0f106",
>>>>>>> 0c2afb8 (move all file to hub from BMIserver excluding results/)
   "metadata": {},
   "outputs": [
    {
     "data": {
      "text/html": [
       "<div>\n",
       "<style scoped>\n",
       "    .dataframe tbody tr th:only-of-type {\n",
       "        vertical-align: middle;\n",
       "    }\n",
       "\n",
       "    .dataframe tbody tr th {\n",
       "        vertical-align: top;\n",
       "    }\n",
       "\n",
       "    .dataframe thead th {\n",
       "        text-align: right;\n",
       "    }\n",
       "</style>\n",
       "<table border=\"1\" class=\"dataframe\">\n",
       "  <thead>\n",
       "    <tr style=\"text-align: right;\">\n",
       "      <th></th>\n",
       "      <th>A1BG</th>\n",
       "      <th>A2M</th>\n",
       "      <th>A2ML1</th>\n",
       "      <th>A4GALT</th>\n",
       "      <th>AADAT</th>\n",
       "      <th>AASS</th>\n",
       "      <th>AATK</th>\n",
       "      <th>ABAT</th>\n",
       "      <th>ABCA1</th>\n",
       "      <th>ABCA2</th>\n",
       "      <th>...</th>\n",
       "      <th>ZNF738</th>\n",
       "      <th>ZNF750</th>\n",
       "      <th>ZNF761</th>\n",
       "      <th>ZNF827</th>\n",
       "      <th>ZNF83</th>\n",
       "      <th>ZNF91</th>\n",
       "      <th>ZNF93</th>\n",
       "      <th>ZP3</th>\n",
       "      <th>ZSCAN18</th>\n",
       "      <th>ZWINT</th>\n",
       "    </tr>\n",
       "  </thead>\n",
       "  <tbody>\n",
       "    <tr>\n",
       "      <th>ACH-000007</th>\n",
       "      <td>0.137504</td>\n",
       "      <td>0.201634</td>\n",
       "      <td>0.000000</td>\n",
       "      <td>0.014355</td>\n",
       "      <td>2.629939</td>\n",
       "      <td>0.028569</td>\n",
       "      <td>2.912650</td>\n",
       "      <td>0.695994</td>\n",
       "      <td>0.097611</td>\n",
       "      <td>5.309976</td>\n",
       "      <td>...</td>\n",
       "      <td>0.084064</td>\n",
       "      <td>0.124328</td>\n",
       "      <td>1.863938</td>\n",
       "      <td>1.077243</td>\n",
       "      <td>0.263034</td>\n",
       "      <td>3.716991</td>\n",
       "      <td>0.263034</td>\n",
       "      <td>3.053111</td>\n",
       "      <td>0.028569</td>\n",
       "      <td>6.126188</td>\n",
       "    </tr>\n",
       "    <tr>\n",
       "      <th>ACH-000008</th>\n",
       "      <td>5.167920</td>\n",
       "      <td>4.432959</td>\n",
       "      <td>0.042644</td>\n",
       "      <td>3.547203</td>\n",
       "      <td>3.785551</td>\n",
       "      <td>3.019702</td>\n",
       "      <td>0.956057</td>\n",
       "      <td>2.066950</td>\n",
       "      <td>2.941106</td>\n",
       "      <td>4.074677</td>\n",
       "      <td>...</td>\n",
       "      <td>1.490570</td>\n",
       "      <td>0.028569</td>\n",
       "      <td>2.961623</td>\n",
       "      <td>3.234195</td>\n",
       "      <td>0.956057</td>\n",
       "      <td>0.226509</td>\n",
       "      <td>0.238787</td>\n",
       "      <td>1.835924</td>\n",
       "      <td>0.084064</td>\n",
       "      <td>6.161081</td>\n",
       "    </tr>\n",
       "    <tr>\n",
       "      <th>ACH-000011</th>\n",
       "      <td>1.035624</td>\n",
       "      <td>0.042644</td>\n",
       "      <td>0.014355</td>\n",
       "      <td>3.532317</td>\n",
       "      <td>0.014355</td>\n",
       "      <td>1.526069</td>\n",
       "      <td>0.084064</td>\n",
       "      <td>1.622930</td>\n",
       "      <td>2.111031</td>\n",
       "      <td>5.037821</td>\n",
       "      <td>...</td>\n",
       "      <td>1.378512</td>\n",
       "      <td>0.070389</td>\n",
       "      <td>2.967169</td>\n",
       "      <td>2.636915</td>\n",
       "      <td>4.670727</td>\n",
       "      <td>3.084064</td>\n",
       "      <td>0.286881</td>\n",
       "      <td>4.553361</td>\n",
       "      <td>3.736605</td>\n",
       "      <td>5.573496</td>\n",
       "    </tr>\n",
       "    <tr>\n",
       "      <th>ACH-000012</th>\n",
       "      <td>2.341986</td>\n",
       "      <td>0.070389</td>\n",
       "      <td>0.014355</td>\n",
       "      <td>2.226509</td>\n",
       "      <td>1.405992</td>\n",
       "      <td>0.863938</td>\n",
       "      <td>0.807355</td>\n",
       "      <td>0.748461</td>\n",
       "      <td>3.333424</td>\n",
       "      <td>4.219556</td>\n",
       "      <td>...</td>\n",
       "      <td>3.283922</td>\n",
       "      <td>0.124328</td>\n",
       "      <td>3.575312</td>\n",
       "      <td>2.908813</td>\n",
       "      <td>4.503349</td>\n",
       "      <td>3.116032</td>\n",
       "      <td>2.695994</td>\n",
       "      <td>4.502076</td>\n",
       "      <td>5.301588</td>\n",
       "      <td>6.207307</td>\n",
       "    </tr>\n",
       "    <tr>\n",
       "      <th>ACH-000013</th>\n",
       "      <td>2.664483</td>\n",
       "      <td>0.084064</td>\n",
       "      <td>0.150560</td>\n",
       "      <td>1.298658</td>\n",
       "      <td>2.965323</td>\n",
       "      <td>0.604071</td>\n",
       "      <td>1.981853</td>\n",
       "      <td>2.432959</td>\n",
       "      <td>1.070389</td>\n",
       "      <td>4.488001</td>\n",
       "      <td>...</td>\n",
       "      <td>4.083213</td>\n",
       "      <td>2.811471</td>\n",
       "      <td>2.493135</td>\n",
       "      <td>3.023255</td>\n",
       "      <td>3.161888</td>\n",
       "      <td>1.510962</td>\n",
       "      <td>0.782409</td>\n",
       "      <td>2.925999</td>\n",
       "      <td>3.999098</td>\n",
       "      <td>7.888926</td>\n",
       "    </tr>\n",
       "    <tr>\n",
       "      <th>...</th>\n",
       "      <td>...</td>\n",
       "      <td>...</td>\n",
       "      <td>...</td>\n",
       "      <td>...</td>\n",
       "      <td>...</td>\n",
       "      <td>...</td>\n",
       "      <td>...</td>\n",
       "      <td>...</td>\n",
       "      <td>...</td>\n",
       "      <td>...</td>\n",
       "      <td>...</td>\n",
       "      <td>...</td>\n",
       "      <td>...</td>\n",
       "      <td>...</td>\n",
       "      <td>...</td>\n",
       "      <td>...</td>\n",
       "      <td>...</td>\n",
       "      <td>...</td>\n",
       "      <td>...</td>\n",
       "      <td>...</td>\n",
       "      <td>...</td>\n",
       "    </tr>\n",
       "    <tr>\n",
       "      <th>ACH-001239</th>\n",
       "      <td>5.398829</td>\n",
       "      <td>3.883621</td>\n",
       "      <td>0.000000</td>\n",
       "      <td>0.176323</td>\n",
       "      <td>3.063503</td>\n",
       "      <td>4.324811</td>\n",
       "      <td>2.634593</td>\n",
       "      <td>1.077243</td>\n",
       "      <td>2.570463</td>\n",
       "      <td>4.138323</td>\n",
       "      <td>...</td>\n",
       "      <td>3.207893</td>\n",
       "      <td>0.650765</td>\n",
       "      <td>3.860963</td>\n",
       "      <td>4.981396</td>\n",
       "      <td>4.561937</td>\n",
       "      <td>3.179511</td>\n",
       "      <td>2.523562</td>\n",
       "      <td>0.704872</td>\n",
       "      <td>0.847997</td>\n",
       "      <td>6.801288</td>\n",
       "    </tr>\n",
       "    <tr>\n",
       "      <th>ACH-001306</th>\n",
       "      <td>6.143434</td>\n",
       "      <td>0.084064</td>\n",
       "      <td>0.014355</td>\n",
       "      <td>4.718636</td>\n",
       "      <td>2.361768</td>\n",
       "      <td>3.390943</td>\n",
       "      <td>0.485427</td>\n",
       "      <td>1.550901</td>\n",
       "      <td>2.847997</td>\n",
       "      <td>4.694880</td>\n",
       "      <td>...</td>\n",
       "      <td>2.643856</td>\n",
       "      <td>0.000000</td>\n",
       "      <td>3.314697</td>\n",
       "      <td>3.173127</td>\n",
       "      <td>4.808385</td>\n",
       "      <td>1.555816</td>\n",
       "      <td>3.014355</td>\n",
       "      <td>0.807355</td>\n",
       "      <td>5.244507</td>\n",
       "      <td>6.021035</td>\n",
       "    </tr>\n",
       "    <tr>\n",
       "      <th>ACH-001307</th>\n",
       "      <td>3.260026</td>\n",
       "      <td>0.475085</td>\n",
       "      <td>0.014355</td>\n",
       "      <td>2.615887</td>\n",
       "      <td>1.859970</td>\n",
       "      <td>2.792855</td>\n",
       "      <td>0.526069</td>\n",
       "      <td>0.097611</td>\n",
       "      <td>2.214125</td>\n",
       "      <td>4.274262</td>\n",
       "      <td>...</td>\n",
       "      <td>3.025029</td>\n",
       "      <td>0.056584</td>\n",
       "      <td>2.803227</td>\n",
       "      <td>2.298658</td>\n",
       "      <td>4.381975</td>\n",
       "      <td>2.718088</td>\n",
       "      <td>1.863938</td>\n",
       "      <td>1.432959</td>\n",
       "      <td>3.771886</td>\n",
       "      <td>7.005961</td>\n",
       "    </tr>\n",
       "    <tr>\n",
       "      <th>ACH-001318</th>\n",
       "      <td>5.325890</td>\n",
       "      <td>9.078444</td>\n",
       "      <td>0.000000</td>\n",
       "      <td>2.381283</td>\n",
       "      <td>2.477677</td>\n",
       "      <td>2.695994</td>\n",
       "      <td>0.176323</td>\n",
       "      <td>1.555816</td>\n",
       "      <td>1.427606</td>\n",
       "      <td>4.118526</td>\n",
       "      <td>...</td>\n",
       "      <td>4.695437</td>\n",
       "      <td>0.028569</td>\n",
       "      <td>3.488001</td>\n",
       "      <td>0.411426</td>\n",
       "      <td>4.040016</td>\n",
       "      <td>2.629939</td>\n",
       "      <td>0.545968</td>\n",
       "      <td>3.107688</td>\n",
       "      <td>2.584963</td>\n",
       "      <td>6.258330</td>\n",
       "    </tr>\n",
       "    <tr>\n",
       "      <th>ACH-001321</th>\n",
       "      <td>4.635754</td>\n",
       "      <td>8.191158</td>\n",
       "      <td>0.000000</td>\n",
       "      <td>0.263034</td>\n",
       "      <td>3.806324</td>\n",
       "      <td>3.565597</td>\n",
       "      <td>3.831877</td>\n",
       "      <td>6.741871</td>\n",
       "      <td>0.545968</td>\n",
       "      <td>5.876026</td>\n",
       "      <td>...</td>\n",
       "      <td>4.541639</td>\n",
       "      <td>0.150560</td>\n",
       "      <td>3.339137</td>\n",
       "      <td>4.414136</td>\n",
       "      <td>3.381283</td>\n",
       "      <td>4.343408</td>\n",
       "      <td>2.269033</td>\n",
       "      <td>1.709291</td>\n",
       "      <td>4.493775</td>\n",
       "      <td>6.355263</td>\n",
       "    </tr>\n",
       "  </tbody>\n",
       "</table>\n",
       "<p>476 rows × 4692 columns</p>\n",
       "</div>"
      ],
      "text/plain": [
       "                A1BG       A2M     A2ML1    A4GALT     AADAT      AASS  \\\n",
       "ACH-000007  0.137504  0.201634  0.000000  0.014355  2.629939  0.028569   \n",
       "ACH-000008  5.167920  4.432959  0.042644  3.547203  3.785551  3.019702   \n",
       "ACH-000011  1.035624  0.042644  0.014355  3.532317  0.014355  1.526069   \n",
       "ACH-000012  2.341986  0.070389  0.014355  2.226509  1.405992  0.863938   \n",
       "ACH-000013  2.664483  0.084064  0.150560  1.298658  2.965323  0.604071   \n",
       "...              ...       ...       ...       ...       ...       ...   \n",
       "ACH-001239  5.398829  3.883621  0.000000  0.176323  3.063503  4.324811   \n",
       "ACH-001306  6.143434  0.084064  0.014355  4.718636  2.361768  3.390943   \n",
       "ACH-001307  3.260026  0.475085  0.014355  2.615887  1.859970  2.792855   \n",
       "ACH-001318  5.325890  9.078444  0.000000  2.381283  2.477677  2.695994   \n",
       "ACH-001321  4.635754  8.191158  0.000000  0.263034  3.806324  3.565597   \n",
       "\n",
       "                AATK      ABAT     ABCA1     ABCA2  ...    ZNF738    ZNF750  \\\n",
       "ACH-000007  2.912650  0.695994  0.097611  5.309976  ...  0.084064  0.124328   \n",
       "ACH-000008  0.956057  2.066950  2.941106  4.074677  ...  1.490570  0.028569   \n",
       "ACH-000011  0.084064  1.622930  2.111031  5.037821  ...  1.378512  0.070389   \n",
       "ACH-000012  0.807355  0.748461  3.333424  4.219556  ...  3.283922  0.124328   \n",
       "ACH-000013  1.981853  2.432959  1.070389  4.488001  ...  4.083213  2.811471   \n",
       "...              ...       ...       ...       ...  ...       ...       ...   \n",
       "ACH-001239  2.634593  1.077243  2.570463  4.138323  ...  3.207893  0.650765   \n",
       "ACH-001306  0.485427  1.550901  2.847997  4.694880  ...  2.643856  0.000000   \n",
       "ACH-001307  0.526069  0.097611  2.214125  4.274262  ...  3.025029  0.056584   \n",
       "ACH-001318  0.176323  1.555816  1.427606  4.118526  ...  4.695437  0.028569   \n",
       "ACH-001321  3.831877  6.741871  0.545968  5.876026  ...  4.541639  0.150560   \n",
       "\n",
       "              ZNF761    ZNF827     ZNF83     ZNF91     ZNF93       ZP3  \\\n",
       "ACH-000007  1.863938  1.077243  0.263034  3.716991  0.263034  3.053111   \n",
       "ACH-000008  2.961623  3.234195  0.956057  0.226509  0.238787  1.835924   \n",
       "ACH-000011  2.967169  2.636915  4.670727  3.084064  0.286881  4.553361   \n",
       "ACH-000012  3.575312  2.908813  4.503349  3.116032  2.695994  4.502076   \n",
       "ACH-000013  2.493135  3.023255  3.161888  1.510962  0.782409  2.925999   \n",
       "...              ...       ...       ...       ...       ...       ...   \n",
       "ACH-001239  3.860963  4.981396  4.561937  3.179511  2.523562  0.704872   \n",
       "ACH-001306  3.314697  3.173127  4.808385  1.555816  3.014355  0.807355   \n",
       "ACH-001307  2.803227  2.298658  4.381975  2.718088  1.863938  1.432959   \n",
       "ACH-001318  3.488001  0.411426  4.040016  2.629939  0.545968  3.107688   \n",
       "ACH-001321  3.339137  4.414136  3.381283  4.343408  2.269033  1.709291   \n",
       "\n",
       "             ZSCAN18     ZWINT  \n",
       "ACH-000007  0.028569  6.126188  \n",
       "ACH-000008  0.084064  6.161081  \n",
       "ACH-000011  3.736605  5.573496  \n",
       "ACH-000012  5.301588  6.207307  \n",
       "ACH-000013  3.999098  7.888926  \n",
       "...              ...       ...  \n",
       "ACH-001239  0.847997  6.801288  \n",
       "ACH-001306  5.244507  6.021035  \n",
       "ACH-001307  3.771886  7.005961  \n",
       "ACH-001318  2.584963  6.258330  \n",
       "ACH-001321  4.493775  6.355263  \n",
       "\n",
       "[476 rows x 4692 columns]"
      ]
     },
     "execution_count": 24,
     "metadata": {},
     "output_type": "execute_result"
    }
   ],
   "source": [
    "matched_samples_genes_CCLE_exp_df = matched_samples_CCLE_exp_df.T[matched_genes]\n",
    "matched_samples_genes_CCLE_exp_df"
   ]
  },
  {
   "cell_type": "code",
   "execution_count": 31,
<<<<<<< HEAD
   "id": "77779a4f-0771-4173-aa87-4d3838044dee",
=======
   "id": "aa8010a2",
>>>>>>> 0c2afb8 (move all file to hub from BMIserver excluding results/)
   "metadata": {},
   "outputs": [],
   "source": [
    "# write ccle dataframe to txt file\n",
    "file_path = \"/root/data/CCLE/CCLE_exp_476samples_4692genes.txt\"\n",
    "# Save the DataFrame to a text file\n",
    "matched_samples_genes_CCLE_exp_df.to_csv(file_path, sep='\\t', index_label='ccl_name') # header=True:column name\n",
    "\n",
    "file_path = \"/root/data/Winnie_data/TCGA_exp_matchCCLEgenes_8238samples_4692genes.txt\"\n",
    "matched_genes_TCGA_exp_df.to_csv(file_path, sep='\\t', index_label='sample_name') # header=True:column name\n",
    "\n"
   ]
  },
  {
   "cell_type": "code",
   "execution_count": 3,
<<<<<<< HEAD
   "id": "7def59c6",
=======
   "id": "d6488669",
>>>>>>> 0c2afb8 (move all file to hub from BMIserver excluding results/)
   "metadata": {},
   "outputs": [],
   "source": [
    "import pandas as pd"
   ]
  },
  {
   "cell_type": "code",
   "execution_count": 57,
<<<<<<< HEAD
   "id": "4ed2c3e4-c827-48d4-b9c7-21eaefada776",
=======
   "id": "7cb469b4",
>>>>>>> 0c2afb8 (move all file to hub from BMIserver excluding results/)
   "metadata": {},
   "outputs": [],
   "source": [
    "TCGA_exp_df =pd.read_csv('/root/data/TCGA/TCGA_exp_matchCCLEgenes_8238samples_4692genes.txt',sep='\\t', index_col=0)\n",
    "TCGA_mut_df =pd.read_csv('/root/data/TCGA/TCGA_match_CCLEgene_binary_mutation_8667_6009.txt',sep='\\t', index_col=0)"
   ]
  },
  {
   "cell_type": "markdown",
<<<<<<< HEAD
   "id": "f9dab409",
=======
   "id": "387080b7",
>>>>>>> 0c2afb8 (move all file to hub from BMIserver excluding results/)
   "metadata": {},
   "source": [
    "TCGA-02-0047-01\n",
    "TCGA-02-0003-01A-01D-1490-08\t"
   ]
  },
  {
   "cell_type": "code",
   "execution_count": 58,
<<<<<<< HEAD
   "id": "69cf8572",
=======
   "id": "1cdec420",
>>>>>>> 0c2afb8 (move all file to hub from BMIserver excluding results/)
   "metadata": {},
   "outputs": [
    {
     "data": {
      "text/plain": [
       "Index(['TCGA-02-0003-01A-01D-1490-08', 'TCGA-02-0033-01A-01D-1490-08',\n",
       "       'TCGA-02-0047-01A-01D-1490-08', 'TCGA-02-0055-01A-01D-1490-08',\n",
       "       'TCGA-02-2466-01A-01W-0837-08', 'TCGA-02-2470-01A-01D-1494-08',\n",
       "       'TCGA-02-2470-01A-01W-0837-08', 'TCGA-02-2483-01A-01D-1494-08',\n",
       "       'TCGA-02-2485-01A-01D-1494-08', 'TCGA-02-2485-01A-01W-0837-08',\n",
       "       ...\n",
       "       'TCGA-ZP-A9D2-01A-11D-A382-10', 'TCGA-ZP-A9D4-01A-11D-A36X-10',\n",
       "       'TCGA-ZQ-A9CR-01A-11D-A397-08', 'TCGA-ZR-A9CJ-01B-11D-A387-09',\n",
       "       'TCGA-ZS-A9CD-01A-11D-A36X-10', 'TCGA-ZS-A9CE-01A-11D-A36X-10',\n",
       "       'TCGA-ZS-A9CF-01A-11D-A382-10', 'TCGA-ZS-A9CF-02A-11D-A382-10',\n",
       "       'TCGA-ZS-A9CG-01A-11D-A36X-10', 'TCGA-ZU-A8S4-01A-11D-A417-09'],\n",
       "      dtype='object', name='sample_name', length=8667)"
      ]
     },
     "execution_count": 58,
     "metadata": {},
     "output_type": "execute_result"
    }
   ],
   "source": [
    "\n",
    "# Apply slicing to get the first 15 characters of each item\n",
    "\n",
    "\n",
    "TCGA_mut_df.index.unique()"
   ]
  },
  {
   "cell_type": "code",
   "execution_count": 59,
<<<<<<< HEAD
   "id": "4cc40a2d",
=======
   "id": "1f4d2a3f",
>>>>>>> 0c2afb8 (move all file to hub from BMIserver excluding results/)
   "metadata": {},
   "outputs": [
    {
     "name": "stdout",
     "output_type": "stream",
     "text": [
      "6477\n"
     ]
    },
    {
     "ename": "KeyError",
     "evalue": "\"None of [Index(['TCGA-02-0047-01', 'TCGA-02-0055-01', 'TCGA-02-2483-01',\\n       'TCGA-02-2485-01', 'TCGA-05-4244-01', 'TCGA-05-4250-01',\\n       'TCGA-05-4382-01', 'TCGA-05-4384-01', 'TCGA-05-4389-01',\\n       'TCGA-05-4390-01',\\n       ...\\n       'TCGA-ZP-A9D1-01', 'TCGA-ZP-A9D2-01', 'TCGA-ZP-A9D4-01',\\n       'TCGA-ZQ-A9CR-01', 'TCGA-ZR-A9CJ-01', 'TCGA-ZS-A9CD-01',\\n       'TCGA-ZS-A9CE-01', 'TCGA-ZS-A9CF-01', 'TCGA-ZS-A9CG-01',\\n       'TCGA-ZU-A8S4-01'],\\n      dtype='object', name='sample_name', length=6477)] are in the [columns]\"",
     "output_type": "error",
     "traceback": [
      "\u001b[0;31m---------------------------------------------------------------------------\u001b[0m",
      "\u001b[0;31mKeyError\u001b[0m                                  Traceback (most recent call last)",
      "Cell \u001b[0;32mIn[59], line 6\u001b[0m\n\u001b[1;32m      3\u001b[0m \u001b[38;5;28mprint\u001b[39m(\u001b[38;5;28mlen\u001b[39m(matched_samples))\n\u001b[1;32m      5\u001b[0m matched_samples_TCGA_exp_df \u001b[38;5;241m=\u001b[39m TCGA_exp_df\u001b[38;5;241m.\u001b[39mT[matched_samples]\n\u001b[0;32m----> 6\u001b[0m matched_samples_TCGA_mut_df \u001b[38;5;241m=\u001b[39m \u001b[43mTCGA_mut_df\u001b[49m\u001b[38;5;241;43m.\u001b[39;49m\u001b[43mT\u001b[49m\u001b[43m[\u001b[49m\u001b[43mmatched_samples\u001b[49m\u001b[43m]\u001b[49m\n",
      "File \u001b[0;32m/usr/local/lib/python3.10/dist-packages/pandas/core/frame.py:3811\u001b[0m, in \u001b[0;36mDataFrame.__getitem__\u001b[0;34m(self, key)\u001b[0m\n\u001b[1;32m   3809\u001b[0m     \u001b[38;5;28;01mif\u001b[39;00m is_iterator(key):\n\u001b[1;32m   3810\u001b[0m         key \u001b[38;5;241m=\u001b[39m \u001b[38;5;28mlist\u001b[39m(key)\n\u001b[0;32m-> 3811\u001b[0m     indexer \u001b[38;5;241m=\u001b[39m \u001b[38;5;28;43mself\u001b[39;49m\u001b[38;5;241;43m.\u001b[39;49m\u001b[43mcolumns\u001b[49m\u001b[38;5;241;43m.\u001b[39;49m\u001b[43m_get_indexer_strict\u001b[49m\u001b[43m(\u001b[49m\u001b[43mkey\u001b[49m\u001b[43m,\u001b[49m\u001b[43m \u001b[49m\u001b[38;5;124;43m\"\u001b[39;49m\u001b[38;5;124;43mcolumns\u001b[39;49m\u001b[38;5;124;43m\"\u001b[39;49m\u001b[43m)\u001b[49m[\u001b[38;5;241m1\u001b[39m]\n\u001b[1;32m   3813\u001b[0m \u001b[38;5;66;03m# take() does not accept boolean indexers\u001b[39;00m\n\u001b[1;32m   3814\u001b[0m \u001b[38;5;28;01mif\u001b[39;00m \u001b[38;5;28mgetattr\u001b[39m(indexer, \u001b[38;5;124m\"\u001b[39m\u001b[38;5;124mdtype\u001b[39m\u001b[38;5;124m\"\u001b[39m, \u001b[38;5;28;01mNone\u001b[39;00m) \u001b[38;5;241m==\u001b[39m \u001b[38;5;28mbool\u001b[39m:\n",
      "File \u001b[0;32m/usr/local/lib/python3.10/dist-packages/pandas/core/indexes/base.py:6113\u001b[0m, in \u001b[0;36mIndex._get_indexer_strict\u001b[0;34m(self, key, axis_name)\u001b[0m\n\u001b[1;32m   6110\u001b[0m \u001b[38;5;28;01melse\u001b[39;00m:\n\u001b[1;32m   6111\u001b[0m     keyarr, indexer, new_indexer \u001b[38;5;241m=\u001b[39m \u001b[38;5;28mself\u001b[39m\u001b[38;5;241m.\u001b[39m_reindex_non_unique(keyarr)\n\u001b[0;32m-> 6113\u001b[0m \u001b[38;5;28;43mself\u001b[39;49m\u001b[38;5;241;43m.\u001b[39;49m\u001b[43m_raise_if_missing\u001b[49m\u001b[43m(\u001b[49m\u001b[43mkeyarr\u001b[49m\u001b[43m,\u001b[49m\u001b[43m \u001b[49m\u001b[43mindexer\u001b[49m\u001b[43m,\u001b[49m\u001b[43m \u001b[49m\u001b[43maxis_name\u001b[49m\u001b[43m)\u001b[49m\n\u001b[1;32m   6115\u001b[0m keyarr \u001b[38;5;241m=\u001b[39m \u001b[38;5;28mself\u001b[39m\u001b[38;5;241m.\u001b[39mtake(indexer)\n\u001b[1;32m   6116\u001b[0m \u001b[38;5;28;01mif\u001b[39;00m \u001b[38;5;28misinstance\u001b[39m(key, Index):\n\u001b[1;32m   6117\u001b[0m     \u001b[38;5;66;03m# GH 42790 - Preserve name from an Index\u001b[39;00m\n",
      "File \u001b[0;32m/usr/local/lib/python3.10/dist-packages/pandas/core/indexes/base.py:6173\u001b[0m, in \u001b[0;36mIndex._raise_if_missing\u001b[0;34m(self, key, indexer, axis_name)\u001b[0m\n\u001b[1;32m   6171\u001b[0m     \u001b[38;5;28;01mif\u001b[39;00m use_interval_msg:\n\u001b[1;32m   6172\u001b[0m         key \u001b[38;5;241m=\u001b[39m \u001b[38;5;28mlist\u001b[39m(key)\n\u001b[0;32m-> 6173\u001b[0m     \u001b[38;5;28;01mraise\u001b[39;00m \u001b[38;5;167;01mKeyError\u001b[39;00m(\u001b[38;5;124mf\u001b[39m\u001b[38;5;124m\"\u001b[39m\u001b[38;5;124mNone of [\u001b[39m\u001b[38;5;132;01m{\u001b[39;00mkey\u001b[38;5;132;01m}\u001b[39;00m\u001b[38;5;124m] are in the [\u001b[39m\u001b[38;5;132;01m{\u001b[39;00maxis_name\u001b[38;5;132;01m}\u001b[39;00m\u001b[38;5;124m]\u001b[39m\u001b[38;5;124m\"\u001b[39m)\n\u001b[1;32m   6175\u001b[0m not_found \u001b[38;5;241m=\u001b[39m \u001b[38;5;28mlist\u001b[39m(ensure_index(key)[missing_mask\u001b[38;5;241m.\u001b[39mnonzero()[\u001b[38;5;241m0\u001b[39m]]\u001b[38;5;241m.\u001b[39munique())\n\u001b[1;32m   6176\u001b[0m \u001b[38;5;28;01mraise\u001b[39;00m \u001b[38;5;167;01mKeyError\u001b[39;00m(\u001b[38;5;124mf\u001b[39m\u001b[38;5;124m\"\u001b[39m\u001b[38;5;132;01m{\u001b[39;00mnot_found\u001b[38;5;132;01m}\u001b[39;00m\u001b[38;5;124m not in index\u001b[39m\u001b[38;5;124m\"\u001b[39m)\n",
      "\u001b[0;31mKeyError\u001b[0m: \"None of [Index(['TCGA-02-0047-01', 'TCGA-02-0055-01', 'TCGA-02-2483-01',\\n       'TCGA-02-2485-01', 'TCGA-05-4244-01', 'TCGA-05-4250-01',\\n       'TCGA-05-4382-01', 'TCGA-05-4384-01', 'TCGA-05-4389-01',\\n       'TCGA-05-4390-01',\\n       ...\\n       'TCGA-ZP-A9D1-01', 'TCGA-ZP-A9D2-01', 'TCGA-ZP-A9D4-01',\\n       'TCGA-ZQ-A9CR-01', 'TCGA-ZR-A9CJ-01', 'TCGA-ZS-A9CD-01',\\n       'TCGA-ZS-A9CE-01', 'TCGA-ZS-A9CF-01', 'TCGA-ZS-A9CG-01',\\n       'TCGA-ZU-A8S4-01'],\\n      dtype='object', name='sample_name', length=6477)] are in the [columns]\""
     ]
    }
   ],
   "source": [
    "import numpy as np\n",
    "matched_samples = sorted(set(TCGA_exp_df.T.columns) & set(TCGA_mut_df.T.columns.str[:15]))# Apply slicing to get the first 15 characters of each item\n",
    "print(len(matched_samples))\n",
    "\n",
    "matched_samples_TCGA_exp_df = TCGA_exp_df.T[matched_samples]\n",
    "matched_samples_TCGA_mut_df = TCGA_mut_df.T[matched_samples]"
   ]
  },
  {
   "cell_type": "code",
   "execution_count": null,
<<<<<<< HEAD
   "id": "59ea6757",
=======
   "id": "e105de15",
>>>>>>> 0c2afb8 (move all file to hub from BMIserver excluding results/)
   "metadata": {},
   "outputs": [],
   "source": [
    "# write ccle dataframe to txt file\n",
    "file_path = \"/root/data/TCGA/CCLE_exp_476samples_4692genes.txt\"\n",
    "# Save the DataFrame to a text file\n",
    "matched_samples_TCGA_exp_df.to_csv(file_path, sep='\\t', index_label='sample_id') # header=True:column name\n",
    "\n",
    "file_path = \"/root/data/Winnie_data/TCGA_exp_matchCCLEgenes_8238samples_4692genes.txt\"\n",
    "matched_samples_TCGA_mut_df.to_csv(file_path, sep='\\t', index_label='sample_id') # header=True:column name"
   ]
  }
 ],
 "metadata": {
  "kernelspec": {
<<<<<<< HEAD
   "display_name": "Python 3",
=======
   "display_name": "Python 3 (ipykernel)",
>>>>>>> 0c2afb8 (move all file to hub from BMIserver excluding results/)
   "language": "python",
   "name": "python3"
  },
  "language_info": {
   "codemirror_mode": {
    "name": "ipython",
    "version": 3
   },
   "file_extension": ".py",
   "mimetype": "text/x-python",
   "name": "python",
   "nbconvert_exporter": "python",
   "pygments_lexer": "ipython3",
   "version": "3.10.12"
  }
 },
 "nbformat": 4,
 "nbformat_minor": 5
}
