{
 "cells": [
  {
   "cell_type": "code",
   "execution_count": 1,
   "id": "d64967f2-b953-4392-a4f3-2b4740d27646",
   "metadata": {},
   "outputs": [
    {
     "name": "stdout",
     "output_type": "stream",
     "text": [
      "Looking in indexes: https://pypi.org/simple, https://pypi.ngc.nvidia.com\n",
      "Collecting pubchempy\n",
      "  Downloading PubChemPy-1.0.4.tar.gz (29 kB)\n",
      "  Preparing metadata (setup.py) ... \u001b[?25ldone\n",
      "\u001b[?25hBuilding wheels for collected packages: pubchempy\n",
      "  Building wheel for pubchempy (setup.py) ... \u001b[?25ldone\n",
      "\u001b[?25h  Created wheel for pubchempy: filename=PubChemPy-1.0.4-py3-none-any.whl size=13836 sha256=355ace5509a835552b59d1c80576cbd45f1a5e8f0d5d9b6a80178e91c48bf7cc\n",
      "  Stored in directory: /tmp/pip-ephem-wheel-cache-dxdd0t9c/wheels/90/7c/45/18a0671e3c3316966ef7ed9ad2b3f3300a7e41d3421a44e799\n",
      "Successfully built pubchempy\n",
      "Installing collected packages: pubchempy\n",
      "Successfully installed pubchempy-1.0.4\n",
      "\u001b[33mWARNING: Running pip as the 'root' user can result in broken permissions and conflicting behaviour with the system package manager. It is recommended to use a virtual environment instead: https://pip.pypa.io/warnings/venv\u001b[0m\u001b[33m\n",
      "\u001b[0m\n",
      "\u001b[1m[\u001b[0m\u001b[34;49mnotice\u001b[0m\u001b[1;39;49m]\u001b[0m\u001b[39;49m A new release of pip is available: \u001b[0m\u001b[31;49m23.2.1\u001b[0m\u001b[39;49m -> \u001b[0m\u001b[32;49m24.2\u001b[0m\n",
      "\u001b[1m[\u001b[0m\u001b[34;49mnotice\u001b[0m\u001b[1;39;49m]\u001b[0m\u001b[39;49m To update, run: \u001b[0m\u001b[32;49mpython -m pip install --upgrade pip\u001b[0m\n"
     ]
    }
   ],
   "source": [
    "!pip install pubchempy"
   ]
  },
  {
   "cell_type": "code",
   "execution_count": 2,
   "id": "092c8f0f",
   "metadata": {},
   "outputs": [
    {
     "name": "stdout",
     "output_type": "stream",
     "text": [
      "Looking in indexes: https://pypi.org/simple, https://pypi.ngc.nvidia.com\n",
      "Requirement already satisfied: pip in /usr/local/lib/python3.10/dist-packages (23.2.1)\n",
      "Collecting pip\n",
      "  Obtaining dependency information for pip from https://files.pythonhosted.org/packages/d4/55/90db48d85f7689ec6f81c0db0622d704306c5284850383c090e6c7195a5c/pip-24.2-py3-none-any.whl.metadata\n",
      "  Downloading pip-24.2-py3-none-any.whl.metadata (3.6 kB)\n",
      "Downloading pip-24.2-py3-none-any.whl (1.8 MB)\n",
      "\u001b[2K   \u001b[90m━━━━━━━━━━━━━━━━━━━━━━━━━━━━━━━━━━━━━━━━\u001b[0m \u001b[32m1.8/1.8 MB\u001b[0m \u001b[31m7.9 MB/s\u001b[0m eta \u001b[36m0:00:00\u001b[0ma \u001b[36m0:00:01\u001b[0m\n",
      "\u001b[?25hInstalling collected packages: pip\n",
      "  Attempting uninstall: pip\n",
      "    Found existing installation: pip 23.2.1\n",
      "    Uninstalling pip-23.2.1:\n",
      "      Successfully uninstalled pip-23.2.1\n",
      "Successfully installed pip-24.2\n",
      "\u001b[33mWARNING: Running pip as the 'root' user can result in broken permissions and conflicting behaviour with the system package manager. It is recommended to use a virtual environment instead: https://pip.pypa.io/warnings/venv\u001b[0m\u001b[33m\n",
      "\u001b[0m"
     ]
    }
   ],
   "source": [
    "!python -m pip install --upgrade pip"
   ]
  },
  {
   "cell_type": "code",
   "execution_count": 3,
   "id": "22597eec-ddc6-4477-b7f1-0ebfed7f9bba",
   "metadata": {},
   "outputs": [],
   "source": [
    "import pubchempy as pcp"
   ]
  },
  {
   "cell_type": "code",
   "execution_count": 25,
   "id": "ca21e527-7073-4725-8ba4-01db4ce1d590",
   "metadata": {},
   "outputs": [
    {
     "data": {
      "text/plain": [
       "[Compound(60838)]"
      ]
     },
     "execution_count": 25,
     "metadata": {},
     "output_type": "execute_result"
    }
   ],
   "source": [
    "from pubchempy import Compound, get_compounds\n",
    "\n",
    "cs = get_compounds('Irinotecan', 'name')\n",
    "cs"
   ]
  },
  {
   "cell_type": "code",
   "execution_count": 26,
   "id": "c7bcf6de-712d-45db-ac63-b4c5541bae3b",
   "metadata": {},
   "outputs": [
    {
     "data": {
      "text/plain": [
       "Compound(60838)"
      ]
     },
     "execution_count": 26,
     "metadata": {},
     "output_type": "execute_result"
    }
   ],
   "source": [
    "c = Compound.from_cid(60838)\n",
    "c"
   ]
  },
  {
   "cell_type": "code",
   "execution_count": 27,
   "id": "16049f53-7410-4c64-a83d-990c1817a9d7",
   "metadata": {},
   "outputs": [
    {
     "data": {
      "text/plain": [
       "'CCC1=C2CN3C(=CC4=C(C3=O)COC(=O)[C@@]4(CC)O)C2=NC5=C1C=C(C=C5)OC(=O)N6CCC(CC6)N7CCCCC7'"
      ]
     },
     "execution_count": 27,
     "metadata": {},
     "output_type": "execute_result"
    }
   ],
   "source": [
    "c.isomeric_smiles"
   ]
  },
  {
   "cell_type": "code",
   "execution_count": 28,
   "id": "078387ae-b103-4d0a-adb0-ee949b2ac419",
   "metadata": {},
   "outputs": [
    {
     "data": {
      "text/plain": [
       "'CCC1=C2CN3C(=CC4=C(C3=O)COC(=O)C4(CC)O)C2=NC5=C1C=C(C=C5)OC(=O)N6CCC(CC6)N7CCCCC7'"
      ]
     },
     "execution_count": 28,
     "metadata": {},
     "output_type": "execute_result"
    }
   ],
   "source": [
    "c.canonical_smiles"
   ]
  },
  {
   "cell_type": "code",
   "execution_count": 29,
   "id": "e1507096-0dd0-4e3d-9c40-cbf351f34224",
   "metadata": {
    "scrolled": true
   },
   "outputs": [
    {
     "data": {
      "text/plain": [
       "['irinotecan',\n",
       " '97682-44-5',\n",
       " '(+)-Irinotecan',\n",
       " 'Camptosar',\n",
       " 'Irinophore C',\n",
       " 'Irinotecanum',\n",
       " 'Biotecan',\n",
       " 'Irinotecan lactone',\n",
       " 'Irinotecan mylan',\n",
       " 'Irinotecanum [INN-Latin]',\n",
       " 'Campto',\n",
       " 'Irinotecan Hcl',\n",
       " 'Irinotecan Free base',\n",
       " 'CPT-11',\n",
       " 'HSDB 7607',\n",
       " \"(S)-4,11-diethyl-4-hydroxy-3,14-dioxo-3,4,12,14-tetrahydro-1H-pyrano[3',4':6,7]indolizino[1,2-b]quinolin-9-yl [1,4'-bipiperidine]-1'-carboxylate\",\n",
       " 'Irinotecan (INN)',\n",
       " 'NSC-728073',\n",
       " 'CHEBI:80630',\n",
       " 'CHEMBL481',\n",
       " 'UNII-7673326042',\n",
       " 'DTXSID1041051',\n",
       " '97682-44-5 (Free base)',\n",
       " 'NSC728073',\n",
       " 'NSC 728073',\n",
       " \"(4S)-4,11-DIETHYL-4-HYDROXY-3,14-DIOXO-3,4,12,14-TETRAHYDRO-1H-PYRANO[3',4':6,7]INDOLIZINO[1,2-B]QUINOLIN-9-YL 1,4'-BIPIPERIDINE-1'-CARBOXYLATE\",\n",
       " \"1,4'-Bipiperidine-1'-carboxylic acid (S)-4,11-diethyl-3,4,12,14- tetrahydro-4-hydroxy-3,14-dioxo-1H-pyrano[3',4':6,7]indolizino[1,2-b]quinolin-9-yl ester\",\n",
       " 'IRINOTECAN [INN]',\n",
       " 'Irinotecanum (INN-Latin)',\n",
       " 'Irinotecan [INN:BAN]',\n",
       " \"(1,4'-Bipiperidine)-1'-carboxylic acid, 4,11-diethyl-3,4,12-14-tetrahydro-4-hydroxy-3,14-dioxo-1H-pyrano(3',4':6,7)indolizino(1,2-b)quinolin-9-yl ester, (S)-\",\n",
       " 'CPT-11 hydrochloride;Camptothecin 11 hydrochloride',\n",
       " 'Irrinotecan',\n",
       " 'Biotecan (TN)',\n",
       " \"(1,4'-Bipiperidine)-1'-carboxylic acid, (4S)-4,11-diethyl-3,4,12,14-tetrahydro-4-hydroxy-3,14-dioxo-1H-pyrano(3',4':6,7)indolizino(1,2-b)quinolin-9-yl ester\",\n",
       " \"[1,4'-Bipiperidine]-1'-carboxylic acid, (4S)-4,11-diethyl-3,4,12,14-tetrahydro-4-hydroxy-3,14-dioxo-1H-pyrano[3',4':6,7]indolizino[1,2-b]quinolin-9-yl ester\",\n",
       " \"1,4'-bipiperidine-1'-carboxylic acid (s)-4,11-diethyl-3,4,12,14- tetrahydro-4-hydroxy-3,14-dioxo-1h-pyrano(3',4':6,7)indolizino(1,2-b)quinolin-9-yl ester\",\n",
       " 'Irinotecan?',\n",
       " 'MFCD00866307',\n",
       " \"(4S)-4,11-diethyl-4-hydroxy-3,14-dioxo-3,4,12,14-tetrahydro-1H-pyrano(3',4':6,7)indolizino(1,2-b)quinolin-9-yl (1,4'-bipiperidine)-1'-carboxylate\",\n",
       " \"(4S)-4,11-diethyl-4-hydroxy-3,14-dioxo-3,4,12,14-tetrahydro-1H-pyrano[3',4':6,7]indolizino[1,2-b]quinolin-9-yl [1,4'-bipiperidine]-1'-carboxylate\",\n",
       " 'IRINOTECAN [MI]',\n",
       " 'IRINOTECAN [HSDB]',\n",
       " 'IRINOTECAN [VANDF]',\n",
       " 'SCHEMBL4034',\n",
       " 'IRINOTECAN [WHO-DD]',\n",
       " 'IRINOTECAN; CPT-11',\n",
       " 'BSPBio_002346',\n",
       " 'GTPL6823',\n",
       " 'DTXCID9021051',\n",
       " 'AMY4227',\n",
       " 'L01XX19',\n",
       " '1u65',\n",
       " 'BCP02860',\n",
       " 'BDBM50128267',\n",
       " 's1198',\n",
       " 'AKOS015894969',\n",
       " 'AB07527',\n",
       " 'AC-7469',\n",
       " 'BCP9000793',\n",
       " 'CS-1138',\n",
       " 'DB00762',\n",
       " 'NCGC00178697-02',\n",
       " 'NCGC00178697-05',\n",
       " '(4S)-4,11-Diethyl-4-hydroxy-3,14-dioxo-4,12-dihydro-1H-pyrano[3,4-f]quinolino[2,3-a]indolizin-9-yl 4-piperidylpiperidinecarboxylate',\n",
       " 'AS-14323',\n",
       " 'HY-16562',\n",
       " 'NCI60_005051',\n",
       " 'NS00004943',\n",
       " 'D08086',\n",
       " 'EN300-708800',\n",
       " 'AB00698464-07',\n",
       " 'AB00698464-09',\n",
       " 'AB00698464-10',\n",
       " 'AB00698464-11',\n",
       " 'AB00698464_12',\n",
       " 'AB00698464_13',\n",
       " 'AB00698464_14',\n",
       " 'A845740',\n",
       " 'Q412197',\n",
       " 'BRD-K08547377-001-04-4',\n",
       " 'BRD-K08547377-003-02-4',\n",
       " 'BRD-K08547377-003-04-0',\n",
       " 'BRD-K08547377-003-05-7',\n",
       " 'BRD-K08547377-003-07-3',\n",
       " 'BRD-K08547377-394-03-5',\n",
       " '(diethyl-hydroxy-dioxo-[?]yl) 4-(1-piperidyl)piperidine-1-carboxylate',\n",
       " \"(+)-7-ethyl-10-hydroxycamptothecine 10-(1,4'-bipiperidine)-1'-carboxylate\",\n",
       " '2-methoxy-5-[2-(3-sulfophenyl)-5-(4-sulfophenyl)pyrylium-4-yl]benzenesulfonic acid',\n",
       " \"(+)-(4S)-4,11-diethyl-4-hydroxy-9-((4-piperidino-piperidino)carbonyloxy)-1H-pyrano(3',4':6,7)indolizino(1,2-b)quinol-3,14,(4H,12H)-dione\",\n",
       " \"(1,4'-bipiperidine)-1'-carboxylic acid (S)-4,11-diethyl-3,4,12,14-tetrahydro-4-hydroxy-3,14-dioxo-1H-pyrano(3',4':6,7)indolizino(1,2-b)quinolin-9-yl ester\",\n",
       " '(19S)-10,19-Diethyl-19-hydroxy-14,18-dioxo-17-oxa-3,13-diazapentacyclo[11.8.0.0[2,11].0[4,9].0[15,20]]henicosa-1(21),2(11),3,5,7,9,15(20)-heptaen-7-yl 4-(piperidin-1-yl)piperidine-1-carboxylate',\n",
       " \"(19S)-10,19-diethyl-19-hydroxy-14,18-dioxo-17-oxa-3,13-diazapentacyclo[11.8.0.0^{2,11}.0^{4,9}.0^{15,20}]henicosa-1(21),2(11),3,5,7,9,15(20)-heptaen-7-yl [1,4'-bipiperidine]-1'-carboxylate\",\n",
       " '(19S)-10,19-diethyl-19-hydroxy-14,18-dioxo-17-oxa-3,13-diazapentacyclo[11.8.0.0^{2,11}.0^{4,9}.0^{15,20}]henicosa-1(21),2(11),3,5,7,9,15(20)-heptaen-7-yl 4-(piperidin-1-yl)piperidine-1-carboxylate',\n",
       " \"(4S)-4,11-DIETHYL-4-HYDROXY-3,14-DIOXO-3,4,12,14-TETRAHYDRO-1H-PYRANO[3'',4'':6,7]INDOLIZINO[1,2-B]QUINOLIN-9-YL 1,4''-BIPIPERIDINE-1''-CARBOXYLATE\",\n",
       " \"(S)-4,11-diethyl-4-hydroxy-3,14-dioxo-3,4,12,14-tetrahydro-1H-pyrano[3',4':6,7]indolizino[1,2-b]quinolin-9-yl[1,4'-bipiperidine]-1'-carboxylate\",\n",
       " '[(19S)-10,19-diethyl-19-hydroxy-14,18-dioxo-17-oxa-3,13-diazapentacyclo[11.8.0.02,11.04,9.015,20]henicosa-1(21),2,4(9),5,7,10,15(20)-heptaen-7-yl] 4-piperidin-1-ylpiperidine-1-carboxylate',\n",
       " \"[1,4'']bipiperidinyl-1''-carboxylic acid (S)-4,11-diethyl-4-hydroxy-3,13-dioxo-3,4,12,13-tetrahydro-1H-2-oxa-6,12a-diaza-dibenzo[b,h]fluoren-9-yl ester\",\n",
       " \"[1,4'']Bipiperidinyl-1''-carboxylic acid 4,11-diethyl-4-hydroxy-3,13-dioxo-3,4,12,13-tetrahydro-1H-2-oxa-6,12a-diaza-dibenzo[b,h]fluoren-9-yl ester\"]"
      ]
     },
     "execution_count": 29,
     "metadata": {},
     "output_type": "execute_result"
    }
   ],
   "source": [
    "c.synonyms"
   ]
  }
 ],
 "metadata": {
  "kernelspec": {
   "display_name": "Python 3",
   "language": "python",
   "name": "python3"
  },
  "language_info": {
   "codemirror_mode": {
    "name": "ipython",
    "version": 3
   },
   "file_extension": ".py",
   "mimetype": "text/x-python",
   "name": "python",
   "nbconvert_exporter": "python",
   "pygments_lexer": "ipython3",
   "version": "3.10.12"
  }
 },
 "nbformat": 4,
 "nbformat_minor": 5
}
