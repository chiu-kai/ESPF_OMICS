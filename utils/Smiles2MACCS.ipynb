{
 "cells": [
  {
   "cell_type": "code",
   "execution_count": 2,
   "metadata": {},
   "outputs": [],
   "source": [
    "\"\"\"\n",
    "將有單個或多個smiles的藥都是取第一個smile去轉MACCS\n",
    "\"\"\"\n",
    "import csv\n",
    "from rdkit import Chem\n",
    "from rdkit.Chem import MACCSkeys\n",
    "\n",
    "inputfilename ='../../data/DAPL/share/GDSC_drug_merge_pubchem_dropNA.csv'\n",
    "outputfilename = '../../data/DAPL/share/GDSC_drug_merge_pubchem_dropNA_MACCS.csv'\n",
    "\n",
    "with open(outputfilename, 'w', newline='') as outputfile: # Open a new CSV file in write mode\n",
    "    writer = csv.writer(outputfile) # Create a CSV writer object\n",
    "    \n",
    "    with open(inputfilename, 'r') as file:\n",
    "        reader = csv.reader(file)# Create a CSV reader object\n",
    "        header=['DRUG_NAME', 'PATHWAY_NAME', 'synonyms', 'pathway_name', 'target', 'pubchem', 'Dataset', 'name', 'SMILES','MACCS166bits']\n",
    "        writer.writerow(header)# Write the header row\n",
    "        for idx,row in enumerate(reader):\n",
    "            if idx>0:\n",
    "                smile = row[8]\n",
    "                if \",\" in smile:\n",
    "                    smile = row[8].split(',')[0]\n",
    "                fps = MACCSkeys.GenMACCSKeys(Chem.MolFromSmiles(smile))# get 166 ExplicitBitVect object\n",
    "                bitfeatures = [int(bit) for bit in fps][1:]\n",
    "                out = row + [', '.join(str(x) for x in bitfeatures)]\n",
    "                writer.writerow(out)# Write a row to the CSV file"
   ]
  }
 ],
 "metadata": {
  "kernelspec": {
   "display_name": "Python 3",
   "language": "python",
   "name": "python3"
  },
  "language_info": {
   "codemirror_mode": {
    "name": "ipython",
    "version": 3
   },
   "file_extension": ".py",
   "mimetype": "text/x-python",
   "name": "python",
   "nbconvert_exporter": "python",
   "pygments_lexer": "ipython3",
   "version": "3.10.12"
  }
 },
 "nbformat": 4,
 "nbformat_minor": 2
}
