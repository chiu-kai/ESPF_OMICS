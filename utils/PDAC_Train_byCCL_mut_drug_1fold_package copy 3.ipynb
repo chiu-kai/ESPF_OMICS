{
 "cells": [
  {
   "cell_type": "code",
   "execution_count": 1,
   "metadata": {},
   "outputs": [],
   "source": [
    "import torch.nn as nn\n",
    "from utils.run import run\n",
    "from utils.plot import loss_curve"
   ]
  },
  {
   "cell_type": "code",
   "execution_count": 2,
   "metadata": {},
   "outputs": [],
   "source": [
    "# information\n",
    "filename     = \"PDAC_Train_byCCL_mut_drug_1fold_package\""
   ]
  },
  {
   "cell_type": "code",
   "execution_count": 3,
   "metadata": {},
   "outputs": [],
   "source": [
    "#hyperparameter\n",
    "model_name = \"Mut_Drug_Model\"\n",
    "splitType= 'byCCL'\n",
    "valueMultiply=1\n",
    "\n",
    "mut_encode_dim =[33,22,14] \n",
    "drug_encode_dim =[116,81,56] #\n",
    "mut_encode_dim_save = f'(33_22_14)'\n",
    "drug_encode_dim_save= f'(116_81_56)'\n",
    "activation_func = nn.ReLU()  # ReLU activation function\n",
    "activation_func_final = nn.Sigmoid()# sigmoid()\n",
    "dense_layer_dim = 200 # MLPDim\n",
    "batch_size = 1000\n",
    "num_epoch = 200 # for k fold CV \n",
    "patience = 20\n",
    "warmup_iters = 150\n",
    "Decrease_percent = 0.99\n",
    "continuous = True\n",
    "learning_rate=1e-05\n",
    "criterion = nn.MSELoss()\n",
    "# loss need to be devided with valueMultiply^2 if lossfunction is MSE, if is L1 than devide with valueMultiply\n",
    "# NNoutput need to be multiplied  with valueMultiply if activatefunction is sigmoid(), if ReLU() don't multiply\n",
    "\n",
    "hyperparameter_print = f' model_name ={model_name}\\n splitType ={splitType}\\n valueMultiply ={valueMultiply}\\n mut_encode_dim ={mut_encode_dim}\\n drug_encode_dim ={drug_encode_dim}\\n activation_func = {activation_func}\\n activation_func_final = {activation_func_final}\\n dense_layer_dim = {dense_layer_dim}\\n batch_size = {batch_size}\\n num_epoch = {num_epoch}\\n patience = {patience}\\n warmup_iters = {warmup_iters}\\n Decrease_percent = {Decrease_percent}\\n continuous ={continuous}\\n learning_rate = {learning_rate}\\n criterion ={criterion}'\n",
    "hyperparametersave = f'data*{valueMultiply}_{splitType}_Mut{mut_encode_dim_save}Drug{drug_encode_dim_save}ActFun{activation_func}ActFunFinl{activation_func_final}MLPDim{dense_layer_dim}BatcSiz{batch_size}Epoc{num_epoch}Patien{patience}warmup{warmup_iters}Decre%{Decrease_percent}LR{learning_rate}{criterion}'\n",
    "hyperparameters = {\n",
    "    \"model_name\": model_name,\n",
    "    \"splitType\": splitType,\n",
    "    \"valueMultiply\": valueMultiply,\n",
    "    \"mut_encode_dim\": mut_encode_dim,\n",
    "    \"drug_encode_dim\": drug_encode_dim,\n",
    "    \"activation_func\": activation_func,  # ReLU activation function\n",
    "    \"activation_func_final\": activation_func_final,  # Sigmoid activation function\n",
    "    \"dense_layer_dim\": dense_layer_dim,\n",
    "    \"batch_size\": batch_size,\n",
    "    \"num_epoch\": num_epoch,  # for k fold CV\n",
    "    \"patience\": patience,\n",
    "    \"warmup_iters\": warmup_iters,\n",
    "    \"Decrease_percent\": Decrease_percent,\n",
    "    \"continuous\": continuous,\n",
    "    \"learning_rate\": learning_rate,\n",
    "    \"criterion\": criterion,\n",
    "    \"hyperparameter_print\": hyperparameter_print,\n",
    "    \"hyperparametersave\": hyperparametersave\n",
    "}\n"
   ]
  },
  {
   "cell_type": "code",
   "execution_count": 4,
   "metadata": {},
   "outputs": [
    {
     "name": "stdout",
     "output_type": "stream",
     "text": [
      "Training on device cuda.\n",
      "\n",
      "\n",
      "Datasets successfully loaded.\n",
      "(1442, 166)\n",
      "(480, 36)\n",
      "(480, 1442)\n",
      "(480, 1442)\n",
      "torch.Size([692160, 36])\n",
      "torch.Size([692160, 166])\n",
      "torch.Size([692160])\n",
      "data_AUC[1] tensor(0.9036, device='cuda:0')\n",
      "0.82050472\n",
      "id_unrepeat_train (389,)\n",
      "id_unrepeat_val (43,)\n",
      "id_unrepeat_test (48,)\n",
      "id_unrepeat_train_val (432,)\n",
      "id_train.shape (560938,)\n",
      "id_val.shape (62006,)\n",
      "id_test.shape (69216,)\n"
     ]
    },
    {
     "name": "stderr",
     "output_type": "stream",
     "text": [
      "100%|██████████| 3/3 [00:00<00:00, 8479.05it/s]\n"
     ]
    },
    {
     "name": "stdout",
     "output_type": "stream",
     "text": [
      "create dataset finished\n"
     ]
    },
    {
     "name": "stderr",
     "output_type": "stream",
     "text": [
      "100%|██████████| 3/3 [00:00<00:00, 16935.28it/s]\n"
     ]
    },
    {
     "name": "stdout",
     "output_type": "stream",
     "text": [
      "create dataset finished\n"
     ]
    },
    {
     "name": "stderr",
     "output_type": "stream",
     "text": [
      "100%|██████████| 3/3 [00:00<00:00, 1277.32it/s]"
     ]
    },
    {
     "name": "stdout",
     "output_type": "stream",
     "text": [
      "create dataset finished\n",
      "State_dict loaded successfully.\n"
     ]
    },
    {
     "name": "stderr",
     "output_type": "stream",
     "text": [
      "\n"
     ]
    }
   ],
   "source": [
    "loss_values_train, loss_values_validation, best_epoch, best_val_loss = run(hyperparameters,filename)"
   ]
  },
  {
   "cell_type": "code",
   "execution_count": null,
   "metadata": {},
   "outputs": [],
   "source": [
    "loss_curve(model_name, loss_values_train, loss_values_validation, best_epoch, best_val_loss, ylim_top=0.035)"
   ]
  },
  {
   "cell_type": "markdown",
   "metadata": {},
   "source": [
    "predict PDAC"
   ]
  },
  {
   "cell_type": "code",
   "execution_count": null,
   "metadata": {},
   "outputs": [],
   "source": [
    "import numpy as np\n",
    "import torch\n",
    "import torch.nn as nn\n",
    "import torch.optim as optim\n",
    "from torch.utils.data import DataLoader, TensorDataset\n",
    "from sklearn.model_selection import train_test_split\n",
    "import torch.nn.init as init\n",
    "from sklearn.model_selection import KFold\n",
    "import copy\n",
    "from tqdm import tqdm\n",
    "import seaborn as sns\n",
    "import matplotlib.pyplot as plt\n",
    "from scipy import stats\n",
    "\n",
    "from utils.load_data import load_ccl, load_AUC_matrix, load_drug\n",
    "from utils.data_repeat_to_instance import repeat_data\n",
    "from utils.Mut_Drug_Model import Mut_Drug_Model\n",
    "from utils.split_data_id import split_id\n",
    "from utils.create_dataloader import create_dataset\n",
    "from utils.train import train, evaluation\n",
    "from utils.correlation import correlation_func\n",
    "from utils.plot import loss_curve, correlation_density\n",
    "from utils.tools import get_data_value_range"
   ]
  },
  {
   "cell_type": "code",
   "execution_count": null,
   "metadata": {},
   "outputs": [],
   "source": [
    "#load data\n",
    "data_drug, drug_names  = load_drug(\"./PDAC_drug_MACCS.txt\")\n",
    "data_mut, gene_names_mut,ccl_names_mut  = load_ccl(\"./PDAC_matched_genenames_TCGA_CCLE_binary_mutation.txt\")"
   ]
  },
  {
   "cell_type": "code",
   "execution_count": null,
   "metadata": {},
   "outputs": [],
   "source": [
    "device = (torch.device('cuda') if torch.cuda.is_available()\n",
    "          else torch.device('cpu'))\n",
    "print(f\"Training on device {device}.\")"
   ]
  },
  {
   "cell_type": "code",
   "execution_count": null,
   "metadata": {},
   "outputs": [],
   "source": [
    "print(data_drug.shape)\n",
    "print(data_mut.shape)"
   ]
  },
  {
   "cell_type": "code",
   "execution_count": null,
   "metadata": {},
   "outputs": [],
   "source": [
    "data_mut, data_drug, _ =repeat_data(data_mut, data_drug, 1, splitType= 'byCCL', num_ccl=50, num_drug=8, device=device) "
   ]
  },
  {
   "cell_type": "code",
   "execution_count": null,
   "metadata": {},
   "outputs": [],
   "source": [
    "print(data_mut)"
   ]
  },
  {
   "cell_type": "code",
   "execution_count": null,
   "metadata": {},
   "outputs": [],
   "source": [
    "predict_dataset = TensorDataset(data_mut,data_drug)\n",
    "predict_loader = DataLoader(predict_dataset, shuffle=False)"
   ]
  },
  {
   "cell_type": "code",
   "execution_count": null,
   "metadata": {},
   "outputs": [],
   "source": [
    "# train_loss, train_targets, train_outputs = evaluation(model, activation_func_final, epoch, num_epoch, loss_values_validation, criterion, valueMultiply, train_loader, device, correlation='train', kfoldCV = None)"
   ]
  },
  {
   "cell_type": "code",
   "execution_count": null,
   "metadata": {},
   "outputs": [],
   "source": [
    "mut_encode_dim =[33,22,14] \n",
    "drug_encode_dim =[116,81,56] #\n",
    "activation_func = nn.ReLU()  # ReLU activation function\n",
    "activation_func_final = nn.Sigmoid()# sigmoid()\n",
    "dense_layer_dim = 200"
   ]
  },
  {
   "cell_type": "code",
   "execution_count": null,
   "metadata": {},
   "outputs": [],
   "source": [
    "model = Mut_Drug_Model(mut_encode_dim, drug_encode_dim, activation_func, activation_func_final, dense_layer_dim, device,\n",
    "                        num_mut_features=data_mut.shape[1], num_drug_features=data_drug.shape[1],\n",
    "                        TCGA_pretrain_weight_path= \"/root/Winnie/PDAC/results/Encoder_tcga_mut_33_22_14_best_loss_0.0078.pt\").to(device=device)\n",
    "\n",
    "model.load_state_dict(torch.load(\"./results/PDAC_Train_byCCL_mut_drug_1fold_BestValLoss_0.007486213509525571_MutEncoDim(33_22_14)_DrugEncoDim(116_81_56)_ActivaFuncReLU()_ActivaFuncFinalSigmoid()_MLPDim200_BatchSize1000_NumEpoch200_Patien20_warmupiters150_DecresPercen0.99_LearnRate1e-05.pt\"))  "
   ]
  },
  {
   "cell_type": "code",
   "execution_count": null,
   "metadata": {},
   "outputs": [],
   "source": [
    "predict_outputs = []\n",
    "model.eval()\n",
    "model.requires_grad = False\n",
    "with torch.no_grad():\n",
    "    for batch_idx,inputs in enumerate(predict_loader):\n",
    "        mut,drug, target = inputs[0].to(device=device),inputs[1].to(device=device), inputs[-1].to(device=device)\n",
    "        outputs = model(mut.to(torch.float32), drug.to(torch.float32))\n",
    "        predict_outputs.append(outputs.detach().cpu().numpy().reshape(-1))\n",
    "            "
   ]
  },
  {
   "cell_type": "code",
   "execution_count": null,
   "metadata": {},
   "outputs": [],
   "source": [
    "np.shape(np.array(predict_outputs).reshape(-1))"
   ]
  },
  {
   "cell_type": "code",
   "execution_count": null,
   "metadata": {},
   "outputs": [],
   "source": [
    "predict_outputs_list = [(item[0]) for item in predict_outputs]\n",
    "predict_outputs_list"
   ]
  },
  {
   "cell_type": "code",
   "execution_count": null,
   "metadata": {},
   "outputs": [],
   "source": [
    "patient_ID = [item for item in ccl_names_mut for _ in range(8)]\n",
    "print((patient_ID))\n",
    "\n",
    "drug_names_instance = drug_names * 50\n",
    "drug_names_instance\n"
   ]
  },
  {
   "cell_type": "code",
   "execution_count": null,
   "metadata": {},
   "outputs": [],
   "source": [
    "import seaborn as sns\n",
    "import matplotlib.pyplot as plt\n",
    "fig=plt.figure(figsize=(6, 5))\n",
    "sns.kdeplot(predict_outputs_list, color='red', label='predicted_AUC')\n",
    "plt.xlabel('AUC values',fontsize=15)\n",
    "# Set the y-axis label \n",
    "plt.ylabel('Density',fontsize=15)\n",
    "# Set the title of the plot\n",
    "plt.title('Density Plot of predicted_AUC values',fontsize=15)\n",
    "plt.legend(fontsize=12)\n",
    "plt.show()\n",
    "get_data_value_range(predict_outputs_list,\"GroundTruth_AUC\")"
   ]
  },
  {
   "cell_type": "code",
   "execution_count": null,
   "metadata": {},
   "outputs": [],
   "source": [
    "import random\n",
    "\n",
    "# Mapping labels to colors\n",
    "# Generate random colors for each label\n",
    "# label_to_color = {'GEMCITABINE': 'red', 'PACLITAXEL': 'blue', 'TS-1': 'green', 'Cisplatin':'yellow','ELOXATIN':'purple',\n",
    "#                   'FLUOROURACIL':'black','LEUCOVORIN':'light blue','IRINOTECAN':'brown'}\n",
    "# Get unique labels\n",
    "unique_labels = list(set(drug_names_instance))\n",
    "\n",
    "# Define a list of colors (ensure they are valid color names or RGB tuples)\n",
    "color_list = ['red', 'blue', 'green', 'gray', 'purple', 'black', 'orange','brown']\n",
    "\n",
    "# Map each label to a color\n",
    "label_to_color = {label: color_list[i % len(color_list)] for i, label in enumerate(unique_labels)}\n",
    "\n",
    "# Assign colors based on labels\n",
    "colors = [label_to_color[label] for label in drug_names_instance]\n",
    "\n",
    "# Plotting the dot plot\n",
    "plt.figure(figsize=(8, 6))\n",
    "plt.scatter(range(len(predict_outputs_list)), predict_outputs_list, c=colors, alpha=0.7)\n",
    "\n",
    "# Adding a legend\n",
    "for label in unique_labels:\n",
    "    plt.scatter([], [], c=label_to_color[label], label=label)\n",
    "\n",
    "plt.legend(title=\"Labels\",fontsize=11)\n",
    "plt.title('Dot Plot',fontsize=15)\n",
    "plt.xlabel('samples',fontsize=15)\n",
    "plt.ylabel('Predicted AUC',fontsize=15)\n",
    "plt.show()"
   ]
  },
  {
   "cell_type": "code",
   "execution_count": null,
   "metadata": {},
   "outputs": [],
   "source": [
    "import csv\n",
    "with open('./results/PDAC_predict_result.csv', 'w', newline='') as csvfile:\n",
    "    writer = csv.writer(csvfile)\n",
    "    writer.writerow(['Patient_ID', 'Drug_name', 'Predicted_AUC'])  # Write header\n",
    "    for i in range(len(patient_ID)):\n",
    "        writer.writerow([patient_ID[i], drug_names_instance[i], predict_outputs_list[i]])"
   ]
  }
 ],
 "metadata": {
  "kernelspec": {
   "display_name": "Python 3",
   "language": "python",
   "name": "python3"
  },
  "language_info": {
   "codemirror_mode": {
    "name": "ipython",
    "version": 3
   },
   "file_extension": ".py",
   "mimetype": "text/x-python",
   "name": "python",
   "nbconvert_exporter": "python",
   "pygments_lexer": "ipython3",
   "version": "3.10.12"
  }
 },
 "nbformat": 4,
 "nbformat_minor": 2
}
