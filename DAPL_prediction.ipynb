{
 "cells": [
  {
   "cell_type": "code",
   "execution_count": null,
   "metadata": {},
   "outputs": [],
   "source": [
    "# pip install subword-nmt seaborn lifelines openpyxl matplotlib scikit-learn openTSNE"
   ]
  },
  {
   "cell_type": "code",
   "execution_count": 1,
   "metadata": {},
   "outputs": [
    {
     "name": "stdout",
     "output_type": "stream",
     "text": [
      "Training on device cuda.\n"
     ]
    }
   ],
   "source": [
    "import pandas as pd\n",
    "import numpy as np\n",
    "import torch\n",
    "import torch.nn as nn\n",
    "import torch.optim as optim\n",
    "from torch.utils.data import  DataLoader, Subset\n",
    "import torch.nn.init as init\n",
    "from sklearn.model_selection import KFold\n",
    "from sklearn.preprocessing import MinMaxScaler\n",
    "import copy\n",
    "import seaborn as sns\n",
    "import matplotlib.pyplot as plt\n",
    "from scipy import stats\n",
    "import random\n",
    "import gc\n",
    "import os\n",
    "import importlib.util\n",
    "\n",
    "from utils.ESPF_drug2emb import drug2emb_encoder\n",
    "from utils.Model import Omics_DrugESPF_Model, Omics_DCSA_Model\n",
    "from utils.split_data_id import split_id,repeat_func\n",
    "from utils.create_dataloader import OmicsDrugDataset\n",
    "from utils.train import train, evaluation\n",
    "from utils.correlation import correlation_func\n",
    "from utils.plot import loss_curve, correlation_density,Density_Plot_of_AUC_Values\n",
    "from utils.tools import get_data_value_range,set_seed,get_vram_usage\n",
    "\n",
    "device = (torch.device('cuda') if torch.cuda.is_available() else torch.device('cpu'))\n",
    "print(f\"Training on device {device}.\")"
   ]
  },
  {
   "cell_type": "code",
   "execution_count": null,
   "metadata": {},
   "outputs": [
    {
     "name": "stdout",
     "output_type": "stream",
     "text": [
      "dense_layer_dim 132\n"
     ]
    }
   ],
   "source": [
    "# python3 ./main_kfold.py --config utils/config.py\n",
    "import torch.nn as nn\n",
    "from utils.Loss import Custom_LossFunction,Custom_Weighted_LossFunction,FocalMSELoss\n",
    "from utils.Custom_Activation_Function import ScaledSigmoid, ReLU_clamp\n",
    "from utils.Metrics import MetricsCalculator_nntorch\n",
    "\n",
    "test = True #False, True: batch_size = 3, num_epoch = 2, full dataset\n",
    "drug_df_path= \"../data/no_Imputation_PRISM_Repurposing_Secondary_Screen_data/MACCS(Secondary_Screen_treatment_info)_union_NOrepeat.csv\"\n",
    "AUC_df_path = \"../data/DAPL/gdsc1+2_ccle_z-score_sorted.csv\" # gdsc1+2_ccle_z-score　gdsc1+2_ccle_AUC\n",
    "omics_files = {\n",
    "    'Mut': \"../data/CCLE/CCLE_match_TCGAgene_PRISMandEXPsample_binary_mutation_476_6009.txt\",\n",
    "    'Exp': \"../data/DAPL/ccle_uq1000_feature_sorted.csv\", # \"../data/CCLE/CCLE_exp_476samples_4692genes.txt\",\n",
    "    # Add more omics types and paths as needed\n",
    "    }\n",
    "omics_dict = {'Mut':0,'Exp':1,'CN':2, 'Eff':3, 'Dep':4, 'Met':5}\n",
    "omics_data_dict = {}\n",
    "omics_data_tensor_dict = {}\n",
    "omics_numfeatures_dict = {}\n",
    "omics_encode_dim_dict ={'Mut':[128,32],'Exp':[128,32], # Dr.Chiu:exp[500,200,50] [1000,100,50]\n",
    "                        'CN':[100,50,30], 'Eff':[100,50,30], 'Dep':[100,50,30], 'Met':[100,50,30]}\n",
    "\n",
    "TCGA_pretrain_weight_path_dict = {'Mut': \"./results/Encoder_tcga_mut_1000_100_50_best_loss_0.0066.pt\",\n",
    "                                  'Exp': \"./results/Encoder_tcga_exp_1000_100_50_best_loss_0.7.pt\",\n",
    "                                  # Add more omics types and paths as needed\n",
    "                                }\n",
    "seed = 42\n",
    "#hyperparameter\n",
    "model_name = \"Omics_DCSA_Model\" # Omics_DrugESPF_Model  Omics_DCSA_Model\n",
    "AUCtransform = None #\"-log2\"\n",
    "splitType= 'byCCL' # byCCL byDrug\n",
    "kfoldCV = 2\n",
    "include_omics = ['Exp']\n",
    "max_drug_len=50 # 不夠補零補到50 / 超過取前50個subwords(index) !!!!須改方法!!!! \n",
    "drug_embedding_feature_size = 128\n",
    "ESPF = True # False True\n",
    "Drug_SelfAttention = False\n",
    "pos_emb_type = 'sinusoidal' # 'learned' 'sinusoidal'\n",
    "#需再修改-----------\n",
    "\n",
    "intermediate_size =512\n",
    "num_attention_heads = 8        \n",
    "attention_probs_dropout_prob = 0.1\n",
    "hidden_dropout_prob = 0.1\n",
    "\n",
    "if ESPF is True:\n",
    "    drug_encode_dims =[1600,400,100] # 50*128  \n",
    "    dense_layer_dim = sum(omics_encode_dim_dict[omic_type][1] for omic_type in include_omics) + drug_encode_dims[2] # MLPDim\n",
    "elif ESPF is False:\n",
    "    drug_encode_dims =[110,55,22]\n",
    "    dense_layer_dim = sum(omics_encode_dim_dict[omic_type][1] for omic_type in include_omics) + drug_encode_dims[2] # MLPDim\n",
    "elif model_name == \"Omics_DCSA_Model\":\n",
    "    drug_encode_dims =[(max_drug_len+len(include_omics))*(drug_embedding_feature_size+num_attention_heads)+ (len(include_omics)*128), 700, 70, 1] #\n",
    "    dense_layer_dim = None\n",
    "print(\"drug_encode_dims\",drug_encode_dims)\n",
    "print(\"dense_layer_dim\",dense_layer_dim)\n",
    "#需再修改-------------\n",
    "TrackGradient = False # False True\n",
    "\n",
    "activation_func = nn.ReLU()  # ReLU activation function # Leaky ReLu\n",
    "activation_func_final = nn.Sigmoid() # ScaledSigmoid(scale=8) GroundT range ( 0 ~ scale ) # ReLU_clamp(max=8)\n",
    "#nn.Sigmoid()or ReLU() or Linear/identity(when -log2AUC)\n",
    "batch_size = 500\n",
    "num_epoch = 200 # for k fold CV \n",
    "patience = 20\n",
    "warmup_iters = 60\n",
    "Decrease_percent = 0.9\n",
    "continuous = True\n",
    "learning_rate=1e-04\n",
    "criterion = Custom_LossFunction(loss_type=\"MSE\", loss_lambda=1.0, regular_type=None, regular_lambda=1e-06) #nn.MSELoss()#\n",
    "#criterion =  FocalMSELoss(alpha=8.0, gamma=1.0, regular_type=None, regular_lambda=1e-05)\n",
    "metrics_type_set = [ \"MAE\", \"R^2\"] #\"MSE\",\n",
    "metrics_calculator = MetricsCalculator_nntorch(types = metrics_type_set)\n",
    "\"\"\" A customizable loss function class.\n",
    "    Args:\n",
    "        loss_type (str): The type of loss to use (\"RMSE\", \"MSE\", \"MAE\", \"MAE+MSE\", \"MAE+RMSE\")/(\"weighted_RMSE\", \"weighted_MSE\", \"weighted_MAE\", \"weighted_MAE+MSE\", \"weighted_MAE+RMSE\").\n",
    "        loss_lambda (float): The lambda weight for the additional loss (MSE or RMSE) if applicable. Default is MAE+ 1.0*(MSE or RMSE).\n",
    "        regular_type (str): The type of regularization to use (\"L1\", \"L2\", \"L1+L2\"), or None for no regularization.\n",
    "        regular_lambda (float): The lambda weight for regularization. Default is 1e-05.\"\"\"\n",
    "\n",
    "hyperparameter_print = f' omics_dict ={omics_dict}\\n omics_files ={omics_files}\\n TCGA_pretrain_weight_path_dict ={TCGA_pretrain_weight_path_dict}\\n seed ={seed}\\n  model_name ={model_name}\\n AUCtransform ={AUCtransform}\\n splitType ={splitType}\\n kfoldCV ={kfoldCV}\\n omics_encode_dim ={[(omic_type,omics_encode_dim_dict[omic_type]) for omic_type in include_omics]}\\n max_drug_len ={max_drug_len}\\n drug_embedding_feature_size ={drug_embedding_feature_size}\\n ESPF ={ESPF}\\n Drug_SelfAttention ={Drug_SelfAttention}\\n pos_emb_type ={pos_emb_type}\\n intermediate_size ={intermediate_size}\\n num_attention_heads ={num_attention_heads}\\n attention_probs_dropout_prob ={attention_probs_dropout_prob}\\n hidden_dropout_prob ={hidden_dropout_prob}\\n drug_encode_dims ={drug_encode_dims}\\n dense_layer_dim = {dense_layer_dim}\\n activation_func = {activation_func}\\n activation_func_final = {activation_func_final}\\n batch_size = {batch_size}\\n num_epoch = {num_epoch}\\n patience = {patience}\\n warmup_iters = {warmup_iters}\\n Decrease_percent = {Decrease_percent}\\n continuous ={continuous}\\n learning_rate = {learning_rate}\\n criterion ={criterion}\\n'\n",
    "\n",
    "__translation_table__ = str.maketrans({\n",
    "    \"*\": \"\",    \"/\": \"\",    \":\": \"-\",    \"%\": \"\",\n",
    "    \"'\": \"\",    \"\\\"\": \"\",    \"[\": \"\",    \"]\": \"\",\n",
    "    \",\": \"\" })\n",
    "\n",
    "hyperparameter_folder_part = (f'Model{model_name}_{splitType}_Omics{[omic_type for omic_type in include_omics]}_ESPF{ESPF}_DrugSelfAttention{Drug_SelfAttention}').translate(__translation_table__)\n"
   ]
  },
  {
   "cell_type": "code",
   "execution_count": 32,
   "metadata": {},
   "outputs": [
    {
     "name": "stdout",
     "output_type": "stream",
     "text": [
      "Exp tensor shape: torch.Size([76, 1426])\n",
      "Exp num_features 1426\n"
     ]
    }
   ],
   "source": [
    "set_seed(seed)\n",
    "for omic_type in include_omics:\n",
    "    # Read the file\n",
    "    omics_data_dict[omic_type] = pd.read_csv(omics_files[omic_type], sep=',', index_col=0)\n",
    "\n",
    "    if test is True:\n",
    "        # Specify the index as needed\n",
    "        omics_data_dict[omic_type] = omics_data_dict[omic_type][:76]  # Adjust the row selection as needed  \n",
    "    if omic_type == \"Exp\":# apply Column-wise Min-Max Normalization \n",
    "        scaler = MinMaxScaler() \n",
    "        omics_data_dict[omic_type] = pd.DataFrame(scaler.fit_transform(omics_data_dict[omic_type]),index=omics_data_dict[omic_type].index,columns=omics_data_dict[omic_type].columns)\n",
    "\n",
    "    omics_data_tensor_dict[omic_type]  = torch.tensor(omics_data_dict[omic_type].values, dtype=torch.float32).to(device)\n",
    "    omics_numfeatures_dict[omic_type] = omics_data_tensor_dict[omic_type].shape[1]\n",
    " \n",
    "    print(f\"{omic_type} tensor shape:\", omics_data_tensor_dict[omic_type].shape)\n",
    "    print(f\"{omic_type} num_features\",omics_numfeatures_dict[omic_type])"
   ]
  },
  {
   "cell_type": "code",
   "execution_count": null,
   "metadata": {},
   "outputs": [
    {
     "name": "stdout",
     "output_type": "stream",
     "text": [
      "(1440, 9)\n",
      "(966, 449)\n",
      "AUC_df (42, 449)\n",
      "drug_df (1440, 9)\n",
      "AUC_df (42, 449)\n"
     ]
    }
   ],
   "source": [
    "drug_df = pd.read_csv( drug_df_path, sep=',', index_col=0)\n",
    "AUC_df = pd.read_csv( AUC_df_path, sep=',', index_col=0)\n",
    "\n",
    "# matched AUCfile and omics_data samples\n",
    "print(drug_df.shape)\n",
    "print(AUC_df.shape)\n",
    "# get_data_value_range(AUC_df.values.tolist(),\"AUC_df\", file=None)\n",
    "# sns.kdeplot(np.concatenate(np.array(AUC_df.values)), fill=True, color='blue')\n",
    "# plt.show()\n",
    "\n",
    "matched_samples = sorted(set(AUC_df.T.columns) & set(list(omics_data_dict.values())[0].T.columns))\n",
    "AUC_df= (AUC_df.T[matched_samples]).T\n",
    "print(\"AUC_df\",AUC_df.shape)\n",
    "    \n",
    "if AUCtransform == \"-log2\":\n",
    "    AUC_df = -np.log2(AUC_df)\n",
    "if AUCtransform == \"-log10\":\n",
    "    AUC_df = -np.log10(AUC_df)\n",
    "    \n",
    "print(\"drug_df\",drug_df.shape)\n",
    "print(\"AUC_df\",AUC_df.shape)"
   ]
  },
  {
   "cell_type": "code",
   "execution_count": null,
   "metadata": {},
   "outputs": [
    {
     "name": "stdout",
     "output_type": "stream",
     "text": [
      "EXP : \n",
      "Range: 1.00000000\n",
      "Minimum: 0.00000000\n",
      "Maximum: 1.00000000\n",
      "Mean: 0.41441883\n",
      "Median: 0.43089333\n",
      "Standard Deviation: 0.30707557\n",
      "Skewness: 0.08946851\n",
      "binary data:False\n",
      "-------------------------------------\n"
     ]
    },
    {
     "data": {
      "image/png": "[encoded data removed]",
      "text/plain": [
       "<Figure size 640x480 with 1 Axes>"
      ]
     },
     "metadata": {},
     "output_type": "display_data"
    }
   ],
   "source": [
    "# from utils.tools import get_data_value_range\n",
    "# get_data_value_range(omics_data_dict[\"Exp\"].values.tolist(),\"EXP\", file=None)\n",
    "# sns.kdeplot(np.concatenate(np.array(exp_df_sorted.values)), fill=True, color='blue')\n",
    "# plt.show()"
   ]
  },
  {
   "cell_type": "code",
   "execution_count": null,
   "metadata": {},
   "outputs": [
    {
     "name": "stdout",
     "output_type": "stream",
     "text": [
      "batch_size 3 num_epoch: 2\n",
      "drug_df (42, 9)\n",
      "AUC_df (76, 42)\n",
      "kfoldCV 2\n",
      "weighted_threshold: None\n"
     ]
    }
   ],
   "source": [
    "if test is True:\n",
    "    batch_size = 3\n",
    "    num_epoch = 2\n",
    "    print(\"batch_size\",batch_size,\"num_epoch:\",num_epoch)\n",
    "    drug_df=drug_df[:42]\n",
    "    AUC_df=AUC_df.iloc[:76,:42]\n",
    "    print(\"drug_df\",drug_df.shape)\n",
    "    print(\"AUC_df\",AUC_df.shape)\n",
    "    kfoldCV = 2\n",
    "    print(\"kfoldCV\",kfoldCV)\n",
    "\n",
    "\n",
    "if 'weighted' in criterion.loss_type :    \n",
    "    # Set threshold based on the 90th percentile # 將高於threshold的AUC權重增加\n",
    "    weighted_threshold = np.nanpercentile(AUC_df.values, 90)    \n",
    "    total_samples = (~np.isnan(AUC_df.values)).sum().item()\n",
    "    fewWt_samples = (AUC_df.values > weighted_threshold).sum().item()\n",
    "    moreWt_samples = total_samples - fewWt_samples\n",
    "    few_weight = total_samples / (2 * fewWt_samples)  \n",
    "    more_weight = total_samples / (2 * moreWt_samples)   \n",
    "    # print(\"weighted_threshold\",weighted_threshold)\n",
    "    # print(\"total_samples\",total_samples)\n",
    "    # print(\"few_samples\",few_samples)\n",
    "    # print(\"more_samples\",more_samples)\n",
    "    # print(\"few_weight\",few_weight)\n",
    "    # print(\"more_weight\",more_weight)\n",
    "else:\n",
    "    weighted_threshold = None\n",
    "    few_weight = None\n",
    "    more_weight = None\n",
    "print(\"weighted_threshold:\",weighted_threshold)"
   ]
  },
  {
   "cell_type": "code",
   "execution_count": null,
   "metadata": {},
   "outputs": [],
   "source": [
    "import codecs\n",
    "from subword_nmt.apply_bpe import BPE\n",
    "import numpy as np\n",
    "\n",
    "def drug2emb_encoder(smile,vocab_path,sub_csv, max_d=50): # drug_smiles['smiles']\n",
    "    \n",
    "    bpe_codes_drug = codecs.open(vocab_path) # token\n",
    "    # dbpe: initiate BPE function \n",
    "    dbpe = BPE(bpe_codes_drug, merges=-1, separator='') # merges=-1 : no limit on the number of merge operations, and BPE will continue merging subword units until it can no longer find any meaningful merges. \n",
    "                                                        #In other words, it will keep merging until the training process converges.\n",
    "                                                        #separator='' : uses an empty string ('') as a separator between subword units.\n",
    "    idx2word_d = sub_csv['index'].values # index : substructure EX:CC\n",
    "    words2idx_d = dict(zip(idx2word_d, range(0, len(idx2word_d))))# zip substructure with it's substructure character length. EX:(CC,2)\n",
    "\n",
    "    tokens = dbpe.process_line(smile).split() # BPE tokenizes the input SMILES # tokens=vocabulary set # ex:[ 'Nc1nc(', 'O)', 'c2nc(', 'Br)', 'n(', '[C@@H]3' ]\n",
    "        # tokens: list of subwords of a word\n",
    "    try:\n",
    "        i1 = np.asarray([words2idx_d[subword ] for subword  in tokens]) # i1: subword在sub_csv file中的index ; i: tokens中的subword\n",
    "    except:# 如果tokens是空值，或tokens中有subword沒有在words2idx_d字典裡\n",
    "        i1 = np.array([0])\n",
    "    l = len(i1)\n",
    "    if l < max_d: # subword list 長度小於50\n",
    "        i = np.pad(i1, (0, max_d - l), 'constant', constant_values=0) # 補零補到50，前面是subword在sub_csv file中的index\n",
    "        input_mask = ([1] * l) + ([0] * (max_d - l)) # i的mask\n",
    "    else: # subword list 長度大於等於50\n",
    "        i = i1[:max_d] # 取前50個subwords(index) # !!!!須改方法!!!!\n",
    "        input_mask = [1] * max_d # i的mask\n",
    "    return i, np.asarray(input_mask),tokens"
   ]
  },
  {
   "cell_type": "code",
   "execution_count": null,
   "metadata": {},
   "outputs": [
    {
     "name": "stdout",
     "output_type": "stream",
     "text": [
      "num_ccl,num_drug:  76 42\n",
      "torch.Size([76, 42])\n",
      "['Nc1nc(', 'O)', 'c2nc(', 'Br)', 'n(', '[C@@H]3', 'O[C@@H]4', 'CO', 'P', '(O)', '(=O)', 'O[C@H]4', '[C@H]3', 'O)c2', 'n1']\n"
     ]
    }
   ],
   "source": [
    "if ESPF is True:\n",
    "    drug_smiles =drug_df[\"smiles\"] # \n",
    "    drug_names =drug_df.index\n",
    "    # 挑出重複的SMILES\n",
    "    duplicate =  drug_smiles[drug_smiles.duplicated(keep=False)]\n",
    "    vocab_path = \"./ESPF/drug_codes_chembl_freq_1500.txt\" # token\n",
    "    sub_csv = pd.read_csv(\"./ESPF/subword_units_map_chembl_freq_1500.csv\")# token with frequency\n",
    "    drug_encode = pd.Series(drug_smiles).apply(drug2emb_encoder, args=(vocab_path, sub_csv, max_drug_len))\n",
    "    drug_features_tensor = torch.tensor(np.array([i[:2] for i in drug_encode.values]), dtype=torch.long).to(device)#drug_features_tensor = torch.tensor(np.array(drug_encode.values.tolist()), dtype=torch.long).to(device)\n",
    "else:\n",
    "    drug_encode = drug_df[\"MACCS166bits\"]\n",
    "    drug_encode_list = [list(map(int, item.split(','))) for item in drug_encode.values]\n",
    "    print(\"MACCS166bits_drug_encode_list type: \",type(drug_encode_list))\n",
    "    drug_features_tensor = torch.tensor(np.array(drug_encode_list), dtype=torch.long).to(device)\n",
    "#--------------------------------------------------------------------------------------------------------------------------\n",
    "num_ccl = list(omics_data_dict.values())[0].shape[0]\n",
    "num_drug = drug_encode.shape[0]\n",
    "print(\"num_ccl,num_drug: \",num_ccl,num_drug)\n",
    "\n",
    "# Convert your data to tensors if they're in numpy\n",
    "response_matrix_tensor = torch.tensor(AUC_df.values, dtype=torch.float32).to(device)\n",
    "print(response_matrix_tensor.shape)\n",
    "print(drug_encode.values[0][2])"
   ]
  },
  {
   "cell_type": "code",
   "execution_count": null,
   "metadata": {},
   "outputs": [
    {
     "name": "stdout",
     "output_type": "stream",
     "text": [
      "id_unrepeat_train (60,)\n",
      "id_unrepeat_val (8,)\n",
      "id_unrepeat_test (8,)\n",
      "id_unrepeat_train_val (68,)\n",
      "id_test.shape (336,)\n"
     ]
    }
   ],
   "source": [
    "id_unrepeat_test, id_unrepeat_train_val = split_id(num_ccl,num_drug,splitType,kfoldCV,repeat=True)\n",
    "# repeat the test id\n",
    "if splitType == \"byCCL\":\n",
    "    repeatNum = num_drug\n",
    "elif splitType == \"byDrug\":\n",
    "    repeatNum = num_ccl\n",
    "id_test = repeat_func(id_unrepeat_test, repeatNum, setname='test')\n"
   ]
  },
  {
   "cell_type": "code",
   "execution_count": null,
   "metadata": {},
   "outputs": [
    {
     "name": "stdout",
     "output_type": "stream",
     "text": [
      "[630 631 632 633 634 635 636 637 638 639]\n"
     ]
    }
   ],
   "source": [
    "print(id_test[:10])"
   ]
  }
 ],
 "metadata": {
  "kernelspec": {
   "display_name": "Python 3",
   "language": "python",
   "name": "python3"
  },
  "language_info": {
   "codemirror_mode": {
    "name": "ipython",
    "version": 3
   },
   "file_extension": ".py",
   "mimetype": "text/x-python",
   "name": "python",
   "nbconvert_exporter": "python",
   "pygments_lexer": "ipython3",
   "version": "3.10.12"
  }
 },
 "nbformat": 4,
 "nbformat_minor": 2
}
